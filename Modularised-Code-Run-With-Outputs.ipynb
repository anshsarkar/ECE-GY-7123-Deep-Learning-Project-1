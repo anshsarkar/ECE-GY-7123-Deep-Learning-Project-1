{
 "cells": [
  {
   "cell_type": "code",
   "execution_count": 1,
   "id": "c030448e",
   "metadata": {
    "execution": {
     "iopub.execute_input": "2025-03-15T04:23:31.791538Z",
     "iopub.status.busy": "2025-03-15T04:23:31.791264Z",
     "iopub.status.idle": "2025-03-15T04:23:39.848189Z",
     "shell.execute_reply": "2025-03-15T04:23:39.847269Z"
    },
    "papermill": {
     "duration": 8.06444,
     "end_time": "2025-03-15T04:23:39.849728",
     "exception": false,
     "start_time": "2025-03-15T04:23:31.785288",
     "status": "completed"
    },
    "tags": []
   },
   "outputs": [],
   "source": [
    "# Importing all the necessary libraries for the project\n",
    "import numpy as np\n",
    "import matplotlib.pyplot as plt\n",
    "import os\n",
    "import pickle\n",
    "import torch\n",
    "import torch.nn as nn\n",
    "import torch.optim as optim\n",
    "import torch.nn.functional as F\n",
    "from torchsummary import summary\n",
    "from torch.optim.optimizer import Optimizer\n",
    "from torch.optim import Adam\n",
    "from collections import defaultdict\n",
    "\n",
    "import torchvision\n",
    "import torchvision.transforms as transforms\n",
    "from torchvision.datasets.vision import VisionDataset\n",
    "\n",
    "import os\n",
    "from tqdm import tqdm\n",
    "from typing import Any, Callable, Optional, Tuple, Union\n",
    "from pathlib import Path\n",
    "from PIL import Image\n",
    "import pandas as pd"
   ]
  },
  {
   "cell_type": "code",
   "execution_count": 2,
   "id": "358f2f17",
   "metadata": {
    "execution": {
     "iopub.execute_input": "2025-03-15T04:23:39.860344Z",
     "iopub.status.busy": "2025-03-15T04:23:39.859974Z",
     "iopub.status.idle": "2025-03-15T04:23:39.868834Z",
     "shell.execute_reply": "2025-03-15T04:23:39.868211Z"
    },
    "papermill": {
     "duration": 0.015092,
     "end_time": "2025-03-15T04:23:39.870022",
     "exception": false,
     "start_time": "2025-03-15T04:23:39.854930",
     "status": "completed"
    },
    "tags": []
   },
   "outputs": [],
   "source": [
    "# Setting seed values for reproducibility\n",
    "\n",
    "seed = 1029\n",
    "os.environ['PYTHONHASHSEED'] = str(seed)\n",
    "np.random.seed(seed)\n",
    "torch.manual_seed(seed)\n",
    "torch.cuda.manual_seed(seed)\n",
    "torch.cuda.manual_seed_all(seed)\n",
    "# some cudnn methods can be random even after fixing the seed\n",
    "# unless you tell it to be deterministic\n",
    "torch.backends.cudnn.deterministic = True"
   ]
  },
  {
   "cell_type": "markdown",
   "id": "448d61d9",
   "metadata": {
    "papermill": {
     "duration": 0.004303,
     "end_time": "2025-03-15T04:23:39.878840",
     "exception": false,
     "start_time": "2025-03-15T04:23:39.874537",
     "status": "completed"
    },
    "tags": []
   },
   "source": [
    "#### Defining Parameters and Hyperparameters"
   ]
  },
  {
   "cell_type": "code",
   "execution_count": 3,
   "id": "087fc077",
   "metadata": {
    "execution": {
     "iopub.execute_input": "2025-03-15T04:23:39.888848Z",
     "iopub.status.busy": "2025-03-15T04:23:39.888481Z",
     "iopub.status.idle": "2025-03-15T04:23:39.896190Z",
     "shell.execute_reply": "2025-03-15T04:23:39.895526Z"
    },
    "papermill": {
     "duration": 0.013949,
     "end_time": "2025-03-15T04:23:39.897310",
     "exception": false,
     "start_time": "2025-03-15T04:23:39.883361",
     "status": "completed"
    },
    "tags": []
   },
   "outputs": [],
   "source": [
    "# Defining variables, parameters and hyperparameters for the run\n",
    "\n",
    "run_on_kaggle = 1                           # Set this to 1 if running on Kaggle, 0 if running on local machine\n",
    "\n",
    "# Setting up the data directories and model save path based on the run environment\n",
    "if run_on_kaggle:\n",
    "    train_data_dir = '/kaggle/input/deep-learning-spring-2025-project-1/cifar-10-python'\n",
    "    val_data_dir = '/kaggle/input/deep-learning-spring-2025-project-1/cifar-10-python'\n",
    "    test_data_dir = '/kaggle/input/deep-learning-spring-2025-project-1/cifar_test_nolabel.pkl'\n",
    "    model_save_path = './'\n",
    "    num_of_workers = 16\n",
    "    download_data = False\n",
    "\n",
    "else:\n",
    "    base_dir = './data'\n",
    "    train_data_dir = './data/cifar-10-batches-py'\n",
    "    val_data_dir = './data/cifar-10-batches-py'\n",
    "    test_data_dir = './data/cifar_test_nolabel.pkl'\n",
    "    model_save_path = './checkpoint'\n",
    "    num_of_workers = 0\n",
    "    download_data = False\n",
    "\n",
    "    if not os.path.exists(base_dir):\n",
    "        os.makedirs(base_dir)\n",
    "    \n",
    "    if not os.path.exists(model_save_path):\n",
    "        os.makedirs(model_save_path)\n",
    "    \n",
    "    if not os.path.exists(train_data_dir):\n",
    "        download_data = True\n",
    "        train_data_dir = './data'\n",
    "        val_data_dir = './data'\n",
    "    \n",
    "    if not os.path.exists(val_data_dir):\n",
    "        download_data = True\n",
    "    \n",
    "    if not os.path.exists(test_data_dir):\n",
    "       print(\"No Label Test Data not found\")\n",
    "\n",
    "\n",
    "# Defining Parameters and Hyperparameters\n",
    "train_batch_size = 128\n",
    "val_batch_size = 100\n",
    "test_batch_size = 100\n",
    "num_epochs = 200\n",
    "learning_rate = 0.1\n",
    "momentum = 0.9\n",
    "weight_decay = 5e-4\n",
    "cosine_annealing_T_max = num_epochs\n",
    "\n",
    "\n",
    "# Defining Model Configurations and Techniques\n",
    "use_cutout = 1                              # Set this to 1 if using Cutout, 0 if not using Cutout\n",
    "use_mixup = 0                               # Set this to 1 if using Mixup, 0 if not using Mixup\n",
    "use_label_smoothing = 1                     # Set this to 1 if using Label Smoothing, 0 if not using Label Smoothing\n",
    "use_lookahead = 1                           # Set this to 1 if using Lookahead, 0 if not using Lookahead\n",
    "\n",
    "\n",
    "if use_cutout:\n",
    "    cutout_n_holes = 1\n",
    "    cutout_length = 8\n",
    "\n",
    "if use_mixup:\n",
    "    mixup_alpha = 0.75\n",
    "\n",
    "if use_label_smoothing:\n",
    "    label_smoothing_epsilon = 0.2\n",
    "\n",
    "if use_lookahead:\n",
    "    lookahead_k = 5\n",
    "    lookahead_alpha = 0.5"
   ]
  },
  {
   "cell_type": "code",
   "execution_count": 4,
   "id": "ca4e2ff2",
   "metadata": {
    "execution": {
     "iopub.execute_input": "2025-03-15T04:23:39.906812Z",
     "iopub.status.busy": "2025-03-15T04:23:39.906600Z",
     "iopub.status.idle": "2025-03-15T04:23:39.954097Z",
     "shell.execute_reply": "2025-03-15T04:23:39.953075Z"
    },
    "papermill": {
     "duration": 0.054029,
     "end_time": "2025-03-15T04:23:39.955740",
     "exception": false,
     "start_time": "2025-03-15T04:23:39.901711",
     "status": "completed"
    },
    "tags": []
   },
   "outputs": [
    {
     "name": "stdout",
     "output_type": "stream",
     "text": [
      "Using cuda device\n"
     ]
    }
   ],
   "source": [
    "device = \"cuda\" if torch.cuda.is_available() else \"cpu\"\n",
    "print(f\"Using {device} device\")"
   ]
  },
  {
   "cell_type": "code",
   "execution_count": 5,
   "id": "1fdec56e",
   "metadata": {
    "execution": {
     "iopub.execute_input": "2025-03-15T04:23:39.965978Z",
     "iopub.status.busy": "2025-03-15T04:23:39.965732Z",
     "iopub.status.idle": "2025-03-15T04:23:39.975770Z",
     "shell.execute_reply": "2025-03-15T04:23:39.975113Z"
    },
    "papermill": {
     "duration": 0.01631,
     "end_time": "2025-03-15T04:23:39.976840",
     "exception": false,
     "start_time": "2025-03-15T04:23:39.960530",
     "status": "completed"
    },
    "tags": []
   },
   "outputs": [],
   "source": [
    "# Cutout Implementation for Data Augmentation\n",
    "class Cutout(object):\n",
    "    \"\"\"Randomly mask out one or more patches from an image.\n",
    "\n",
    "    Args:\n",
    "        n_holes (int): Number of patches to cut out of each image.\n",
    "        length (int): The length (in pixels) of each square patch.\n",
    "    \"\"\"\n",
    "    def __init__(self, n_holes, length):\n",
    "        self.n_holes = n_holes\n",
    "        self.length = length\n",
    "\n",
    "    def __call__(self, img):\n",
    "        \"\"\"\n",
    "        Args:\n",
    "            img (Tensor): Tensor image of size (C, H, W).\n",
    "        Returns:\n",
    "            Tensor: Image with n_holes of dimension length x length cut out of it.\n",
    "        \"\"\"\n",
    "        h = img.size(1)\n",
    "        w = img.size(2)\n",
    "\n",
    "        mask = np.ones((h, w), np.float32)\n",
    "\n",
    "        for n in range(self.n_holes):\n",
    "            y = np.random.randint(h)\n",
    "            x = np.random.randint(w)\n",
    "\n",
    "            y1 = np.clip(y - self.length // 2, 0, h)\n",
    "            y2 = np.clip(y + self.length // 2, 0, h)\n",
    "            x1 = np.clip(x - self.length // 2, 0, w)\n",
    "            x2 = np.clip(x + self.length // 2, 0, w)\n",
    "\n",
    "            mask[y1: y2, x1: x2] = 0.\n",
    "\n",
    "        mask = torch.from_numpy(mask)\n",
    "        mask = mask.expand_as(img)\n",
    "        img = img * mask\n",
    "\n",
    "        return img\n",
    "\n",
    "def prepare_data(train_data_dir, val_data_dir):\n",
    "    '''\n",
    "    Function to prepare the data for training and validation. This will return the train and validation loader.\n",
    "    It will also apply data augmentation and data normalization to the data.\n",
    "    '''\n",
    "\n",
    "    # Data Augmentation and Transformation for the Training Data\n",
    "    train_transform = transforms.Compose([\n",
    "        transforms.RandomCrop(32, padding=4),\n",
    "        transforms.RandomHorizontalFlip(),\n",
    "        transforms.AutoAugment(transforms.AutoAugmentPolicy.CIFAR10),\n",
    "        transforms.ToTensor(),\n",
    "        transforms.Normalize((0.4914, 0.4822, 0.4465), (0.2023, 0.1994, 0.2010)),\n",
    "    ])\n",
    "\n",
    "    # Data Transformation with Cutout for the Training Data\n",
    "    train_transform_cutout = transforms.Compose([\n",
    "        transforms.RandomCrop(32, padding=4),\n",
    "        transforms.RandomHorizontalFlip(),\n",
    "        transforms.AutoAugment(transforms.AutoAugmentPolicy.CIFAR10),\n",
    "        transforms.ToTensor(),\n",
    "        transforms.Normalize((0.4914, 0.4822, 0.4465), (0.2023, 0.1994, 0.2010)),\n",
    "        Cutout(n_holes=cutout_n_holes, length=cutout_length)\n",
    "    ])\n",
    "\n",
    "    # Data Augmentation and Transformation for the Validation Data\n",
    "    val_transform = transforms.Compose([\n",
    "        transforms.ToTensor(),\n",
    "        transforms.Normalize((0.4914, 0.4822, 0.4465), (0.2023, 0.1994, 0.2010)),\n",
    "    ])\n",
    "\n",
    "    if use_cutout:\n",
    "        final_train_transform = train_transform_cutout\n",
    "    else:\n",
    "        final_train_transform = train_transform\n",
    "\n",
    "    # Loading the CIFAR-10 Training and Validation Data\n",
    "    train_dataset = torchvision.datasets.CIFAR10(root=train_data_dir, train=True, download=download_data, transform=final_train_transform)\n",
    "    val_dataset = torchvision.datasets.CIFAR10(root=val_data_dir, train=False, download=download_data, transform=val_transform)\n",
    "\n",
    "    # Creating the Data Loaders for Training and Validation\n",
    "    train_loader = torch.utils.data.DataLoader(train_dataset, batch_size=train_batch_size, shuffle=True, num_workers=num_of_workers)\n",
    "    val_loader = torch.utils.data.DataLoader(val_dataset, batch_size=val_batch_size, shuffle=False, num_workers=num_of_workers)\n",
    "\n",
    "    return train_loader, val_loader"
   ]
  },
  {
   "cell_type": "code",
   "execution_count": 6,
   "id": "66b30f72",
   "metadata": {
    "execution": {
     "iopub.execute_input": "2025-03-15T04:23:39.986971Z",
     "iopub.status.busy": "2025-03-15T04:23:39.986731Z",
     "iopub.status.idle": "2025-03-15T04:23:39.997851Z",
     "shell.execute_reply": "2025-03-15T04:23:39.996977Z"
    },
    "papermill": {
     "duration": 0.017514,
     "end_time": "2025-03-15T04:23:39.998972",
     "exception": false,
     "start_time": "2025-03-15T04:23:39.981458",
     "status": "completed"
    },
    "tags": []
   },
   "outputs": [],
   "source": [
    "class BasicBlock(nn.Module):\n",
    "    expansion = 1\n",
    "\n",
    "    def __init__(self, in_channels, out_channels, stride=1, kernel=3, shortcut_kernel=1, dropout = 0.0):\n",
    "        super(BasicBlock, self).__init__()\n",
    "        # First convolutional layer\n",
    "        self.conv1 = nn.Conv2d(in_channels, out_channels, kernel_size=kernel, stride=stride, padding=1, bias=False)\n",
    "        self.bn1 = nn.BatchNorm2d(out_channels)\n",
    "        # Second convolutional layer\n",
    "        self.conv2 = nn.Conv2d(out_channels, out_channels, kernel_size=kernel, stride=1, padding=1, bias=False)\n",
    "        self.bn2 = nn.BatchNorm2d(out_channels)\n",
    "\n",
    "        # Shortcut connection\n",
    "        self.shortcut = nn.Sequential()\n",
    "        if stride != 1 or in_channels != self.expansion * out_channels:\n",
    "            self.shortcut = nn.Sequential(\n",
    "                nn.Conv2d(in_channels, self.expansion * out_channels, kernel_size=shortcut_kernel, stride=stride, bias=False),\n",
    "                nn.BatchNorm2d(self.expansion * out_channels)\n",
    "            )\n",
    "\n",
    "    def forward(self, x):\n",
    "        # Apply first convolution, batch norm, and ReLU\n",
    "        out = F.relu(self.bn1(self.conv1(x)))\n",
    "        # Apply second convolution and batch norm\n",
    "        out = self.bn2(self.conv2(out))\n",
    "        # Add shortcut connection\n",
    "        out += self.shortcut(x)\n",
    "        # Apply final ReLU\n",
    "        out = F.relu(out)\n",
    "        return out\n",
    "\n",
    "\n",
    "class ResNet(nn.Module):\n",
    "    def __init__(self, block, num_blocks, channels, strides, kernel_size, shortcut_kernel_size, pool_size, dropout, num_classes=10):\n",
    "        super(ResNet, self).__init__()\n",
    "        self.in_channels = channels[0]\n",
    "        self.kernel_size = kernel_size\n",
    "        self.shortcut_kernel_size = shortcut_kernel_size\n",
    "        self.pool_size = pool_size\n",
    "\n",
    "        # Initial convolution layer\n",
    "        self.conv1 = nn.Conv2d(3, channels[0], kernel_size=3, stride=1, padding=1, bias=False)\n",
    "        self.bn1 = nn.BatchNorm2d(channels[0])\n",
    "\n",
    "\n",
    "        self.layers = nn.ModuleList()\n",
    "        for i in range(len(num_blocks)):\n",
    "            self.layers.append(\n",
    "                self._make_layer(block[i], channels[i], num_blocks[i], stride=strides[i], dropout = dropout)\n",
    "            )\n",
    "\n",
    "        # Fully connected layer\n",
    "        self.avgpool = nn.AdaptiveAvgPool2d((1, 1))\n",
    "        self.dropout = nn.Dropout(p=dropout)\n",
    "        self.linear = nn.Linear(channels[-1] * block[-1].expansion, num_classes)\n",
    "\n",
    "    def _make_layer(self, block, out_channels, num_blocks, stride, dropout):\n",
    "        strides = [stride] + [1] * (num_blocks - 1)  # First block uses the specified stride, others use stride=1\n",
    "        layers = []\n",
    "        for stride in strides:\n",
    "            layers.append(block(self.in_channels, out_channels, stride, self.kernel_size, self.shortcut_kernel_size, dropout))\n",
    "            self.in_channels = out_channels * block.expansion\n",
    "        return nn.Sequential(*layers)\n",
    "\n",
    "    def forward(self, x):\n",
    "        # Apply initial convolution, batch norm, and ReLU\n",
    "        out = F.relu(self.bn1(self.conv1(x)))\n",
    "\n",
    "        # Pass through all layers\n",
    "        for layer in self.layers:\n",
    "            out = layer(out)\n",
    "\n",
    "        # Apply average pooling and flatten\n",
    "        out = self.avgpool(out)\n",
    "        out = torch.flatten(out, 1)\n",
    "\n",
    "        # Apply fully connected layer\n",
    "        out = self.dropout(out)\n",
    "        out = self.linear(out)\n",
    "        return out"
   ]
  },
  {
   "cell_type": "markdown",
   "id": "fd7febc9",
   "metadata": {
    "papermill": {
     "duration": 0.00444,
     "end_time": "2025-03-15T04:23:40.007930",
     "exception": false,
     "start_time": "2025-03-15T04:23:40.003490",
     "status": "completed"
    },
    "tags": []
   },
   "source": [
    "#### Defining model architecture"
   ]
  },
  {
   "cell_type": "code",
   "execution_count": 7,
   "id": "14051807",
   "metadata": {
    "execution": {
     "iopub.execute_input": "2025-03-15T04:23:40.017936Z",
     "iopub.status.busy": "2025-03-15T04:23:40.017702Z",
     "iopub.status.idle": "2025-03-15T04:23:40.296899Z",
     "shell.execute_reply": "2025-03-15T04:23:40.296184Z"
    },
    "papermill": {
     "duration": 0.285976,
     "end_time": "2025-03-15T04:23:40.298374",
     "exception": false,
     "start_time": "2025-03-15T04:23:40.012398",
     "status": "completed"
    },
    "tags": []
   },
   "outputs": [],
   "source": [
    "# Defining the ResNet Model Architecture\n",
    "type_of_block_used = [BasicBlock, BasicBlock, BasicBlock]\n",
    "num_of_blocks = [4, 5, 3]\n",
    "num_of_channels = [64, 128, 256]\n",
    "strides_per_block = [1, 2, 2]\n",
    "kernel_size = 3\n",
    "shortcut_kernel_size = 1\n",
    "pool_size = 8\n",
    "dropout = 0.0\n",
    "\n",
    "# Creating the ResNet Model\n",
    "model = ResNet(type_of_block_used, num_of_blocks, num_of_channels, strides_per_block, kernel_size, shortcut_kernel_size, pool_size, dropout).to(device)"
   ]
  },
  {
   "cell_type": "code",
   "execution_count": 8,
   "id": "b5499176",
   "metadata": {
    "execution": {
     "iopub.execute_input": "2025-03-15T04:23:40.312963Z",
     "iopub.status.busy": "2025-03-15T04:23:40.312726Z",
     "iopub.status.idle": "2025-03-15T04:23:41.054987Z",
     "shell.execute_reply": "2025-03-15T04:23:41.053834Z"
    },
    "papermill": {
     "duration": 0.749241,
     "end_time": "2025-03-15T04:23:41.056435",
     "exception": false,
     "start_time": "2025-03-15T04:23:40.307194",
     "status": "completed"
    },
    "tags": []
   },
   "outputs": [
    {
     "name": "stdout",
     "output_type": "stream",
     "text": [
      "4,992,586 total parameters.\n",
      "----------------------------------------------------------------\n",
      "        Layer (type)               Output Shape         Param #\n",
      "================================================================\n",
      "            Conv2d-1           [-1, 64, 32, 32]           1,728\n",
      "       BatchNorm2d-2           [-1, 64, 32, 32]             128\n",
      "            Conv2d-3           [-1, 64, 32, 32]          36,864\n",
      "       BatchNorm2d-4           [-1, 64, 32, 32]             128\n",
      "            Conv2d-5           [-1, 64, 32, 32]          36,864\n",
      "       BatchNorm2d-6           [-1, 64, 32, 32]             128\n",
      "        BasicBlock-7           [-1, 64, 32, 32]               0\n",
      "            Conv2d-8           [-1, 64, 32, 32]          36,864\n",
      "       BatchNorm2d-9           [-1, 64, 32, 32]             128\n",
      "           Conv2d-10           [-1, 64, 32, 32]          36,864\n",
      "      BatchNorm2d-11           [-1, 64, 32, 32]             128\n",
      "       BasicBlock-12           [-1, 64, 32, 32]               0\n",
      "           Conv2d-13           [-1, 64, 32, 32]          36,864\n",
      "      BatchNorm2d-14           [-1, 64, 32, 32]             128\n",
      "           Conv2d-15           [-1, 64, 32, 32]          36,864\n",
      "      BatchNorm2d-16           [-1, 64, 32, 32]             128\n",
      "       BasicBlock-17           [-1, 64, 32, 32]               0\n",
      "           Conv2d-18           [-1, 64, 32, 32]          36,864\n",
      "      BatchNorm2d-19           [-1, 64, 32, 32]             128\n",
      "           Conv2d-20           [-1, 64, 32, 32]          36,864\n",
      "      BatchNorm2d-21           [-1, 64, 32, 32]             128\n",
      "       BasicBlock-22           [-1, 64, 32, 32]               0\n",
      "           Conv2d-23          [-1, 128, 16, 16]          73,728\n",
      "      BatchNorm2d-24          [-1, 128, 16, 16]             256\n",
      "           Conv2d-25          [-1, 128, 16, 16]         147,456\n",
      "      BatchNorm2d-26          [-1, 128, 16, 16]             256\n",
      "           Conv2d-27          [-1, 128, 16, 16]           8,192\n",
      "      BatchNorm2d-28          [-1, 128, 16, 16]             256\n",
      "       BasicBlock-29          [-1, 128, 16, 16]               0\n",
      "           Conv2d-30          [-1, 128, 16, 16]         147,456\n",
      "      BatchNorm2d-31          [-1, 128, 16, 16]             256\n",
      "           Conv2d-32          [-1, 128, 16, 16]         147,456\n",
      "      BatchNorm2d-33          [-1, 128, 16, 16]             256\n",
      "       BasicBlock-34          [-1, 128, 16, 16]               0\n",
      "           Conv2d-35          [-1, 128, 16, 16]         147,456\n",
      "      BatchNorm2d-36          [-1, 128, 16, 16]             256\n",
      "           Conv2d-37          [-1, 128, 16, 16]         147,456\n",
      "      BatchNorm2d-38          [-1, 128, 16, 16]             256\n",
      "       BasicBlock-39          [-1, 128, 16, 16]               0\n",
      "           Conv2d-40          [-1, 128, 16, 16]         147,456\n",
      "      BatchNorm2d-41          [-1, 128, 16, 16]             256\n",
      "           Conv2d-42          [-1, 128, 16, 16]         147,456\n",
      "      BatchNorm2d-43          [-1, 128, 16, 16]             256\n",
      "       BasicBlock-44          [-1, 128, 16, 16]               0\n",
      "           Conv2d-45          [-1, 128, 16, 16]         147,456\n",
      "      BatchNorm2d-46          [-1, 128, 16, 16]             256\n",
      "           Conv2d-47          [-1, 128, 16, 16]         147,456\n",
      "      BatchNorm2d-48          [-1, 128, 16, 16]             256\n",
      "       BasicBlock-49          [-1, 128, 16, 16]               0\n",
      "           Conv2d-50            [-1, 256, 8, 8]         294,912\n",
      "      BatchNorm2d-51            [-1, 256, 8, 8]             512\n",
      "           Conv2d-52            [-1, 256, 8, 8]         589,824\n",
      "      BatchNorm2d-53            [-1, 256, 8, 8]             512\n",
      "           Conv2d-54            [-1, 256, 8, 8]          32,768\n",
      "      BatchNorm2d-55            [-1, 256, 8, 8]             512\n",
      "       BasicBlock-56            [-1, 256, 8, 8]               0\n",
      "           Conv2d-57            [-1, 256, 8, 8]         589,824\n",
      "      BatchNorm2d-58            [-1, 256, 8, 8]             512\n",
      "           Conv2d-59            [-1, 256, 8, 8]         589,824\n",
      "      BatchNorm2d-60            [-1, 256, 8, 8]             512\n",
      "       BasicBlock-61            [-1, 256, 8, 8]               0\n",
      "           Conv2d-62            [-1, 256, 8, 8]         589,824\n",
      "      BatchNorm2d-63            [-1, 256, 8, 8]             512\n",
      "           Conv2d-64            [-1, 256, 8, 8]         589,824\n",
      "      BatchNorm2d-65            [-1, 256, 8, 8]             512\n",
      "       BasicBlock-66            [-1, 256, 8, 8]               0\n",
      "AdaptiveAvgPool2d-67            [-1, 256, 1, 1]               0\n",
      "          Dropout-68                  [-1, 256]               0\n",
      "           Linear-69                   [-1, 10]           2,570\n",
      "================================================================\n",
      "Total params: 4,992,586\n",
      "Trainable params: 4,992,586\n",
      "Non-trainable params: 0\n",
      "----------------------------------------------------------------\n",
      "Input size (MB): 0.01\n",
      "Forward/backward pass size (MB): 19.88\n",
      "Params size (MB): 19.05\n",
      "Estimated Total Size (MB): 38.94\n",
      "----------------------------------------------------------------\n"
     ]
    }
   ],
   "source": [
    "# Checking the model summary and total number of parameters\n",
    "total_params = sum(p.numel() for p in model.parameters())\n",
    "print(f'{total_params:,} total parameters.')\n",
    "if total_params > 5000000:\n",
    "    raise Exception(\"Model size exceeds 5 million parameters\")\n",
    "\n",
    "# Checking the model summary\n",
    "summary(model, (3, 32, 32))"
   ]
  },
  {
   "cell_type": "code",
   "execution_count": 9,
   "id": "425b3f2f",
   "metadata": {
    "execution": {
     "iopub.execute_input": "2025-03-15T04:23:41.067305Z",
     "iopub.status.busy": "2025-03-15T04:23:41.067046Z",
     "iopub.status.idle": "2025-03-15T04:23:41.076984Z",
     "shell.execute_reply": "2025-03-15T04:23:41.076167Z"
    },
    "papermill": {
     "duration": 0.016727,
     "end_time": "2025-03-15T04:23:41.078278",
     "exception": false,
     "start_time": "2025-03-15T04:23:41.061551",
     "status": "completed"
    },
    "tags": []
   },
   "outputs": [],
   "source": [
    "# Added Lookahead Optimizer\n",
    "class Lookahead(Optimizer):\n",
    "    def __init__(self, base_optimizer, alpha=0.5, k=6):\n",
    "        if not 0.0 <= alpha <= 1.0:\n",
    "            raise ValueError(f'Invalid slow update rate: {alpha}')\n",
    "        if not 1 <= k:\n",
    "            raise ValueError(f'Invalid lookahead steps: {k}')\n",
    "        defaults = dict(lookahead_alpha=alpha, lookahead_k=k, lookahead_step=0)\n",
    "        self.base_optimizer = base_optimizer\n",
    "        self.param_groups = self.base_optimizer.param_groups\n",
    "        self.defaults = base_optimizer.defaults\n",
    "        self.defaults.update(defaults)\n",
    "        self.state = defaultdict(dict)\n",
    "        # manually add our defaults to the param groups\n",
    "        for name, default in defaults.items():\n",
    "            for group in self.param_groups:\n",
    "                group.setdefault(name, default)\n",
    "\n",
    "    def update_slow(self, group):\n",
    "        for fast_p in group[\"params\"]:\n",
    "            if fast_p.grad is None:\n",
    "                continue\n",
    "            param_state = self.state[fast_p]\n",
    "            if 'slow_buffer' not in param_state:\n",
    "                param_state['slow_buffer'] = torch.empty_like(fast_p.data)\n",
    "                param_state['slow_buffer'].copy_(fast_p.data)\n",
    "            slow = param_state['slow_buffer']\n",
    "            slow.add_(group['lookahead_alpha'], fast_p.data - slow)\n",
    "            fast_p.data.copy_(slow)\n",
    "\n",
    "    def sync_lookahead(self):\n",
    "        for group in self.param_groups:\n",
    "            self.update_slow(group)\n",
    "\n",
    "    def step(self, closure=None):\n",
    "        # print(self.k)\n",
    "        #assert id(self.param_groups) == id(self.base_optimizer.param_groups)\n",
    "        loss = self.base_optimizer.step(closure)\n",
    "        for group in self.param_groups:\n",
    "            group['lookahead_step'] += 1\n",
    "            if group['lookahead_step'] % group['lookahead_k'] == 0:\n",
    "                self.update_slow(group)\n",
    "        return loss\n",
    "\n",
    "    def state_dict(self):\n",
    "        fast_state_dict = self.base_optimizer.state_dict()\n",
    "        slow_state = {\n",
    "            (id(k) if isinstance(k, torch.Tensor) else k): v\n",
    "            for k, v in self.state.items()\n",
    "        }\n",
    "        fast_state = fast_state_dict['state']\n",
    "        param_groups = fast_state_dict['param_groups']\n",
    "        return {\n",
    "            'state': fast_state,\n",
    "            'slow_state': slow_state,\n",
    "            'param_groups': param_groups,\n",
    "        }\n",
    "\n",
    "    def load_state_dict(self, state_dict):\n",
    "        fast_state_dict = {\n",
    "            'state': state_dict['state'],\n",
    "            'param_groups': state_dict['param_groups'],\n",
    "        }\n",
    "        self.base_optimizer.load_state_dict(fast_state_dict)\n",
    "\n",
    "        # We want to restore the slow state, but share param_groups reference\n",
    "        # with base_optimizer. This is a bit redundant but least code\n",
    "        slow_state_new = False\n",
    "        if 'slow_state' not in state_dict:\n",
    "            print('Loading state_dict from optimizer without Lookahead applied.')\n",
    "            state_dict['slow_state'] = defaultdict(dict)\n",
    "            slow_state_new = True\n",
    "        slow_state_dict = {\n",
    "            'state': state_dict['slow_state'],\n",
    "            'param_groups': state_dict['param_groups'],  # this is pointless but saves code\n",
    "        }\n",
    "        super(Lookahead, self).load_state_dict(slow_state_dict)\n",
    "        self.param_groups = self.base_optimizer.param_groups  # make both ref same container\n",
    "        if slow_state_new:\n",
    "            # reapply defaults to catch missing lookahead specific ones\n",
    "            for name, default in self.defaults.items():\n",
    "                for group in self.param_groups:\n",
    "                    group.setdefault(name, default)"
   ]
  },
  {
   "cell_type": "code",
   "execution_count": 10,
   "id": "4b498471",
   "metadata": {
    "execution": {
     "iopub.execute_input": "2025-03-15T04:23:41.089089Z",
     "iopub.status.busy": "2025-03-15T04:23:41.088825Z",
     "iopub.status.idle": "2025-03-15T04:23:41.093416Z",
     "shell.execute_reply": "2025-03-15T04:23:41.092630Z"
    },
    "papermill": {
     "duration": 0.01136,
     "end_time": "2025-03-15T04:23:41.094708",
     "exception": false,
     "start_time": "2025-03-15T04:23:41.083348",
     "status": "completed"
    },
    "tags": []
   },
   "outputs": [],
   "source": [
    "def mixup_data(x, y, alpha=32):\n",
    "    '''Returns mixed inputs, pairs of targets, and lambda'''\n",
    "    if alpha > 0:\n",
    "        lam = np.random.beta(alpha, alpha)\n",
    "    else:\n",
    "        lam = 1\n",
    "\n",
    "    batch_size = x.size()[0]\n",
    "\n",
    "    index = torch.randperm(batch_size).cuda()\n",
    "  \n",
    "\n",
    "    mixed_x = lam * x + (1 - lam) * x[index, :]\n",
    "    y_a, y_b = y, y[index]\n",
    "    return mixed_x, y_a, y_b, lam\n",
    "\n",
    "\n",
    "def mixup_criterion(criterion, pred, y_a, y_b, lam):\n",
    "    return lam * criterion(pred, y_a) + (1 - lam) * criterion(pred, y_b)"
   ]
  },
  {
   "cell_type": "code",
   "execution_count": 11,
   "id": "79657919",
   "metadata": {
    "execution": {
     "iopub.execute_input": "2025-03-15T04:23:41.104997Z",
     "iopub.status.busy": "2025-03-15T04:23:41.104788Z",
     "iopub.status.idle": "2025-03-15T04:23:41.109377Z",
     "shell.execute_reply": "2025-03-15T04:23:41.108767Z"
    },
    "papermill": {
     "duration": 0.010966,
     "end_time": "2025-03-15T04:23:41.110542",
     "exception": false,
     "start_time": "2025-03-15T04:23:41.099576",
     "status": "completed"
    },
    "tags": []
   },
   "outputs": [],
   "source": [
    "# Defining Label Smoothing Cross Entropy Loss\n",
    "class LabelSmoothingCrossEntropy(nn.Module):\n",
    "    def __init__(self, eps=0.05, reduction='mean'):\n",
    "        super(LabelSmoothingCrossEntropy, self).__init__()\n",
    "        self.eps = eps\n",
    "        self.reduction = reduction\n",
    "\n",
    "    def forward(self, output, target):\n",
    "        c = output.size()[-1]\n",
    "        log_preds = F.log_softmax(output, dim=-1)\n",
    "        if self.reduction=='sum':\n",
    "            loss = -log_preds.sum()\n",
    "        else:\n",
    "            loss = -log_preds.sum(dim=-1)\n",
    "            if self.reduction=='mean':\n",
    "                loss = loss.mean()\n",
    "        return loss*self.eps/c + (1-self.eps) * F.nll_loss(log_preds, target, reduction=self.reduction)"
   ]
  },
  {
   "cell_type": "code",
   "execution_count": 12,
   "id": "9d916e20",
   "metadata": {
    "execution": {
     "iopub.execute_input": "2025-03-15T04:23:41.120886Z",
     "iopub.status.busy": "2025-03-15T04:23:41.120693Z",
     "iopub.status.idle": "2025-03-15T04:23:41.124098Z",
     "shell.execute_reply": "2025-03-15T04:23:41.123496Z"
    },
    "papermill": {
     "duration": 0.010014,
     "end_time": "2025-03-15T04:23:41.125350",
     "exception": false,
     "start_time": "2025-03-15T04:23:41.115336",
     "status": "completed"
    },
    "tags": []
   },
   "outputs": [],
   "source": [
    "def check_gradient_norms(model):\n",
    "    total_norm = 0.0\n",
    "    for p in model.parameters():\n",
    "        if p.grad is not None:\n",
    "            param_norm = p.grad.data.norm(2)  # L2 norm of gradients\n",
    "            total_norm += param_norm.item() ** 2\n",
    "    total_norm = total_norm ** (1.0 / 2)  # Total L2 norm\n",
    "    return total_norm"
   ]
  },
  {
   "cell_type": "code",
   "execution_count": 13,
   "id": "3bd2fefe",
   "metadata": {
    "execution": {
     "iopub.execute_input": "2025-03-15T04:23:41.136011Z",
     "iopub.status.busy": "2025-03-15T04:23:41.135808Z",
     "iopub.status.idle": "2025-03-15T04:23:41.138912Z",
     "shell.execute_reply": "2025-03-15T04:23:41.138322Z"
    },
    "papermill": {
     "duration": 0.009736,
     "end_time": "2025-03-15T04:23:41.140080",
     "exception": false,
     "start_time": "2025-03-15T04:23:41.130344",
     "status": "completed"
    },
    "tags": []
   },
   "outputs": [],
   "source": [
    "# Defining lists to store the training and validation losses, accuracies and gradient norms to plot later\n",
    "train_losses = []\n",
    "gradients_norms = []\n",
    "train_acc = []\n",
    "test_losses_l1 = []\n",
    "test_acc_l1 = []\n",
    "plot_train_loss = []\n",
    "plot_test_loss = []\n",
    "plot_gradient_norms = []\n",
    "\n",
    "best_acc = 0\n"
   ]
  },
  {
   "cell_type": "code",
   "execution_count": 14,
   "id": "a9c387a8",
   "metadata": {
    "execution": {
     "iopub.execute_input": "2025-03-15T04:23:41.150587Z",
     "iopub.status.busy": "2025-03-15T04:23:41.150336Z",
     "iopub.status.idle": "2025-03-15T04:23:41.157060Z",
     "shell.execute_reply": "2025-03-15T04:23:41.156430Z"
    },
    "papermill": {
     "duration": 0.013228,
     "end_time": "2025-03-15T04:23:41.158200",
     "exception": false,
     "start_time": "2025-03-15T04:23:41.144972",
     "status": "completed"
    },
    "tags": []
   },
   "outputs": [],
   "source": [
    "def train_for_one_epoch(model, device, train_loader, optimizer):\n",
    "    model.to(device)\n",
    "\n",
    "    model.train()\n",
    "\n",
    "    pbar = tqdm(train_loader)\n",
    "\n",
    "    correct = 0\n",
    "    processed = 0\n",
    "    train_loss_accu = 0\n",
    "    grad_norm_accu = 0\n",
    "\n",
    "    # Choose the loss function based on whether label smoothing is enabled\n",
    "    if use_label_smoothing:\n",
    "        criterion = LabelSmoothingCrossEntropy(eps=label_smoothing_epsilon)\n",
    "    else:\n",
    "        criterion = nn.CrossEntropyLoss()\n",
    "    \n",
    "    # Iterate over the training data in batches\n",
    "    for batch_idx, (data, target) in enumerate(pbar):\n",
    "        data, target = data.to(device), target.to(device)\n",
    "\n",
    "        # Apply mixup augmentation if enabled\n",
    "        if use_mixup:\n",
    "            data, targets_a, targets_b, lam = mixup_data(data, target, mixup_alpha)\n",
    "        \n",
    "        optimizer.zero_grad()\n",
    "        y_pred = model(data)\n",
    "\n",
    "        # Compute the loss based on whether mixup is enabled\n",
    "        if use_mixup:\n",
    "            loss = mixup_criterion(criterion, y_pred, targets_a, targets_b, lam)\n",
    "        else:\n",
    "            loss = criterion(y_pred, target)\n",
    "\n",
    "        # Accumulate the loss for the epoch\n",
    "        train_loss_accu += loss.item()\n",
    "        # Append the current loss to the list of training losses\n",
    "        train_losses.append(loss)\n",
    "\n",
    "        # Backward pass: compute gradients\n",
    "        loss.backward()\n",
    "\n",
    "        # Accumulate gradient norms and append to the list of gradient norms\n",
    "        grad_norm_accu += check_gradient_norms(model)\n",
    "        gradients_norms.append(check_gradient_norms(model))\n",
    "\n",
    "        # Update model parameters using the optimizer\n",
    "        optimizer.step()\n",
    "\n",
    "        # Compute predictions and update accuracy counters\n",
    "        pred = y_pred.argmax(dim=1, keepdim=True)\n",
    "        correct += pred.eq(target.view_as(pred)).sum().item()\n",
    "        processed += len(data)\n",
    "        \n",
    "        pbar.set_description(desc= f'Loss={loss.item()}\\tAccuracy={100*correct/processed:0.2f}\\tGradient Norm={grad_norm_accu/(batch_idx+1):0.2f}')\n",
    "\n",
    "    # Append the epoch's accuracy, average loss, and average gradient norm to their respective lists\n",
    "    train_acc.append(100*correct/processed)\n",
    "    plot_train_loss.append(train_loss_accu/len(train_loader))\n",
    "    plot_gradient_norms.append(grad_norm_accu/len(train_loader))\n",
    "\n",
    "    # Print the epoch's average loss, accuracy, and gradient norm\n",
    "    print(f'Epoch Loss = {train_loss_accu/len(train_loader)} \\t Epoch Accuracy = {100*correct/processed:0.2f} \\t Gradient Norm = {grad_norm_accu/len(train_loader):0.2f}')"
   ]
  },
  {
   "cell_type": "code",
   "execution_count": 15,
   "id": "04f04445",
   "metadata": {
    "execution": {
     "iopub.execute_input": "2025-03-15T04:23:41.168514Z",
     "iopub.status.busy": "2025-03-15T04:23:41.168304Z",
     "iopub.status.idle": "2025-03-15T04:23:41.173669Z",
     "shell.execute_reply": "2025-03-15T04:23:41.173059Z"
    },
    "papermill": {
     "duration": 0.011811,
     "end_time": "2025-03-15T04:23:41.174925",
     "exception": false,
     "start_time": "2025-03-15T04:23:41.163114",
     "status": "completed"
    },
    "tags": []
   },
   "outputs": [],
   "source": [
    "def evaluate(model ,device, test_loader):\n",
    "    model.eval()\n",
    "    average_test_loss = 0\n",
    "    test_loss = 0\n",
    "    correct = 0\n",
    "\n",
    "    global best_acc\n",
    "\n",
    "    # Choose the loss function based on whether label smoothing is enabled\n",
    "    if use_label_smoothing:\n",
    "        criterion = LabelSmoothingCrossEntropy(eps=label_smoothing_epsilon)\n",
    "    else:\n",
    "        criterion = nn.CrossEntropyLoss()\n",
    "    \n",
    "    # Iterate over the validation data in batches for inference\n",
    "    with torch.no_grad():\n",
    "        for data, target in test_loader:\n",
    "            data, target = data.to(device), target.to(device)\n",
    "            output = model(data)\n",
    "            test_loss += criterion(output, target).item()\n",
    "            pred = output.argmax(dim=1, keepdim=True)\n",
    "            correct += pred.eq(target.view_as(pred)).sum().item()\n",
    "    \n",
    "    # Calculate the average loss and accuracy for the validation data and print the results\n",
    "    average_test_loss = test_loss/len(test_loader.dataset)\n",
    "    test_losses_l1.append(average_test_loss)\n",
    "\n",
    "    print(\"Validation Metrics: Average Loss: {:.4f}, Accuracy: {}/{} ({:.2f}%)\".format(\n",
    "        average_test_loss, correct, len(test_loader.dataset),\n",
    "        100. * correct / len(test_loader.dataset)))\n",
    "\n",
    "    test_acc_l1.append(100. * correct / len(test_loader.dataset))\n",
    "\n",
    "    # Save the model if the current accuracy is the best so far\n",
    "    if 100. * correct / len(test_loader.dataset) > best_acc:\n",
    "        best_acc = 100. * correct / len(test_loader.dataset)\n",
    "        model.cpu()\n",
    "        model_scripted = torch.jit.script(model)\n",
    "        model_scripted.save(os.path.join(model_save_path, 'best_model.pt'))\n",
    "        print(f\"Model saved with accuracy {best_acc}\")"
   ]
  },
  {
   "cell_type": "code",
   "execution_count": 16,
   "id": "8656432a",
   "metadata": {
    "execution": {
     "iopub.execute_input": "2025-03-15T04:23:41.185424Z",
     "iopub.status.busy": "2025-03-15T04:23:41.185230Z",
     "iopub.status.idle": "2025-03-15T04:23:41.189634Z",
     "shell.execute_reply": "2025-03-15T04:23:41.188866Z"
    },
    "papermill": {
     "duration": 0.01096,
     "end_time": "2025-03-15T04:23:41.190873",
     "exception": false,
     "start_time": "2025-03-15T04:23:41.179913",
     "status": "completed"
    },
    "tags": []
   },
   "outputs": [],
   "source": [
    "def train_model(model, device):\n",
    "\n",
    "    print(\"Preparing Data\")\n",
    "    train_loader, val_loader = prepare_data(train_data_dir, val_data_dir)\n",
    "\n",
    "    # Choose the optimizer based on whether lookahead is enabled\n",
    "    optimizer = optim.SGD(model.parameters(), lr=learning_rate, momentum=momentum, weight_decay=weight_decay)\n",
    "    if use_lookahead:\n",
    "        optimizer = Lookahead(optimizer, alpha=lookahead_alpha, k=lookahead_k)\n",
    "\n",
    "    # Scheduler for Cosine Annealing\n",
    "    scheduler = optim.lr_scheduler.CosineAnnealingLR(optimizer, T_max=cosine_annealing_T_max)\n",
    "    \n",
    "    # Train the model for the specified number of epochs\n",
    "    \n",
    "    print(\"Starting Training\")\n",
    "    for epoch in range(num_epochs):\n",
    "        print(f\"Epoch {epoch+1}\")\n",
    "        train_for_one_epoch(model, device, train_loader, optimizer)\n",
    "        evaluate(model, device, val_loader)\n",
    "        scheduler.step()"
   ]
  },
  {
   "cell_type": "code",
   "execution_count": 17,
   "id": "2dc2773b",
   "metadata": {
    "execution": {
     "iopub.execute_input": "2025-03-15T04:23:41.201522Z",
     "iopub.status.busy": "2025-03-15T04:23:41.201291Z",
     "iopub.status.idle": "2025-03-15T07:16:36.633311Z",
     "shell.execute_reply": "2025-03-15T07:16:36.632252Z"
    },
    "papermill": {
     "duration": 10375.438973,
     "end_time": "2025-03-15T07:16:36.634902",
     "exception": false,
     "start_time": "2025-03-15T04:23:41.195929",
     "status": "completed"
    },
    "tags": []
   },
   "outputs": [
    {
     "name": "stdout",
     "output_type": "stream",
     "text": [
      "Preparing Data\n"
     ]
    },
    {
     "name": "stderr",
     "output_type": "stream",
     "text": [
      "/usr/local/lib/python3.10/dist-packages/torch/utils/data/dataloader.py:617: UserWarning: This DataLoader will create 16 worker processes in total. Our suggested max number of worker in current system is 4, which is smaller than what this DataLoader is going to create. Please be aware that excessive worker creation might get DataLoader running slow or even freeze, lower the worker number to avoid potential slowness/freeze if necessary.\n",
      "  warnings.warn(\n"
     ]
    },
    {
     "name": "stdout",
     "output_type": "stream",
     "text": [
      "Starting Training\n",
      "Epoch 1\n"
     ]
    },
    {
     "name": "stderr",
     "output_type": "stream",
     "text": [
      "Loss=3.635218381881714\tAccuracy=10.35\tGradient Norm=6.94:   1%|          | 4/391 [00:02<02:34,  2.51it/s]<ipython-input-9-259e020e3a29>:28: UserWarning: This overload of add_ is deprecated:\n",
      "\tadd_(Number alpha, Tensor other)\n",
      "Consider using one of the following signatures instead:\n",
      "\tadd_(Tensor other, *, Number alpha = 1) (Triggered internally at ../torch/csrc/utils/python_arg_parser.cpp:1642.)\n",
      "  slow.add_(group['lookahead_alpha'], fast_p.data - slow)\n",
      "Loss=2.003054618835449\tAccuracy=25.35\tGradient Norm=1.05: 100%|██████████| 391/391 [00:45<00:00,  8.62it/s]"
     ]
    },
    {
     "name": "stdout",
     "output_type": "stream",
     "text": [
      "Epoch Loss = 2.136485361382175 \t Epoch Accuracy = 25.35 \t Gradient Norm = 1.05\n"
     ]
    },
    {
     "name": "stderr",
     "output_type": "stream",
     "text": [
      "\n"
     ]
    },
    {
     "name": "stdout",
     "output_type": "stream",
     "text": [
      "Validation Metrics: Average Loss: 0.0186, Accuracy: 4103/10000 (41.03%)\n",
      "Model saved with accuracy 41.03\n",
      "Epoch 2\n"
     ]
    },
    {
     "name": "stderr",
     "output_type": "stream",
     "text": [
      "Loss=1.7127599716186523\tAccuracy=39.99\tGradient Norm=1.04: 100%|██████████| 391/391 [00:44<00:00,  8.72it/s]"
     ]
    },
    {
     "name": "stdout",
     "output_type": "stream",
     "text": [
      "Epoch Loss = 1.8963086193479846 \t Epoch Accuracy = 39.99 \t Gradient Norm = 1.04\n"
     ]
    },
    {
     "name": "stderr",
     "output_type": "stream",
     "text": [
      "\n"
     ]
    },
    {
     "name": "stdout",
     "output_type": "stream",
     "text": [
      "Validation Metrics: Average Loss: 0.0177, Accuracy: 4938/10000 (49.38%)\n",
      "Model saved with accuracy 49.38\n",
      "Epoch 3\n"
     ]
    },
    {
     "name": "stderr",
     "output_type": "stream",
     "text": [
      "Loss=1.604331135749817\tAccuracy=50.65\tGradient Norm=1.11: 100%|██████████| 391/391 [00:45<00:00,  8.59it/s]"
     ]
    },
    {
     "name": "stdout",
     "output_type": "stream",
     "text": [
      "Epoch Loss = 1.7352860019639935 \t Epoch Accuracy = 50.65 \t Gradient Norm = 1.11\n"
     ]
    },
    {
     "name": "stderr",
     "output_type": "stream",
     "text": [
      "\n"
     ]
    },
    {
     "name": "stdout",
     "output_type": "stream",
     "text": [
      "Validation Metrics: Average Loss: 0.0172, Accuracy: 5228/10000 (52.28%)\n",
      "Model saved with accuracy 52.28\n",
      "Epoch 4\n"
     ]
    },
    {
     "name": "stderr",
     "output_type": "stream",
     "text": [
      "Loss=1.6505277156829834\tAccuracy=57.11\tGradient Norm=1.14: 100%|██████████| 391/391 [00:44<00:00,  8.70it/s]"
     ]
    },
    {
     "name": "stdout",
     "output_type": "stream",
     "text": [
      "Epoch Loss = 1.6307837832004517 \t Epoch Accuracy = 57.11 \t Gradient Norm = 1.14\n"
     ]
    },
    {
     "name": "stderr",
     "output_type": "stream",
     "text": [
      "\n"
     ]
    },
    {
     "name": "stdout",
     "output_type": "stream",
     "text": [
      "Validation Metrics: Average Loss: 0.0177, Accuracy: 5451/10000 (54.51%)\n",
      "Model saved with accuracy 54.51\n",
      "Epoch 5\n"
     ]
    },
    {
     "name": "stderr",
     "output_type": "stream",
     "text": [
      "Loss=1.7083052396774292\tAccuracy=62.52\tGradient Norm=1.18: 100%|██████████| 391/391 [00:45<00:00,  8.64it/s]"
     ]
    },
    {
     "name": "stdout",
     "output_type": "stream",
     "text": [
      "Epoch Loss = 1.5447294172423576 \t Epoch Accuracy = 62.52 \t Gradient Norm = 1.18\n"
     ]
    },
    {
     "name": "stderr",
     "output_type": "stream",
     "text": [
      "\n"
     ]
    },
    {
     "name": "stdout",
     "output_type": "stream",
     "text": [
      "Validation Metrics: Average Loss: 0.0134, Accuracy: 7496/10000 (74.96%)\n",
      "Model saved with accuracy 74.96\n",
      "Epoch 6\n"
     ]
    },
    {
     "name": "stderr",
     "output_type": "stream",
     "text": [
      "Loss=1.3694040775299072\tAccuracy=67.01\tGradient Norm=1.20: 100%|██████████| 391/391 [00:45<00:00,  8.62it/s]"
     ]
    },
    {
     "name": "stdout",
     "output_type": "stream",
     "text": [
      "Epoch Loss = 1.4681460790317078 \t Epoch Accuracy = 67.01 \t Gradient Norm = 1.20\n"
     ]
    },
    {
     "name": "stderr",
     "output_type": "stream",
     "text": [
      "\n"
     ]
    },
    {
     "name": "stdout",
     "output_type": "stream",
     "text": [
      "Validation Metrics: Average Loss: 0.0135, Accuracy: 7389/10000 (73.89%)\n",
      "Epoch 7\n"
     ]
    },
    {
     "name": "stderr",
     "output_type": "stream",
     "text": [
      "Loss=1.3324766159057617\tAccuracy=70.14\tGradient Norm=1.19: 100%|██████████| 391/391 [00:45<00:00,  8.62it/s]"
     ]
    },
    {
     "name": "stdout",
     "output_type": "stream",
     "text": [
      "Epoch Loss = 1.4149384745551497 \t Epoch Accuracy = 70.14 \t Gradient Norm = 1.19\n"
     ]
    },
    {
     "name": "stderr",
     "output_type": "stream",
     "text": [
      "\n"
     ]
    },
    {
     "name": "stdout",
     "output_type": "stream",
     "text": [
      "Validation Metrics: Average Loss: 0.0133, Accuracy: 7552/10000 (75.52%)\n",
      "Model saved with accuracy 75.52\n",
      "Epoch 8\n"
     ]
    },
    {
     "name": "stderr",
     "output_type": "stream",
     "text": [
      "Loss=1.4845545291900635\tAccuracy=72.27\tGradient Norm=1.20: 100%|██████████| 391/391 [00:45<00:00,  8.67it/s]"
     ]
    },
    {
     "name": "stdout",
     "output_type": "stream",
     "text": [
      "Epoch Loss = 1.37750140754768 \t Epoch Accuracy = 72.27 \t Gradient Norm = 1.20\n"
     ]
    },
    {
     "name": "stderr",
     "output_type": "stream",
     "text": [
      "\n"
     ]
    },
    {
     "name": "stdout",
     "output_type": "stream",
     "text": [
      "Validation Metrics: Average Loss: 0.0131, Accuracy: 7747/10000 (77.47%)\n",
      "Model saved with accuracy 77.47\n",
      "Epoch 9\n"
     ]
    },
    {
     "name": "stderr",
     "output_type": "stream",
     "text": [
      "Loss=1.4484561681747437\tAccuracy=74.10\tGradient Norm=1.19: 100%|██████████| 391/391 [00:45<00:00,  8.60it/s]"
     ]
    },
    {
     "name": "stdout",
     "output_type": "stream",
     "text": [
      "Epoch Loss = 1.3453882447898846 \t Epoch Accuracy = 74.10 \t Gradient Norm = 1.19\n"
     ]
    },
    {
     "name": "stderr",
     "output_type": "stream",
     "text": [
      "\n"
     ]
    },
    {
     "name": "stdout",
     "output_type": "stream",
     "text": [
      "Validation Metrics: Average Loss: 0.0136, Accuracy: 7444/10000 (74.44%)\n",
      "Epoch 10\n"
     ]
    },
    {
     "name": "stderr",
     "output_type": "stream",
     "text": [
      "Loss=1.3992191553115845\tAccuracy=75.31\tGradient Norm=1.21: 100%|██████████| 391/391 [00:45<00:00,  8.67it/s]"
     ]
    },
    {
     "name": "stdout",
     "output_type": "stream",
     "text": [
      "Epoch Loss = 1.3211248792955637 \t Epoch Accuracy = 75.31 \t Gradient Norm = 1.21\n"
     ]
    },
    {
     "name": "stderr",
     "output_type": "stream",
     "text": [
      "\n"
     ]
    },
    {
     "name": "stdout",
     "output_type": "stream",
     "text": [
      "Validation Metrics: Average Loss: 0.0119, Accuracy: 8343/10000 (83.43%)\n",
      "Model saved with accuracy 83.43\n",
      "Epoch 11\n"
     ]
    },
    {
     "name": "stderr",
     "output_type": "stream",
     "text": [
      "Loss=1.288521409034729\tAccuracy=76.55\tGradient Norm=1.23: 100%|██████████| 391/391 [00:45<00:00,  8.62it/s]"
     ]
    },
    {
     "name": "stdout",
     "output_type": "stream",
     "text": [
      "Epoch Loss = 1.3006092688006818 \t Epoch Accuracy = 76.55 \t Gradient Norm = 1.23\n"
     ]
    },
    {
     "name": "stderr",
     "output_type": "stream",
     "text": [
      "\n"
     ]
    },
    {
     "name": "stdout",
     "output_type": "stream",
     "text": [
      "Validation Metrics: Average Loss: 0.0122, Accuracy: 8091/10000 (80.91%)\n",
      "Epoch 12\n"
     ]
    },
    {
     "name": "stderr",
     "output_type": "stream",
     "text": [
      "Loss=1.3631107807159424\tAccuracy=77.68\tGradient Norm=1.24: 100%|██████████| 391/391 [00:44<00:00,  8.70it/s]"
     ]
    },
    {
     "name": "stdout",
     "output_type": "stream",
     "text": [
      "Epoch Loss = 1.2826975809643641 \t Epoch Accuracy = 77.68 \t Gradient Norm = 1.24\n"
     ]
    },
    {
     "name": "stderr",
     "output_type": "stream",
     "text": [
      "\n"
     ]
    },
    {
     "name": "stdout",
     "output_type": "stream",
     "text": [
      "Validation Metrics: Average Loss: 0.0124, Accuracy: 7998/10000 (79.98%)\n",
      "Epoch 13\n"
     ]
    },
    {
     "name": "stderr",
     "output_type": "stream",
     "text": [
      "Loss=1.2513329982757568\tAccuracy=78.59\tGradient Norm=1.25: 100%|██████████| 391/391 [00:44<00:00,  8.73it/s]"
     ]
    },
    {
     "name": "stdout",
     "output_type": "stream",
     "text": [
      "Epoch Loss = 1.2662338631232377 \t Epoch Accuracy = 78.59 \t Gradient Norm = 1.25\n"
     ]
    },
    {
     "name": "stderr",
     "output_type": "stream",
     "text": [
      "\n"
     ]
    },
    {
     "name": "stdout",
     "output_type": "stream",
     "text": [
      "Validation Metrics: Average Loss: 0.0126, Accuracy: 8011/10000 (80.11%)\n",
      "Epoch 14\n"
     ]
    },
    {
     "name": "stderr",
     "output_type": "stream",
     "text": [
      "Loss=1.276015281677246\tAccuracy=79.29\tGradient Norm=1.27: 100%|██████████| 391/391 [00:45<00:00,  8.63it/s]"
     ]
    },
    {
     "name": "stdout",
     "output_type": "stream",
     "text": [
      "Epoch Loss = 1.2508830255864527 \t Epoch Accuracy = 79.29 \t Gradient Norm = 1.27\n"
     ]
    },
    {
     "name": "stderr",
     "output_type": "stream",
     "text": [
      "\n"
     ]
    },
    {
     "name": "stdout",
     "output_type": "stream",
     "text": [
      "Validation Metrics: Average Loss: 0.0132, Accuracy: 7708/10000 (77.08%)\n",
      "Epoch 15\n"
     ]
    },
    {
     "name": "stderr",
     "output_type": "stream",
     "text": [
      "Loss=1.254976511001587\tAccuracy=79.74\tGradient Norm=1.30: 100%|██████████| 391/391 [00:45<00:00,  8.67it/s]"
     ]
    },
    {
     "name": "stdout",
     "output_type": "stream",
     "text": [
      "Epoch Loss = 1.2435974965010153 \t Epoch Accuracy = 79.74 \t Gradient Norm = 1.30\n"
     ]
    },
    {
     "name": "stderr",
     "output_type": "stream",
     "text": [
      "\n"
     ]
    },
    {
     "name": "stdout",
     "output_type": "stream",
     "text": [
      "Validation Metrics: Average Loss: 0.0115, Accuracy: 8496/10000 (84.96%)\n",
      "Model saved with accuracy 84.96\n",
      "Epoch 16\n"
     ]
    },
    {
     "name": "stderr",
     "output_type": "stream",
     "text": [
      "Loss=1.3744215965270996\tAccuracy=80.47\tGradient Norm=1.29: 100%|██████████| 391/391 [00:45<00:00,  8.63it/s]"
     ]
    },
    {
     "name": "stdout",
     "output_type": "stream",
     "text": [
      "Epoch Loss = 1.231339533310717 \t Epoch Accuracy = 80.47 \t Gradient Norm = 1.29\n"
     ]
    },
    {
     "name": "stderr",
     "output_type": "stream",
     "text": [
      "\n"
     ]
    },
    {
     "name": "stdout",
     "output_type": "stream",
     "text": [
      "Validation Metrics: Average Loss: 0.0113, Accuracy: 8678/10000 (86.78%)\n",
      "Model saved with accuracy 86.78\n",
      "Epoch 17\n"
     ]
    },
    {
     "name": "stderr",
     "output_type": "stream",
     "text": [
      "Loss=1.2755763530731201\tAccuracy=80.71\tGradient Norm=1.32: 100%|██████████| 391/391 [00:45<00:00,  8.62it/s]"
     ]
    },
    {
     "name": "stdout",
     "output_type": "stream",
     "text": [
      "Epoch Loss = 1.2247394177005113 \t Epoch Accuracy = 80.71 \t Gradient Norm = 1.32\n"
     ]
    },
    {
     "name": "stderr",
     "output_type": "stream",
     "text": [
      "\n"
     ]
    },
    {
     "name": "stdout",
     "output_type": "stream",
     "text": [
      "Validation Metrics: Average Loss: 0.0118, Accuracy: 8411/10000 (84.11%)\n",
      "Epoch 18\n"
     ]
    },
    {
     "name": "stderr",
     "output_type": "stream",
     "text": [
      "Loss=1.1984832286834717\tAccuracy=81.09\tGradient Norm=1.33: 100%|██████████| 391/391 [00:45<00:00,  8.61it/s]"
     ]
    },
    {
     "name": "stdout",
     "output_type": "stream",
     "text": [
      "Epoch Loss = 1.217001310394853 \t Epoch Accuracy = 81.09 \t Gradient Norm = 1.33\n"
     ]
    },
    {
     "name": "stderr",
     "output_type": "stream",
     "text": [
      "\n"
     ]
    },
    {
     "name": "stdout",
     "output_type": "stream",
     "text": [
      "Validation Metrics: Average Loss: 0.0115, Accuracy: 8506/10000 (85.06%)\n",
      "Epoch 19\n"
     ]
    },
    {
     "name": "stderr",
     "output_type": "stream",
     "text": [
      "Loss=1.3125203847885132\tAccuracy=81.36\tGradient Norm=1.34: 100%|██████████| 391/391 [00:44<00:00,  8.70it/s]"
     ]
    },
    {
     "name": "stdout",
     "output_type": "stream",
     "text": [
      "Epoch Loss = 1.2135284950056344 \t Epoch Accuracy = 81.36 \t Gradient Norm = 1.34\n"
     ]
    },
    {
     "name": "stderr",
     "output_type": "stream",
     "text": [
      "\n"
     ]
    },
    {
     "name": "stdout",
     "output_type": "stream",
     "text": [
      "Validation Metrics: Average Loss: 0.0120, Accuracy: 8268/10000 (82.68%)\n",
      "Epoch 20\n"
     ]
    },
    {
     "name": "stderr",
     "output_type": "stream",
     "text": [
      "Loss=1.2386276721954346\tAccuracy=81.55\tGradient Norm=1.37: 100%|██████████| 391/391 [00:44<00:00,  8.70it/s]"
     ]
    },
    {
     "name": "stdout",
     "output_type": "stream",
     "text": [
      "Epoch Loss = 1.208188328291754 \t Epoch Accuracy = 81.55 \t Gradient Norm = 1.37\n"
     ]
    },
    {
     "name": "stderr",
     "output_type": "stream",
     "text": [
      "\n"
     ]
    },
    {
     "name": "stdout",
     "output_type": "stream",
     "text": [
      "Validation Metrics: Average Loss: 0.0112, Accuracy: 8693/10000 (86.93%)\n",
      "Model saved with accuracy 86.93\n",
      "Epoch 21\n"
     ]
    },
    {
     "name": "stderr",
     "output_type": "stream",
     "text": [
      "Loss=1.2813485860824585\tAccuracy=82.00\tGradient Norm=1.35: 100%|██████████| 391/391 [00:45<00:00,  8.62it/s]"
     ]
    },
    {
     "name": "stdout",
     "output_type": "stream",
     "text": [
      "Epoch Loss = 1.2004629708921817 \t Epoch Accuracy = 82.00 \t Gradient Norm = 1.35\n"
     ]
    },
    {
     "name": "stderr",
     "output_type": "stream",
     "text": [
      "\n"
     ]
    },
    {
     "name": "stdout",
     "output_type": "stream",
     "text": [
      "Validation Metrics: Average Loss: 0.0113, Accuracy: 8617/10000 (86.17%)\n",
      "Epoch 22\n"
     ]
    },
    {
     "name": "stderr",
     "output_type": "stream",
     "text": [
      "Loss=1.1029969453811646\tAccuracy=82.01\tGradient Norm=1.38: 100%|██████████| 391/391 [00:45<00:00,  8.65it/s]"
     ]
    },
    {
     "name": "stdout",
     "output_type": "stream",
     "text": [
      "Epoch Loss = 1.2004367207627162 \t Epoch Accuracy = 82.01 \t Gradient Norm = 1.38\n"
     ]
    },
    {
     "name": "stderr",
     "output_type": "stream",
     "text": [
      "\n"
     ]
    },
    {
     "name": "stdout",
     "output_type": "stream",
     "text": [
      "Validation Metrics: Average Loss: 0.0112, Accuracy: 8625/10000 (86.25%)\n",
      "Epoch 23\n"
     ]
    },
    {
     "name": "stderr",
     "output_type": "stream",
     "text": [
      "Loss=1.3249146938323975\tAccuracy=82.46\tGradient Norm=1.38: 100%|██████████| 391/391 [00:45<00:00,  8.63it/s]"
     ]
    },
    {
     "name": "stdout",
     "output_type": "stream",
     "text": [
      "Epoch Loss = 1.1931024381266835 \t Epoch Accuracy = 82.46 \t Gradient Norm = 1.38\n"
     ]
    },
    {
     "name": "stderr",
     "output_type": "stream",
     "text": [
      "\n"
     ]
    },
    {
     "name": "stdout",
     "output_type": "stream",
     "text": [
      "Validation Metrics: Average Loss: 0.0122, Accuracy: 8245/10000 (82.45%)\n",
      "Epoch 24\n"
     ]
    },
    {
     "name": "stderr",
     "output_type": "stream",
     "text": [
      "Loss=1.2335867881774902\tAccuracy=82.72\tGradient Norm=1.37: 100%|██████████| 391/391 [00:45<00:00,  8.62it/s]"
     ]
    },
    {
     "name": "stdout",
     "output_type": "stream",
     "text": [
      "Epoch Loss = 1.188064524889602 \t Epoch Accuracy = 82.72 \t Gradient Norm = 1.37\n"
     ]
    },
    {
     "name": "stderr",
     "output_type": "stream",
     "text": [
      "\n"
     ]
    },
    {
     "name": "stdout",
     "output_type": "stream",
     "text": [
      "Validation Metrics: Average Loss: 0.0124, Accuracy: 8098/10000 (80.98%)\n",
      "Epoch 25\n"
     ]
    },
    {
     "name": "stderr",
     "output_type": "stream",
     "text": [
      "Loss=1.2165675163269043\tAccuracy=82.89\tGradient Norm=1.39: 100%|██████████| 391/391 [00:45<00:00,  8.65it/s]"
     ]
    },
    {
     "name": "stdout",
     "output_type": "stream",
     "text": [
      "Epoch Loss = 1.1845223489014998 \t Epoch Accuracy = 82.89 \t Gradient Norm = 1.39\n"
     ]
    },
    {
     "name": "stderr",
     "output_type": "stream",
     "text": [
      "\n"
     ]
    },
    {
     "name": "stdout",
     "output_type": "stream",
     "text": [
      "Validation Metrics: Average Loss: 0.0107, Accuracy: 8947/10000 (89.47%)\n",
      "Model saved with accuracy 89.47\n",
      "Epoch 26\n"
     ]
    },
    {
     "name": "stderr",
     "output_type": "stream",
     "text": [
      "Loss=1.1882449388504028\tAccuracy=83.04\tGradient Norm=1.39: 100%|██████████| 391/391 [00:45<00:00,  8.66it/s]"
     ]
    },
    {
     "name": "stdout",
     "output_type": "stream",
     "text": [
      "Epoch Loss = 1.1830596085399618 \t Epoch Accuracy = 83.04 \t Gradient Norm = 1.39\n"
     ]
    },
    {
     "name": "stderr",
     "output_type": "stream",
     "text": [
      "\n"
     ]
    },
    {
     "name": "stdout",
     "output_type": "stream",
     "text": [
      "Validation Metrics: Average Loss: 0.0107, Accuracy: 8961/10000 (89.61%)\n",
      "Model saved with accuracy 89.61\n",
      "Epoch 27\n"
     ]
    },
    {
     "name": "stderr",
     "output_type": "stream",
     "text": [
      "Loss=1.1347730159759521\tAccuracy=83.39\tGradient Norm=1.40: 100%|██████████| 391/391 [00:45<00:00,  8.56it/s]"
     ]
    },
    {
     "name": "stdout",
     "output_type": "stream",
     "text": [
      "Epoch Loss = 1.1758763652933224 \t Epoch Accuracy = 83.39 \t Gradient Norm = 1.40\n"
     ]
    },
    {
     "name": "stderr",
     "output_type": "stream",
     "text": [
      "\n"
     ]
    },
    {
     "name": "stdout",
     "output_type": "stream",
     "text": [
      "Validation Metrics: Average Loss: 0.0114, Accuracy: 8590/10000 (85.90%)\n",
      "Epoch 28\n"
     ]
    },
    {
     "name": "stderr",
     "output_type": "stream",
     "text": [
      "Loss=1.1762226819992065\tAccuracy=83.48\tGradient Norm=1.41: 100%|██████████| 391/391 [00:45<00:00,  8.64it/s]"
     ]
    },
    {
     "name": "stdout",
     "output_type": "stream",
     "text": [
      "Epoch Loss = 1.1761546961181915 \t Epoch Accuracy = 83.48 \t Gradient Norm = 1.41\n"
     ]
    },
    {
     "name": "stderr",
     "output_type": "stream",
     "text": [
      "\n"
     ]
    },
    {
     "name": "stdout",
     "output_type": "stream",
     "text": [
      "Validation Metrics: Average Loss: 0.0117, Accuracy: 8381/10000 (83.81%)\n",
      "Epoch 29\n"
     ]
    },
    {
     "name": "stderr",
     "output_type": "stream",
     "text": [
      "Loss=1.1648151874542236\tAccuracy=84.02\tGradient Norm=1.41: 100%|██████████| 391/391 [00:45<00:00,  8.61it/s]"
     ]
    },
    {
     "name": "stdout",
     "output_type": "stream",
     "text": [
      "Epoch Loss = 1.1655359295627954 \t Epoch Accuracy = 84.02 \t Gradient Norm = 1.41\n"
     ]
    },
    {
     "name": "stderr",
     "output_type": "stream",
     "text": [
      "\n"
     ]
    },
    {
     "name": "stdout",
     "output_type": "stream",
     "text": [
      "Validation Metrics: Average Loss: 0.0128, Accuracy: 7912/10000 (79.12%)\n",
      "Epoch 30\n"
     ]
    },
    {
     "name": "stderr",
     "output_type": "stream",
     "text": [
      "Loss=1.2194840908050537\tAccuracy=83.98\tGradient Norm=1.43: 100%|██████████| 391/391 [00:45<00:00,  8.65it/s]"
     ]
    },
    {
     "name": "stdout",
     "output_type": "stream",
     "text": [
      "Epoch Loss = 1.1656814362386914 \t Epoch Accuracy = 83.98 \t Gradient Norm = 1.43\n"
     ]
    },
    {
     "name": "stderr",
     "output_type": "stream",
     "text": [
      "\n"
     ]
    },
    {
     "name": "stdout",
     "output_type": "stream",
     "text": [
      "Validation Metrics: Average Loss: 0.0107, Accuracy: 8933/10000 (89.33%)\n",
      "Epoch 31\n"
     ]
    },
    {
     "name": "stderr",
     "output_type": "stream",
     "text": [
      "Loss=1.040892243385315\tAccuracy=84.16\tGradient Norm=1.44: 100%|██████████| 391/391 [00:45<00:00,  8.59it/s]"
     ]
    },
    {
     "name": "stdout",
     "output_type": "stream",
     "text": [
      "Epoch Loss = 1.1646066202836878 \t Epoch Accuracy = 84.16 \t Gradient Norm = 1.44\n"
     ]
    },
    {
     "name": "stderr",
     "output_type": "stream",
     "text": [
      "\n"
     ]
    },
    {
     "name": "stdout",
     "output_type": "stream",
     "text": [
      "Validation Metrics: Average Loss: 0.0108, Accuracy: 8897/10000 (88.97%)\n",
      "Epoch 32\n"
     ]
    },
    {
     "name": "stderr",
     "output_type": "stream",
     "text": [
      "Loss=1.2019034624099731\tAccuracy=84.22\tGradient Norm=1.43: 100%|██████████| 391/391 [00:45<00:00,  8.64it/s]"
     ]
    },
    {
     "name": "stdout",
     "output_type": "stream",
     "text": [
      "Epoch Loss = 1.1613060534762605 \t Epoch Accuracy = 84.22 \t Gradient Norm = 1.43\n"
     ]
    },
    {
     "name": "stderr",
     "output_type": "stream",
     "text": [
      "\n"
     ]
    },
    {
     "name": "stdout",
     "output_type": "stream",
     "text": [
      "Validation Metrics: Average Loss: 0.0113, Accuracy: 8712/10000 (87.12%)\n",
      "Epoch 33\n"
     ]
    },
    {
     "name": "stderr",
     "output_type": "stream",
     "text": [
      "Loss=1.1647992134094238\tAccuracy=84.17\tGradient Norm=1.44: 100%|██████████| 391/391 [00:45<00:00,  8.57it/s]"
     ]
    },
    {
     "name": "stdout",
     "output_type": "stream",
     "text": [
      "Epoch Loss = 1.160605142793387 \t Epoch Accuracy = 84.17 \t Gradient Norm = 1.44\n"
     ]
    },
    {
     "name": "stderr",
     "output_type": "stream",
     "text": [
      "\n"
     ]
    },
    {
     "name": "stdout",
     "output_type": "stream",
     "text": [
      "Validation Metrics: Average Loss: 0.0113, Accuracy: 8595/10000 (85.95%)\n",
      "Epoch 34\n"
     ]
    },
    {
     "name": "stderr",
     "output_type": "stream",
     "text": [
      "Loss=1.1324775218963623\tAccuracy=84.54\tGradient Norm=1.43: 100%|██████████| 391/391 [00:45<00:00,  8.64it/s]"
     ]
    },
    {
     "name": "stdout",
     "output_type": "stream",
     "text": [
      "Epoch Loss = 1.1573270358088072 \t Epoch Accuracy = 84.54 \t Gradient Norm = 1.43\n"
     ]
    },
    {
     "name": "stderr",
     "output_type": "stream",
     "text": [
      "\n"
     ]
    },
    {
     "name": "stdout",
     "output_type": "stream",
     "text": [
      "Validation Metrics: Average Loss: 0.0120, Accuracy: 8319/10000 (83.19%)\n",
      "Epoch 35\n"
     ]
    },
    {
     "name": "stderr",
     "output_type": "stream",
     "text": [
      "Loss=1.103431224822998\tAccuracy=84.55\tGradient Norm=1.44: 100%|██████████| 391/391 [00:45<00:00,  8.50it/s]"
     ]
    },
    {
     "name": "stdout",
     "output_type": "stream",
     "text": [
      "Epoch Loss = 1.156318239543749 \t Epoch Accuracy = 84.55 \t Gradient Norm = 1.44\n"
     ]
    },
    {
     "name": "stderr",
     "output_type": "stream",
     "text": [
      "\n"
     ]
    },
    {
     "name": "stdout",
     "output_type": "stream",
     "text": [
      "Validation Metrics: Average Loss: 0.0106, Accuracy: 9002/10000 (90.02%)\n",
      "Model saved with accuracy 90.02\n",
      "Epoch 36\n"
     ]
    },
    {
     "name": "stderr",
     "output_type": "stream",
     "text": [
      "Loss=1.0999221801757812\tAccuracy=84.85\tGradient Norm=1.44: 100%|██████████| 391/391 [00:45<00:00,  8.64it/s]"
     ]
    },
    {
     "name": "stdout",
     "output_type": "stream",
     "text": [
      "Epoch Loss = 1.152280125166754 \t Epoch Accuracy = 84.85 \t Gradient Norm = 1.44\n"
     ]
    },
    {
     "name": "stderr",
     "output_type": "stream",
     "text": [
      "\n"
     ]
    },
    {
     "name": "stdout",
     "output_type": "stream",
     "text": [
      "Validation Metrics: Average Loss: 0.0105, Accuracy: 9030/10000 (90.30%)\n",
      "Model saved with accuracy 90.3\n",
      "Epoch 37\n"
     ]
    },
    {
     "name": "stderr",
     "output_type": "stream",
     "text": [
      "Loss=1.1651294231414795\tAccuracy=84.83\tGradient Norm=1.45: 100%|██████████| 391/391 [00:45<00:00,  8.54it/s]"
     ]
    },
    {
     "name": "stdout",
     "output_type": "stream",
     "text": [
      "Epoch Loss = 1.1505937716540169 \t Epoch Accuracy = 84.83 \t Gradient Norm = 1.45\n"
     ]
    },
    {
     "name": "stderr",
     "output_type": "stream",
     "text": [
      "\n"
     ]
    },
    {
     "name": "stdout",
     "output_type": "stream",
     "text": [
      "Validation Metrics: Average Loss: 0.0109, Accuracy: 8831/10000 (88.31%)\n",
      "Epoch 38\n"
     ]
    },
    {
     "name": "stderr",
     "output_type": "stream",
     "text": [
      "Loss=1.26128351688385\tAccuracy=85.20\tGradient Norm=1.45: 100%|██████████| 391/391 [00:45<00:00,  8.60it/s]"
     ]
    },
    {
     "name": "stdout",
     "output_type": "stream",
     "text": [
      "Epoch Loss = 1.1443585398252054 \t Epoch Accuracy = 85.20 \t Gradient Norm = 1.45\n"
     ]
    },
    {
     "name": "stderr",
     "output_type": "stream",
     "text": [
      "\n"
     ]
    },
    {
     "name": "stdout",
     "output_type": "stream",
     "text": [
      "Validation Metrics: Average Loss: 0.0118, Accuracy: 8451/10000 (84.51%)\n",
      "Epoch 39\n"
     ]
    },
    {
     "name": "stderr",
     "output_type": "stream",
     "text": [
      "Loss=1.1119961738586426\tAccuracy=85.17\tGradient Norm=1.46: 100%|██████████| 391/391 [00:45<00:00,  8.57it/s]"
     ]
    },
    {
     "name": "stdout",
     "output_type": "stream",
     "text": [
      "Epoch Loss = 1.1440640971483782 \t Epoch Accuracy = 85.17 \t Gradient Norm = 1.46\n"
     ]
    },
    {
     "name": "stderr",
     "output_type": "stream",
     "text": [
      "\n"
     ]
    },
    {
     "name": "stdout",
     "output_type": "stream",
     "text": [
      "Validation Metrics: Average Loss: 0.0111, Accuracy: 8763/10000 (87.63%)\n",
      "Epoch 40\n"
     ]
    },
    {
     "name": "stderr",
     "output_type": "stream",
     "text": [
      "Loss=1.0778350830078125\tAccuracy=85.35\tGradient Norm=1.46: 100%|██████████| 391/391 [00:45<00:00,  8.61it/s]"
     ]
    },
    {
     "name": "stdout",
     "output_type": "stream",
     "text": [
      "Epoch Loss = 1.143448944286922 \t Epoch Accuracy = 85.35 \t Gradient Norm = 1.46\n"
     ]
    },
    {
     "name": "stderr",
     "output_type": "stream",
     "text": [
      "\n"
     ]
    },
    {
     "name": "stdout",
     "output_type": "stream",
     "text": [
      "Validation Metrics: Average Loss: 0.0105, Accuracy: 9032/10000 (90.32%)\n",
      "Model saved with accuracy 90.32\n",
      "Epoch 41\n"
     ]
    },
    {
     "name": "stderr",
     "output_type": "stream",
     "text": [
      "Loss=1.1531248092651367\tAccuracy=85.14\tGradient Norm=1.48: 100%|██████████| 391/391 [00:45<00:00,  8.55it/s]"
     ]
    },
    {
     "name": "stdout",
     "output_type": "stream",
     "text": [
      "Epoch Loss = 1.1438654661178589 \t Epoch Accuracy = 85.14 \t Gradient Norm = 1.48\n"
     ]
    },
    {
     "name": "stderr",
     "output_type": "stream",
     "text": [
      "\n"
     ]
    },
    {
     "name": "stdout",
     "output_type": "stream",
     "text": [
      "Validation Metrics: Average Loss: 0.0108, Accuracy: 8915/10000 (89.15%)\n",
      "Epoch 42\n"
     ]
    },
    {
     "name": "stderr",
     "output_type": "stream",
     "text": [
      "Loss=1.0591572523117065\tAccuracy=85.31\tGradient Norm=1.47: 100%|██████████| 391/391 [00:45<00:00,  8.55it/s]"
     ]
    },
    {
     "name": "stdout",
     "output_type": "stream",
     "text": [
      "Epoch Loss = 1.141725478269865 \t Epoch Accuracy = 85.31 \t Gradient Norm = 1.47\n"
     ]
    },
    {
     "name": "stderr",
     "output_type": "stream",
     "text": [
      "\n"
     ]
    },
    {
     "name": "stdout",
     "output_type": "stream",
     "text": [
      "Validation Metrics: Average Loss: 0.0108, Accuracy: 8871/10000 (88.71%)\n",
      "Epoch 43\n"
     ]
    },
    {
     "name": "stderr",
     "output_type": "stream",
     "text": [
      "Loss=1.1019458770751953\tAccuracy=85.60\tGradient Norm=1.47: 100%|██████████| 391/391 [00:45<00:00,  8.51it/s]"
     ]
    },
    {
     "name": "stdout",
     "output_type": "stream",
     "text": [
      "Epoch Loss = 1.136297364673956 \t Epoch Accuracy = 85.60 \t Gradient Norm = 1.47\n"
     ]
    },
    {
     "name": "stderr",
     "output_type": "stream",
     "text": [
      "\n"
     ]
    },
    {
     "name": "stdout",
     "output_type": "stream",
     "text": [
      "Validation Metrics: Average Loss: 0.0112, Accuracy: 8718/10000 (87.18%)\n",
      "Epoch 44\n"
     ]
    },
    {
     "name": "stderr",
     "output_type": "stream",
     "text": [
      "Loss=1.2165613174438477\tAccuracy=85.48\tGradient Norm=1.49: 100%|██████████| 391/391 [00:45<00:00,  8.56it/s]"
     ]
    },
    {
     "name": "stdout",
     "output_type": "stream",
     "text": [
      "Epoch Loss = 1.1359492887926224 \t Epoch Accuracy = 85.48 \t Gradient Norm = 1.49\n"
     ]
    },
    {
     "name": "stderr",
     "output_type": "stream",
     "text": [
      "\n"
     ]
    },
    {
     "name": "stdout",
     "output_type": "stream",
     "text": [
      "Validation Metrics: Average Loss: 0.0119, Accuracy: 8394/10000 (83.94%)\n",
      "Epoch 45\n"
     ]
    },
    {
     "name": "stderr",
     "output_type": "stream",
     "text": [
      "Loss=1.1415461301803589\tAccuracy=85.65\tGradient Norm=1.48: 100%|██████████| 391/391 [00:45<00:00,  8.53it/s]"
     ]
    },
    {
     "name": "stdout",
     "output_type": "stream",
     "text": [
      "Epoch Loss = 1.134340782604559 \t Epoch Accuracy = 85.65 \t Gradient Norm = 1.48\n"
     ]
    },
    {
     "name": "stderr",
     "output_type": "stream",
     "text": [
      "\n"
     ]
    },
    {
     "name": "stdout",
     "output_type": "stream",
     "text": [
      "Validation Metrics: Average Loss: 0.0104, Accuracy: 9097/10000 (90.97%)\n",
      "Model saved with accuracy 90.97\n",
      "Epoch 46\n"
     ]
    },
    {
     "name": "stderr",
     "output_type": "stream",
     "text": [
      "Loss=1.0942784547805786\tAccuracy=85.64\tGradient Norm=1.48: 100%|██████████| 391/391 [00:45<00:00,  8.59it/s]"
     ]
    },
    {
     "name": "stdout",
     "output_type": "stream",
     "text": [
      "Epoch Loss = 1.1345206020433274 \t Epoch Accuracy = 85.64 \t Gradient Norm = 1.48\n"
     ]
    },
    {
     "name": "stderr",
     "output_type": "stream",
     "text": [
      "\n"
     ]
    },
    {
     "name": "stdout",
     "output_type": "stream",
     "text": [
      "Validation Metrics: Average Loss: 0.0105, Accuracy: 9001/10000 (90.01%)\n",
      "Epoch 47\n"
     ]
    },
    {
     "name": "stderr",
     "output_type": "stream",
     "text": [
      "Loss=1.010474443435669\tAccuracy=86.01\tGradient Norm=1.48: 100%|██████████| 391/391 [00:45<00:00,  8.51it/s]"
     ]
    },
    {
     "name": "stdout",
     "output_type": "stream",
     "text": [
      "Epoch Loss = 1.1278475208965408 \t Epoch Accuracy = 86.01 \t Gradient Norm = 1.48\n"
     ]
    },
    {
     "name": "stderr",
     "output_type": "stream",
     "text": [
      "\n"
     ]
    },
    {
     "name": "stdout",
     "output_type": "stream",
     "text": [
      "Validation Metrics: Average Loss: 0.0107, Accuracy: 9003/10000 (90.03%)\n",
      "Epoch 48\n"
     ]
    },
    {
     "name": "stderr",
     "output_type": "stream",
     "text": [
      "Loss=1.095969319343567\tAccuracy=86.22\tGradient Norm=1.50: 100%|██████████| 391/391 [00:45<00:00,  8.61it/s]"
     ]
    },
    {
     "name": "stdout",
     "output_type": "stream",
     "text": [
      "Epoch Loss = 1.1263374431663766 \t Epoch Accuracy = 86.22 \t Gradient Norm = 1.50\n"
     ]
    },
    {
     "name": "stderr",
     "output_type": "stream",
     "text": [
      "\n"
     ]
    },
    {
     "name": "stdout",
     "output_type": "stream",
     "text": [
      "Validation Metrics: Average Loss: 0.0110, Accuracy: 8816/10000 (88.16%)\n",
      "Epoch 49\n"
     ]
    },
    {
     "name": "stderr",
     "output_type": "stream",
     "text": [
      "Loss=1.1865378618240356\tAccuracy=86.06\tGradient Norm=1.51: 100%|██████████| 391/391 [00:46<00:00,  8.47it/s]"
     ]
    },
    {
     "name": "stdout",
     "output_type": "stream",
     "text": [
      "Epoch Loss = 1.1277710156672447 \t Epoch Accuracy = 86.06 \t Gradient Norm = 1.51\n"
     ]
    },
    {
     "name": "stderr",
     "output_type": "stream",
     "text": [
      "\n"
     ]
    },
    {
     "name": "stdout",
     "output_type": "stream",
     "text": [
      "Validation Metrics: Average Loss: 0.0113, Accuracy: 8622/10000 (86.22%)\n",
      "Epoch 50\n"
     ]
    },
    {
     "name": "stderr",
     "output_type": "stream",
     "text": [
      "Loss=1.0702641010284424\tAccuracy=86.32\tGradient Norm=1.50: 100%|██████████| 391/391 [00:45<00:00,  8.57it/s]"
     ]
    },
    {
     "name": "stdout",
     "output_type": "stream",
     "text": [
      "Epoch Loss = 1.1241365954699114 \t Epoch Accuracy = 86.32 \t Gradient Norm = 1.50\n"
     ]
    },
    {
     "name": "stderr",
     "output_type": "stream",
     "text": [
      "\n"
     ]
    },
    {
     "name": "stdout",
     "output_type": "stream",
     "text": [
      "Validation Metrics: Average Loss: 0.0103, Accuracy: 9136/10000 (91.36%)\n",
      "Model saved with accuracy 91.36\n",
      "Epoch 51\n"
     ]
    },
    {
     "name": "stderr",
     "output_type": "stream",
     "text": [
      "Loss=1.133635401725769\tAccuracy=86.32\tGradient Norm=1.52: 100%|██████████| 391/391 [00:45<00:00,  8.50it/s]"
     ]
    },
    {
     "name": "stdout",
     "output_type": "stream",
     "text": [
      "Epoch Loss = 1.124924771011333 \t Epoch Accuracy = 86.32 \t Gradient Norm = 1.52\n"
     ]
    },
    {
     "name": "stderr",
     "output_type": "stream",
     "text": [
      "\n"
     ]
    },
    {
     "name": "stdout",
     "output_type": "stream",
     "text": [
      "Validation Metrics: Average Loss: 0.0108, Accuracy: 8933/10000 (89.33%)\n",
      "Epoch 52\n"
     ]
    },
    {
     "name": "stderr",
     "output_type": "stream",
     "text": [
      "Loss=1.0676769018173218\tAccuracy=86.56\tGradient Norm=1.50: 100%|██████████| 391/391 [00:45<00:00,  8.54it/s]"
     ]
    },
    {
     "name": "stdout",
     "output_type": "stream",
     "text": [
      "Epoch Loss = 1.1189895321036238 \t Epoch Accuracy = 86.56 \t Gradient Norm = 1.50\n"
     ]
    },
    {
     "name": "stderr",
     "output_type": "stream",
     "text": [
      "\n"
     ]
    },
    {
     "name": "stdout",
     "output_type": "stream",
     "text": [
      "Validation Metrics: Average Loss: 0.0108, Accuracy: 8911/10000 (89.11%)\n",
      "Epoch 53\n"
     ]
    },
    {
     "name": "stderr",
     "output_type": "stream",
     "text": [
      "Loss=1.0489122867584229\tAccuracy=86.52\tGradient Norm=1.51: 100%|██████████| 391/391 [00:45<00:00,  8.57it/s]"
     ]
    },
    {
     "name": "stdout",
     "output_type": "stream",
     "text": [
      "Epoch Loss = 1.12056726720327 \t Epoch Accuracy = 86.52 \t Gradient Norm = 1.51\n"
     ]
    },
    {
     "name": "stderr",
     "output_type": "stream",
     "text": [
      "\n"
     ]
    },
    {
     "name": "stdout",
     "output_type": "stream",
     "text": [
      "Validation Metrics: Average Loss: 0.0107, Accuracy: 8922/10000 (89.22%)\n",
      "Epoch 54\n"
     ]
    },
    {
     "name": "stderr",
     "output_type": "stream",
     "text": [
      "Loss=1.0655958652496338\tAccuracy=86.65\tGradient Norm=1.52: 100%|██████████| 391/391 [00:45<00:00,  8.59it/s]"
     ]
    },
    {
     "name": "stdout",
     "output_type": "stream",
     "text": [
      "Epoch Loss = 1.1179160166274555 \t Epoch Accuracy = 86.65 \t Gradient Norm = 1.52\n"
     ]
    },
    {
     "name": "stderr",
     "output_type": "stream",
     "text": [
      "\n"
     ]
    },
    {
     "name": "stdout",
     "output_type": "stream",
     "text": [
      "Validation Metrics: Average Loss: 0.0109, Accuracy: 8854/10000 (88.54%)\n",
      "Epoch 55\n"
     ]
    },
    {
     "name": "stderr",
     "output_type": "stream",
     "text": [
      "Loss=1.1857428550720215\tAccuracy=86.52\tGradient Norm=1.54: 100%|██████████| 391/391 [00:45<00:00,  8.56it/s]"
     ]
    },
    {
     "name": "stdout",
     "output_type": "stream",
     "text": [
      "Epoch Loss = 1.1186292616607587 \t Epoch Accuracy = 86.52 \t Gradient Norm = 1.54\n"
     ]
    },
    {
     "name": "stderr",
     "output_type": "stream",
     "text": [
      "\n"
     ]
    },
    {
     "name": "stdout",
     "output_type": "stream",
     "text": [
      "Validation Metrics: Average Loss: 0.0104, Accuracy: 9147/10000 (91.47%)\n",
      "Model saved with accuracy 91.47\n",
      "Epoch 56\n"
     ]
    },
    {
     "name": "stderr",
     "output_type": "stream",
     "text": [
      "Loss=1.0435329675674438\tAccuracy=86.82\tGradient Norm=1.53: 100%|██████████| 391/391 [00:45<00:00,  8.54it/s]"
     ]
    },
    {
     "name": "stdout",
     "output_type": "stream",
     "text": [
      "Epoch Loss = 1.115560110572659 \t Epoch Accuracy = 86.82 \t Gradient Norm = 1.53\n"
     ]
    },
    {
     "name": "stderr",
     "output_type": "stream",
     "text": [
      "\n"
     ]
    },
    {
     "name": "stdout",
     "output_type": "stream",
     "text": [
      "Validation Metrics: Average Loss: 0.0104, Accuracy: 9128/10000 (91.28%)\n",
      "Epoch 57\n"
     ]
    },
    {
     "name": "stderr",
     "output_type": "stream",
     "text": [
      "Loss=1.1087725162506104\tAccuracy=86.76\tGradient Norm=1.53: 100%|██████████| 391/391 [00:45<00:00,  8.52it/s]"
     ]
    },
    {
     "name": "stdout",
     "output_type": "stream",
     "text": [
      "Epoch Loss = 1.116623895247574 \t Epoch Accuracy = 86.76 \t Gradient Norm = 1.53\n"
     ]
    },
    {
     "name": "stderr",
     "output_type": "stream",
     "text": [
      "\n"
     ]
    },
    {
     "name": "stdout",
     "output_type": "stream",
     "text": [
      "Validation Metrics: Average Loss: 0.0106, Accuracy: 9037/10000 (90.37%)\n",
      "Epoch 58\n"
     ]
    },
    {
     "name": "stderr",
     "output_type": "stream",
     "text": [
      "Loss=1.1158199310302734\tAccuracy=86.75\tGradient Norm=1.53: 100%|██████████| 391/391 [00:45<00:00,  8.51it/s]"
     ]
    },
    {
     "name": "stdout",
     "output_type": "stream",
     "text": [
      "Epoch Loss = 1.1122214112745221 \t Epoch Accuracy = 86.75 \t Gradient Norm = 1.53\n"
     ]
    },
    {
     "name": "stderr",
     "output_type": "stream",
     "text": [
      "\n"
     ]
    },
    {
     "name": "stdout",
     "output_type": "stream",
     "text": [
      "Validation Metrics: Average Loss: 0.0110, Accuracy: 8813/10000 (88.13%)\n",
      "Epoch 59\n"
     ]
    },
    {
     "name": "stderr",
     "output_type": "stream",
     "text": [
      "Loss=1.0861159563064575\tAccuracy=86.81\tGradient Norm=1.56: 100%|██████████| 391/391 [00:46<00:00,  8.47it/s]"
     ]
    },
    {
     "name": "stdout",
     "output_type": "stream",
     "text": [
      "Epoch Loss = 1.1133037775068941 \t Epoch Accuracy = 86.81 \t Gradient Norm = 1.56\n"
     ]
    },
    {
     "name": "stderr",
     "output_type": "stream",
     "text": [
      "\n"
     ]
    },
    {
     "name": "stdout",
     "output_type": "stream",
     "text": [
      "Validation Metrics: Average Loss: 0.0118, Accuracy: 8390/10000 (83.90%)\n",
      "Epoch 60\n"
     ]
    },
    {
     "name": "stderr",
     "output_type": "stream",
     "text": [
      "Loss=1.0904650688171387\tAccuracy=86.98\tGradient Norm=1.55: 100%|██████████| 391/391 [00:45<00:00,  8.51it/s]"
     ]
    },
    {
     "name": "stdout",
     "output_type": "stream",
     "text": [
      "Epoch Loss = 1.1103412147678073 \t Epoch Accuracy = 86.98 \t Gradient Norm = 1.55\n"
     ]
    },
    {
     "name": "stderr",
     "output_type": "stream",
     "text": [
      "\n"
     ]
    },
    {
     "name": "stdout",
     "output_type": "stream",
     "text": [
      "Validation Metrics: Average Loss: 0.0103, Accuracy: 9129/10000 (91.29%)\n",
      "Epoch 61\n"
     ]
    },
    {
     "name": "stderr",
     "output_type": "stream",
     "text": [
      "Loss=1.0634284019470215\tAccuracy=86.98\tGradient Norm=1.57: 100%|██████████| 391/391 [00:46<00:00,  8.49it/s]"
     ]
    },
    {
     "name": "stdout",
     "output_type": "stream",
     "text": [
      "Epoch Loss = 1.1094109103502825 \t Epoch Accuracy = 86.98 \t Gradient Norm = 1.57\n"
     ]
    },
    {
     "name": "stderr",
     "output_type": "stream",
     "text": [
      "\n"
     ]
    },
    {
     "name": "stdout",
     "output_type": "stream",
     "text": [
      "Validation Metrics: Average Loss: 0.0105, Accuracy: 9063/10000 (90.63%)\n",
      "Epoch 62\n"
     ]
    },
    {
     "name": "stderr",
     "output_type": "stream",
     "text": [
      "Loss=1.0638518333435059\tAccuracy=87.25\tGradient Norm=1.56: 100%|██████████| 391/391 [00:45<00:00,  8.53it/s]"
     ]
    },
    {
     "name": "stdout",
     "output_type": "stream",
     "text": [
      "Epoch Loss = 1.1067648284575518 \t Epoch Accuracy = 87.25 \t Gradient Norm = 1.56\n"
     ]
    },
    {
     "name": "stderr",
     "output_type": "stream",
     "text": [
      "\n"
     ]
    },
    {
     "name": "stdout",
     "output_type": "stream",
     "text": [
      "Validation Metrics: Average Loss: 0.0115, Accuracy: 8540/10000 (85.40%)\n",
      "Epoch 63\n"
     ]
    },
    {
     "name": "stderr",
     "output_type": "stream",
     "text": [
      "Loss=1.0638891458511353\tAccuracy=87.07\tGradient Norm=1.57: 100%|██████████| 391/391 [00:45<00:00,  8.51it/s]"
     ]
    },
    {
     "name": "stdout",
     "output_type": "stream",
     "text": [
      "Epoch Loss = 1.1087752685827368 \t Epoch Accuracy = 87.07 \t Gradient Norm = 1.57\n"
     ]
    },
    {
     "name": "stderr",
     "output_type": "stream",
     "text": [
      "\n"
     ]
    },
    {
     "name": "stdout",
     "output_type": "stream",
     "text": [
      "Validation Metrics: Average Loss: 0.0109, Accuracy: 8804/10000 (88.04%)\n",
      "Epoch 64\n"
     ]
    },
    {
     "name": "stderr",
     "output_type": "stream",
     "text": [
      "Loss=1.1214141845703125\tAccuracy=87.33\tGradient Norm=1.57: 100%|██████████| 391/391 [00:45<00:00,  8.56it/s]"
     ]
    },
    {
     "name": "stdout",
     "output_type": "stream",
     "text": [
      "Epoch Loss = 1.1032124818743343 \t Epoch Accuracy = 87.33 \t Gradient Norm = 1.57\n"
     ]
    },
    {
     "name": "stderr",
     "output_type": "stream",
     "text": [
      "\n"
     ]
    },
    {
     "name": "stdout",
     "output_type": "stream",
     "text": [
      "Validation Metrics: Average Loss: 0.0116, Accuracy: 8443/10000 (84.43%)\n",
      "Epoch 65\n"
     ]
    },
    {
     "name": "stderr",
     "output_type": "stream",
     "text": [
      "Loss=1.075162410736084\tAccuracy=87.54\tGradient Norm=1.56: 100%|██████████| 391/391 [00:45<00:00,  8.51it/s]"
     ]
    },
    {
     "name": "stdout",
     "output_type": "stream",
     "text": [
      "Epoch Loss = 1.1001507597201317 \t Epoch Accuracy = 87.54 \t Gradient Norm = 1.56\n"
     ]
    },
    {
     "name": "stderr",
     "output_type": "stream",
     "text": [
      "\n"
     ]
    },
    {
     "name": "stdout",
     "output_type": "stream",
     "text": [
      "Validation Metrics: Average Loss: 0.0102, Accuracy: 9211/10000 (92.11%)\n",
      "Model saved with accuracy 92.11\n",
      "Epoch 66\n"
     ]
    },
    {
     "name": "stderr",
     "output_type": "stream",
     "text": [
      "Loss=1.1075563430786133\tAccuracy=87.57\tGradient Norm=1.57: 100%|██████████| 391/391 [00:45<00:00,  8.50it/s]"
     ]
    },
    {
     "name": "stdout",
     "output_type": "stream",
     "text": [
      "Epoch Loss = 1.09932094400801 \t Epoch Accuracy = 87.57 \t Gradient Norm = 1.57\n"
     ]
    },
    {
     "name": "stderr",
     "output_type": "stream",
     "text": [
      "\n"
     ]
    },
    {
     "name": "stdout",
     "output_type": "stream",
     "text": [
      "Validation Metrics: Average Loss: 0.0103, Accuracy: 9149/10000 (91.49%)\n",
      "Epoch 67\n"
     ]
    },
    {
     "name": "stderr",
     "output_type": "stream",
     "text": [
      "Loss=1.1581995487213135\tAccuracy=87.27\tGradient Norm=1.58: 100%|██████████| 391/391 [00:46<00:00,  8.48it/s]"
     ]
    },
    {
     "name": "stdout",
     "output_type": "stream",
     "text": [
      "Epoch Loss = 1.1036076594496627 \t Epoch Accuracy = 87.27 \t Gradient Norm = 1.58\n"
     ]
    },
    {
     "name": "stderr",
     "output_type": "stream",
     "text": [
      "\n"
     ]
    },
    {
     "name": "stdout",
     "output_type": "stream",
     "text": [
      "Validation Metrics: Average Loss: 0.0108, Accuracy: 8907/10000 (89.07%)\n",
      "Epoch 68\n"
     ]
    },
    {
     "name": "stderr",
     "output_type": "stream",
     "text": [
      "Loss=1.0683629512786865\tAccuracy=87.37\tGradient Norm=1.59: 100%|██████████| 391/391 [00:45<00:00,  8.52it/s]"
     ]
    },
    {
     "name": "stdout",
     "output_type": "stream",
     "text": [
      "Epoch Loss = 1.1040807973088511 \t Epoch Accuracy = 87.37 \t Gradient Norm = 1.59\n"
     ]
    },
    {
     "name": "stderr",
     "output_type": "stream",
     "text": [
      "\n"
     ]
    },
    {
     "name": "stdout",
     "output_type": "stream",
     "text": [
      "Validation Metrics: Average Loss: 0.0106, Accuracy: 9001/10000 (90.01%)\n",
      "Epoch 69\n"
     ]
    },
    {
     "name": "stderr",
     "output_type": "stream",
     "text": [
      "Loss=1.095742106437683\tAccuracy=87.60\tGradient Norm=1.58: 100%|██████████| 391/391 [00:45<00:00,  8.52it/s]"
     ]
    },
    {
     "name": "stdout",
     "output_type": "stream",
     "text": [
      "Epoch Loss = 1.097825523532565 \t Epoch Accuracy = 87.60 \t Gradient Norm = 1.58\n"
     ]
    },
    {
     "name": "stderr",
     "output_type": "stream",
     "text": [
      "\n"
     ]
    },
    {
     "name": "stdout",
     "output_type": "stream",
     "text": [
      "Validation Metrics: Average Loss: 0.0113, Accuracy: 8638/10000 (86.38%)\n",
      "Epoch 70\n"
     ]
    },
    {
     "name": "stderr",
     "output_type": "stream",
     "text": [
      "Loss=1.0756736993789673\tAccuracy=87.77\tGradient Norm=1.58: 100%|██████████| 391/391 [00:46<00:00,  8.47it/s]"
     ]
    },
    {
     "name": "stdout",
     "output_type": "stream",
     "text": [
      "Epoch Loss = 1.0979282401711739 \t Epoch Accuracy = 87.77 \t Gradient Norm = 1.58\n"
     ]
    },
    {
     "name": "stderr",
     "output_type": "stream",
     "text": [
      "\n"
     ]
    },
    {
     "name": "stdout",
     "output_type": "stream",
     "text": [
      "Validation Metrics: Average Loss: 0.0102, Accuracy: 9226/10000 (92.26%)\n",
      "Model saved with accuracy 92.26\n",
      "Epoch 71\n"
     ]
    },
    {
     "name": "stderr",
     "output_type": "stream",
     "text": [
      "Loss=1.06528639793396\tAccuracy=87.84\tGradient Norm=1.60: 100%|██████████| 391/391 [00:45<00:00,  8.52it/s]"
     ]
    },
    {
     "name": "stdout",
     "output_type": "stream",
     "text": [
      "Epoch Loss = 1.0942449517872022 \t Epoch Accuracy = 87.84 \t Gradient Norm = 1.60\n"
     ]
    },
    {
     "name": "stderr",
     "output_type": "stream",
     "text": [
      "\n"
     ]
    },
    {
     "name": "stdout",
     "output_type": "stream",
     "text": [
      "Validation Metrics: Average Loss: 0.0102, Accuracy: 9165/10000 (91.65%)\n",
      "Epoch 72\n"
     ]
    },
    {
     "name": "stderr",
     "output_type": "stream",
     "text": [
      "Loss=1.099318027496338\tAccuracy=87.98\tGradient Norm=1.61: 100%|██████████| 391/391 [00:46<00:00,  8.50it/s]"
     ]
    },
    {
     "name": "stdout",
     "output_type": "stream",
     "text": [
      "Epoch Loss = 1.0936872125281702 \t Epoch Accuracy = 87.98 \t Gradient Norm = 1.61\n"
     ]
    },
    {
     "name": "stderr",
     "output_type": "stream",
     "text": [
      "\n"
     ]
    },
    {
     "name": "stdout",
     "output_type": "stream",
     "text": [
      "Validation Metrics: Average Loss: 0.0106, Accuracy: 8994/10000 (89.94%)\n",
      "Epoch 73\n"
     ]
    },
    {
     "name": "stderr",
     "output_type": "stream",
     "text": [
      "Loss=1.0693217515945435\tAccuracy=87.84\tGradient Norm=1.61: 100%|██████████| 391/391 [00:46<00:00,  8.47it/s]"
     ]
    },
    {
     "name": "stdout",
     "output_type": "stream",
     "text": [
      "Epoch Loss = 1.093253934932182 \t Epoch Accuracy = 87.84 \t Gradient Norm = 1.61\n"
     ]
    },
    {
     "name": "stderr",
     "output_type": "stream",
     "text": [
      "\n"
     ]
    },
    {
     "name": "stdout",
     "output_type": "stream",
     "text": [
      "Validation Metrics: Average Loss: 0.0110, Accuracy: 8838/10000 (88.38%)\n",
      "Epoch 74\n"
     ]
    },
    {
     "name": "stderr",
     "output_type": "stream",
     "text": [
      "Loss=1.240733027458191\tAccuracy=88.00\tGradient Norm=1.59: 100%|██████████| 391/391 [00:45<00:00,  8.53it/s]"
     ]
    },
    {
     "name": "stdout",
     "output_type": "stream",
     "text": [
      "Epoch Loss = 1.0909749618576616 \t Epoch Accuracy = 88.00 \t Gradient Norm = 1.59\n"
     ]
    },
    {
     "name": "stderr",
     "output_type": "stream",
     "text": [
      "\n"
     ]
    },
    {
     "name": "stdout",
     "output_type": "stream",
     "text": [
      "Validation Metrics: Average Loss: 0.0110, Accuracy: 8802/10000 (88.02%)\n",
      "Epoch 75\n"
     ]
    },
    {
     "name": "stderr",
     "output_type": "stream",
     "text": [
      "Loss=1.0499954223632812\tAccuracy=88.20\tGradient Norm=1.61: 100%|██████████| 391/391 [00:46<00:00,  8.49it/s]"
     ]
    },
    {
     "name": "stdout",
     "output_type": "stream",
     "text": [
      "Epoch Loss = 1.0884023055701 \t Epoch Accuracy = 88.20 \t Gradient Norm = 1.61\n"
     ]
    },
    {
     "name": "stderr",
     "output_type": "stream",
     "text": [
      "\n"
     ]
    },
    {
     "name": "stdout",
     "output_type": "stream",
     "text": [
      "Validation Metrics: Average Loss: 0.0103, Accuracy: 9200/10000 (92.00%)\n",
      "Epoch 76\n"
     ]
    },
    {
     "name": "stderr",
     "output_type": "stream",
     "text": [
      "Loss=0.9862295985221863\tAccuracy=88.34\tGradient Norm=1.62: 100%|██████████| 391/391 [00:47<00:00,  8.27it/s]"
     ]
    },
    {
     "name": "stdout",
     "output_type": "stream",
     "text": [
      "Epoch Loss = 1.0868467691609316 \t Epoch Accuracy = 88.34 \t Gradient Norm = 1.62\n"
     ]
    },
    {
     "name": "stderr",
     "output_type": "stream",
     "text": [
      "\n"
     ]
    },
    {
     "name": "stdout",
     "output_type": "stream",
     "text": [
      "Validation Metrics: Average Loss: 0.0103, Accuracy: 9119/10000 (91.19%)\n",
      "Epoch 77\n"
     ]
    },
    {
     "name": "stderr",
     "output_type": "stream",
     "text": [
      "Loss=1.0959506034851074\tAccuracy=87.96\tGradient Norm=1.65: 100%|██████████| 391/391 [00:45<00:00,  8.50it/s]"
     ]
    },
    {
     "name": "stdout",
     "output_type": "stream",
     "text": [
      "Epoch Loss = 1.090777640909795 \t Epoch Accuracy = 87.96 \t Gradient Norm = 1.65\n"
     ]
    },
    {
     "name": "stderr",
     "output_type": "stream",
     "text": [
      "\n"
     ]
    },
    {
     "name": "stdout",
     "output_type": "stream",
     "text": [
      "Validation Metrics: Average Loss: 0.0108, Accuracy: 8951/10000 (89.51%)\n",
      "Epoch 78\n"
     ]
    },
    {
     "name": "stderr",
     "output_type": "stream",
     "text": [
      "Loss=1.1288728713989258\tAccuracy=88.35\tGradient Norm=1.62: 100%|██████████| 391/391 [00:46<00:00,  8.49it/s]"
     ]
    },
    {
     "name": "stdout",
     "output_type": "stream",
     "text": [
      "Epoch Loss = 1.0864097852536174 \t Epoch Accuracy = 88.35 \t Gradient Norm = 1.62\n"
     ]
    },
    {
     "name": "stderr",
     "output_type": "stream",
     "text": [
      "\n"
     ]
    },
    {
     "name": "stdout",
     "output_type": "stream",
     "text": [
      "Validation Metrics: Average Loss: 0.0106, Accuracy: 9038/10000 (90.38%)\n",
      "Epoch 79\n"
     ]
    },
    {
     "name": "stderr",
     "output_type": "stream",
     "text": [
      "Loss=1.19058096408844\tAccuracy=88.65\tGradient Norm=1.65: 100%|██████████| 391/391 [00:45<00:00,  8.51it/s]"
     ]
    },
    {
     "name": "stdout",
     "output_type": "stream",
     "text": [
      "Epoch Loss = 1.0824386773206998 \t Epoch Accuracy = 88.65 \t Gradient Norm = 1.65\n"
     ]
    },
    {
     "name": "stderr",
     "output_type": "stream",
     "text": [
      "\n"
     ]
    },
    {
     "name": "stdout",
     "output_type": "stream",
     "text": [
      "Validation Metrics: Average Loss: 0.0106, Accuracy: 9029/10000 (90.29%)\n",
      "Epoch 80\n"
     ]
    },
    {
     "name": "stderr",
     "output_type": "stream",
     "text": [
      "Loss=1.0964144468307495\tAccuracy=88.40\tGradient Norm=1.64: 100%|██████████| 391/391 [00:46<00:00,  8.49it/s]"
     ]
    },
    {
     "name": "stdout",
     "output_type": "stream",
     "text": [
      "Epoch Loss = 1.0854930679511536 \t Epoch Accuracy = 88.40 \t Gradient Norm = 1.64\n"
     ]
    },
    {
     "name": "stderr",
     "output_type": "stream",
     "text": [
      "\n"
     ]
    },
    {
     "name": "stdout",
     "output_type": "stream",
     "text": [
      "Validation Metrics: Average Loss: 0.0102, Accuracy: 9208/10000 (92.08%)\n",
      "Epoch 81\n"
     ]
    },
    {
     "name": "stderr",
     "output_type": "stream",
     "text": [
      "Loss=1.1142518520355225\tAccuracy=88.73\tGradient Norm=1.65: 100%|██████████| 391/391 [00:46<00:00,  8.50it/s]"
     ]
    },
    {
     "name": "stdout",
     "output_type": "stream",
     "text": [
      "Epoch Loss = 1.0800895489695128 \t Epoch Accuracy = 88.73 \t Gradient Norm = 1.65\n"
     ]
    },
    {
     "name": "stderr",
     "output_type": "stream",
     "text": [
      "\n"
     ]
    },
    {
     "name": "stdout",
     "output_type": "stream",
     "text": [
      "Validation Metrics: Average Loss: 0.0102, Accuracy: 9200/10000 (92.00%)\n",
      "Epoch 82\n"
     ]
    },
    {
     "name": "stderr",
     "output_type": "stream",
     "text": [
      "Loss=1.0427064895629883\tAccuracy=88.82\tGradient Norm=1.66: 100%|██████████| 391/391 [00:46<00:00,  8.49it/s]"
     ]
    },
    {
     "name": "stdout",
     "output_type": "stream",
     "text": [
      "Epoch Loss = 1.078586284309397 \t Epoch Accuracy = 88.82 \t Gradient Norm = 1.66\n"
     ]
    },
    {
     "name": "stderr",
     "output_type": "stream",
     "text": [
      "\n"
     ]
    },
    {
     "name": "stdout",
     "output_type": "stream",
     "text": [
      "Validation Metrics: Average Loss: 0.0105, Accuracy: 9064/10000 (90.64%)\n",
      "Epoch 83\n"
     ]
    },
    {
     "name": "stderr",
     "output_type": "stream",
     "text": [
      "Loss=1.1364834308624268\tAccuracy=88.56\tGradient Norm=1.69: 100%|██████████| 391/391 [00:45<00:00,  8.51it/s]"
     ]
    },
    {
     "name": "stdout",
     "output_type": "stream",
     "text": [
      "Epoch Loss = 1.0817168655297946 \t Epoch Accuracy = 88.56 \t Gradient Norm = 1.69\n"
     ]
    },
    {
     "name": "stderr",
     "output_type": "stream",
     "text": [
      "\n"
     ]
    },
    {
     "name": "stdout",
     "output_type": "stream",
     "text": [
      "Validation Metrics: Average Loss: 0.0106, Accuracy: 9009/10000 (90.09%)\n",
      "Epoch 84\n"
     ]
    },
    {
     "name": "stderr",
     "output_type": "stream",
     "text": [
      "Loss=1.0617091655731201\tAccuracy=88.84\tGradient Norm=1.67: 100%|██████████| 391/391 [00:46<00:00,  8.49it/s]"
     ]
    },
    {
     "name": "stdout",
     "output_type": "stream",
     "text": [
      "Epoch Loss = 1.0776249328842553 \t Epoch Accuracy = 88.84 \t Gradient Norm = 1.67\n"
     ]
    },
    {
     "name": "stderr",
     "output_type": "stream",
     "text": [
      "\n"
     ]
    },
    {
     "name": "stdout",
     "output_type": "stream",
     "text": [
      "Validation Metrics: Average Loss: 0.0118, Accuracy: 8471/10000 (84.71%)\n",
      "Epoch 85\n"
     ]
    },
    {
     "name": "stderr",
     "output_type": "stream",
     "text": [
      "Loss=1.1310805082321167\tAccuracy=88.97\tGradient Norm=1.66: 100%|██████████| 391/391 [00:46<00:00,  8.48it/s]"
     ]
    },
    {
     "name": "stdout",
     "output_type": "stream",
     "text": [
      "Epoch Loss = 1.0748857264323612 \t Epoch Accuracy = 88.97 \t Gradient Norm = 1.66\n"
     ]
    },
    {
     "name": "stderr",
     "output_type": "stream",
     "text": [
      "\n"
     ]
    },
    {
     "name": "stdout",
     "output_type": "stream",
     "text": [
      "Validation Metrics: Average Loss: 0.0102, Accuracy: 9237/10000 (92.37%)\n",
      "Model saved with accuracy 92.37\n",
      "Epoch 86\n"
     ]
    },
    {
     "name": "stderr",
     "output_type": "stream",
     "text": [
      "Loss=1.1118183135986328\tAccuracy=89.17\tGradient Norm=1.68: 100%|██████████| 391/391 [00:46<00:00,  8.43it/s]"
     ]
    },
    {
     "name": "stdout",
     "output_type": "stream",
     "text": [
      "Epoch Loss = 1.0705012104395406 \t Epoch Accuracy = 89.17 \t Gradient Norm = 1.68\n"
     ]
    },
    {
     "name": "stderr",
     "output_type": "stream",
     "text": [
      "\n"
     ]
    },
    {
     "name": "stdout",
     "output_type": "stream",
     "text": [
      "Validation Metrics: Average Loss: 0.0104, Accuracy: 9092/10000 (90.92%)\n",
      "Epoch 87\n"
     ]
    },
    {
     "name": "stderr",
     "output_type": "stream",
     "text": [
      "Loss=1.0285143852233887\tAccuracy=89.22\tGradient Norm=1.68: 100%|██████████| 391/391 [00:46<00:00,  8.46it/s]"
     ]
    },
    {
     "name": "stdout",
     "output_type": "stream",
     "text": [
      "Epoch Loss = 1.0712786504374745 \t Epoch Accuracy = 89.22 \t Gradient Norm = 1.68\n"
     ]
    },
    {
     "name": "stderr",
     "output_type": "stream",
     "text": [
      "\n"
     ]
    },
    {
     "name": "stdout",
     "output_type": "stream",
     "text": [
      "Validation Metrics: Average Loss: 0.0104, Accuracy: 9058/10000 (90.58%)\n",
      "Epoch 88\n"
     ]
    },
    {
     "name": "stderr",
     "output_type": "stream",
     "text": [
      "Loss=1.181884527206421\tAccuracy=88.99\tGradient Norm=1.71: 100%|██████████| 391/391 [00:46<00:00,  8.45it/s]"
     ]
    },
    {
     "name": "stdout",
     "output_type": "stream",
     "text": [
      "Epoch Loss = 1.0738371380454743 \t Epoch Accuracy = 88.99 \t Gradient Norm = 1.71\n"
     ]
    },
    {
     "name": "stderr",
     "output_type": "stream",
     "text": [
      "\n"
     ]
    },
    {
     "name": "stdout",
     "output_type": "stream",
     "text": [
      "Validation Metrics: Average Loss: 0.0105, Accuracy: 9044/10000 (90.44%)\n",
      "Epoch 89\n"
     ]
    },
    {
     "name": "stderr",
     "output_type": "stream",
     "text": [
      "Loss=1.0925092697143555\tAccuracy=89.07\tGradient Norm=1.72: 100%|██████████| 391/391 [00:46<00:00,  8.44it/s]"
     ]
    },
    {
     "name": "stdout",
     "output_type": "stream",
     "text": [
      "Epoch Loss = 1.072704276465394 \t Epoch Accuracy = 89.07 \t Gradient Norm = 1.72\n"
     ]
    },
    {
     "name": "stderr",
     "output_type": "stream",
     "text": [
      "\n"
     ]
    },
    {
     "name": "stdout",
     "output_type": "stream",
     "text": [
      "Validation Metrics: Average Loss: 0.0107, Accuracy: 8981/10000 (89.81%)\n",
      "Epoch 90\n"
     ]
    },
    {
     "name": "stderr",
     "output_type": "stream",
     "text": [
      "Loss=1.0879435539245605\tAccuracy=89.35\tGradient Norm=1.71: 100%|██████████| 391/391 [00:46<00:00,  8.42it/s]"
     ]
    },
    {
     "name": "stdout",
     "output_type": "stream",
     "text": [
      "Epoch Loss = 1.0688344311836127 \t Epoch Accuracy = 89.35 \t Gradient Norm = 1.71\n"
     ]
    },
    {
     "name": "stderr",
     "output_type": "stream",
     "text": [
      "\n"
     ]
    },
    {
     "name": "stdout",
     "output_type": "stream",
     "text": [
      "Validation Metrics: Average Loss: 0.0102, Accuracy: 9210/10000 (92.10%)\n",
      "Epoch 91\n"
     ]
    },
    {
     "name": "stderr",
     "output_type": "stream",
     "text": [
      "Loss=1.1442975997924805\tAccuracy=89.46\tGradient Norm=1.71: 100%|██████████| 391/391 [00:46<00:00,  8.44it/s]"
     ]
    },
    {
     "name": "stdout",
     "output_type": "stream",
     "text": [
      "Epoch Loss = 1.066283496292046 \t Epoch Accuracy = 89.46 \t Gradient Norm = 1.71\n"
     ]
    },
    {
     "name": "stderr",
     "output_type": "stream",
     "text": [
      "\n"
     ]
    },
    {
     "name": "stdout",
     "output_type": "stream",
     "text": [
      "Validation Metrics: Average Loss: 0.0101, Accuracy: 9268/10000 (92.68%)\n",
      "Model saved with accuracy 92.68\n",
      "Epoch 92\n"
     ]
    },
    {
     "name": "stderr",
     "output_type": "stream",
     "text": [
      "Loss=1.1392830610275269\tAccuracy=89.61\tGradient Norm=1.73: 100%|██████████| 391/391 [00:46<00:00,  8.41it/s]"
     ]
    },
    {
     "name": "stdout",
     "output_type": "stream",
     "text": [
      "Epoch Loss = 1.063054604755948 \t Epoch Accuracy = 89.61 \t Gradient Norm = 1.73\n"
     ]
    },
    {
     "name": "stderr",
     "output_type": "stream",
     "text": [
      "\n"
     ]
    },
    {
     "name": "stdout",
     "output_type": "stream",
     "text": [
      "Validation Metrics: Average Loss: 0.0102, Accuracy: 9205/10000 (92.05%)\n",
      "Epoch 93\n"
     ]
    },
    {
     "name": "stderr",
     "output_type": "stream",
     "text": [
      "Loss=1.1294361352920532\tAccuracy=89.37\tGradient Norm=1.74: 100%|██████████| 391/391 [00:46<00:00,  8.39it/s]"
     ]
    },
    {
     "name": "stdout",
     "output_type": "stream",
     "text": [
      "Epoch Loss = 1.067077085795 \t Epoch Accuracy = 89.37 \t Gradient Norm = 1.74\n"
     ]
    },
    {
     "name": "stderr",
     "output_type": "stream",
     "text": [
      "\n"
     ]
    },
    {
     "name": "stdout",
     "output_type": "stream",
     "text": [
      "Validation Metrics: Average Loss: 0.0107, Accuracy: 8914/10000 (89.14%)\n",
      "Epoch 94\n"
     ]
    },
    {
     "name": "stderr",
     "output_type": "stream",
     "text": [
      "Loss=1.0569545030593872\tAccuracy=89.67\tGradient Norm=1.72: 100%|██████████| 391/391 [00:46<00:00,  8.42it/s]"
     ]
    },
    {
     "name": "stdout",
     "output_type": "stream",
     "text": [
      "Epoch Loss = 1.062112174223146 \t Epoch Accuracy = 89.67 \t Gradient Norm = 1.72\n"
     ]
    },
    {
     "name": "stderr",
     "output_type": "stream",
     "text": [
      "\n"
     ]
    },
    {
     "name": "stdout",
     "output_type": "stream",
     "text": [
      "Validation Metrics: Average Loss: 0.0108, Accuracy: 8914/10000 (89.14%)\n",
      "Epoch 95\n"
     ]
    },
    {
     "name": "stderr",
     "output_type": "stream",
     "text": [
      "Loss=1.1457186937332153\tAccuracy=89.63\tGradient Norm=1.75: 100%|██████████| 391/391 [00:47<00:00,  8.31it/s]"
     ]
    },
    {
     "name": "stdout",
     "output_type": "stream",
     "text": [
      "Epoch Loss = 1.062135429333543 \t Epoch Accuracy = 89.63 \t Gradient Norm = 1.75\n"
     ]
    },
    {
     "name": "stderr",
     "output_type": "stream",
     "text": [
      "\n"
     ]
    },
    {
     "name": "stdout",
     "output_type": "stream",
     "text": [
      "Validation Metrics: Average Loss: 0.0101, Accuracy: 9266/10000 (92.66%)\n",
      "Epoch 96\n"
     ]
    },
    {
     "name": "stderr",
     "output_type": "stream",
     "text": [
      "Loss=1.013539433479309\tAccuracy=89.76\tGradient Norm=1.74: 100%|██████████| 391/391 [00:46<00:00,  8.46it/s]"
     ]
    },
    {
     "name": "stdout",
     "output_type": "stream",
     "text": [
      "Epoch Loss = 1.0600266426115694 \t Epoch Accuracy = 89.76 \t Gradient Norm = 1.74\n"
     ]
    },
    {
     "name": "stderr",
     "output_type": "stream",
     "text": [
      "\n"
     ]
    },
    {
     "name": "stdout",
     "output_type": "stream",
     "text": [
      "Validation Metrics: Average Loss: 0.0100, Accuracy: 9320/10000 (93.20%)\n",
      "Model saved with accuracy 93.2\n",
      "Epoch 97\n"
     ]
    },
    {
     "name": "stderr",
     "output_type": "stream",
     "text": [
      "Loss=1.1532505750656128\tAccuracy=89.87\tGradient Norm=1.77: 100%|██████████| 391/391 [00:46<00:00,  8.42it/s]"
     ]
    },
    {
     "name": "stdout",
     "output_type": "stream",
     "text": [
      "Epoch Loss = 1.0575389374247597 \t Epoch Accuracy = 89.87 \t Gradient Norm = 1.77\n"
     ]
    },
    {
     "name": "stderr",
     "output_type": "stream",
     "text": [
      "\n"
     ]
    },
    {
     "name": "stdout",
     "output_type": "stream",
     "text": [
      "Validation Metrics: Average Loss: 0.0104, Accuracy: 9083/10000 (90.83%)\n",
      "Epoch 98\n"
     ]
    },
    {
     "name": "stderr",
     "output_type": "stream",
     "text": [
      "Loss=0.9746270775794983\tAccuracy=89.88\tGradient Norm=1.77: 100%|██████████| 391/391 [00:46<00:00,  8.41it/s]"
     ]
    },
    {
     "name": "stdout",
     "output_type": "stream",
     "text": [
      "Epoch Loss = 1.059218782750542 \t Epoch Accuracy = 89.88 \t Gradient Norm = 1.77\n"
     ]
    },
    {
     "name": "stderr",
     "output_type": "stream",
     "text": [
      "\n"
     ]
    },
    {
     "name": "stdout",
     "output_type": "stream",
     "text": [
      "Validation Metrics: Average Loss: 0.0105, Accuracy: 9084/10000 (90.84%)\n",
      "Epoch 99\n"
     ]
    },
    {
     "name": "stderr",
     "output_type": "stream",
     "text": [
      "Loss=0.9886559844017029\tAccuracy=89.92\tGradient Norm=1.77: 100%|██████████| 391/391 [00:46<00:00,  8.45it/s]"
     ]
    },
    {
     "name": "stdout",
     "output_type": "stream",
     "text": [
      "Epoch Loss = 1.056347486155722 \t Epoch Accuracy = 89.92 \t Gradient Norm = 1.77\n"
     ]
    },
    {
     "name": "stderr",
     "output_type": "stream",
     "text": [
      "\n"
     ]
    },
    {
     "name": "stdout",
     "output_type": "stream",
     "text": [
      "Validation Metrics: Average Loss: 0.0107, Accuracy: 8950/10000 (89.50%)\n",
      "Epoch 100\n"
     ]
    },
    {
     "name": "stderr",
     "output_type": "stream",
     "text": [
      "Loss=1.102349877357483\tAccuracy=89.84\tGradient Norm=1.76: 100%|██████████| 391/391 [00:46<00:00,  8.36it/s]"
     ]
    },
    {
     "name": "stdout",
     "output_type": "stream",
     "text": [
      "Epoch Loss = 1.0557183781853112 \t Epoch Accuracy = 89.84 \t Gradient Norm = 1.76\n"
     ]
    },
    {
     "name": "stderr",
     "output_type": "stream",
     "text": [
      "\n"
     ]
    },
    {
     "name": "stdout",
     "output_type": "stream",
     "text": [
      "Validation Metrics: Average Loss: 0.0100, Accuracy: 9326/10000 (93.26%)\n",
      "Model saved with accuracy 93.26\n",
      "Epoch 101\n"
     ]
    },
    {
     "name": "stderr",
     "output_type": "stream",
     "text": [
      "Loss=1.0667798519134521\tAccuracy=90.00\tGradient Norm=1.80: 100%|██████████| 391/391 [00:46<00:00,  8.38it/s]"
     ]
    },
    {
     "name": "stdout",
     "output_type": "stream",
     "text": [
      "Epoch Loss = 1.0547294221875612 \t Epoch Accuracy = 90.00 \t Gradient Norm = 1.80\n"
     ]
    },
    {
     "name": "stderr",
     "output_type": "stream",
     "text": [
      "\n"
     ]
    },
    {
     "name": "stdout",
     "output_type": "stream",
     "text": [
      "Validation Metrics: Average Loss: 0.0102, Accuracy: 9192/10000 (91.92%)\n",
      "Epoch 102\n"
     ]
    },
    {
     "name": "stderr",
     "output_type": "stream",
     "text": [
      "Loss=1.1406277418136597\tAccuracy=90.03\tGradient Norm=1.81: 100%|██████████| 391/391 [00:46<00:00,  8.35it/s]"
     ]
    },
    {
     "name": "stdout",
     "output_type": "stream",
     "text": [
      "Epoch Loss = 1.0541718739377872 \t Epoch Accuracy = 90.03 \t Gradient Norm = 1.81\n"
     ]
    },
    {
     "name": "stderr",
     "output_type": "stream",
     "text": [
      "\n"
     ]
    },
    {
     "name": "stdout",
     "output_type": "stream",
     "text": [
      "Validation Metrics: Average Loss: 0.0103, Accuracy: 9195/10000 (91.95%)\n",
      "Epoch 103\n"
     ]
    },
    {
     "name": "stderr",
     "output_type": "stream",
     "text": [
      "Loss=1.0348646640777588\tAccuracy=90.34\tGradient Norm=1.79: 100%|██████████| 391/391 [00:46<00:00,  8.41it/s]"
     ]
    },
    {
     "name": "stdout",
     "output_type": "stream",
     "text": [
      "Epoch Loss = 1.0495226061557565 \t Epoch Accuracy = 90.34 \t Gradient Norm = 1.79\n"
     ]
    },
    {
     "name": "stderr",
     "output_type": "stream",
     "text": [
      "\n"
     ]
    },
    {
     "name": "stdout",
     "output_type": "stream",
     "text": [
      "Validation Metrics: Average Loss: 0.0103, Accuracy: 9186/10000 (91.86%)\n",
      "Epoch 104\n"
     ]
    },
    {
     "name": "stderr",
     "output_type": "stream",
     "text": [
      "Loss=1.1602710485458374\tAccuracy=90.38\tGradient Norm=1.81: 100%|██████████| 391/391 [00:46<00:00,  8.39it/s]"
     ]
    },
    {
     "name": "stdout",
     "output_type": "stream",
     "text": [
      "Epoch Loss = 1.0489884890863657 \t Epoch Accuracy = 90.38 \t Gradient Norm = 1.81\n"
     ]
    },
    {
     "name": "stderr",
     "output_type": "stream",
     "text": [
      "\n"
     ]
    },
    {
     "name": "stdout",
     "output_type": "stream",
     "text": [
      "Validation Metrics: Average Loss: 0.0105, Accuracy: 9077/10000 (90.77%)\n",
      "Epoch 105\n"
     ]
    },
    {
     "name": "stderr",
     "output_type": "stream",
     "text": [
      "Loss=1.0700496435165405\tAccuracy=90.42\tGradient Norm=1.82: 100%|██████████| 391/391 [00:46<00:00,  8.38it/s]"
     ]
    },
    {
     "name": "stdout",
     "output_type": "stream",
     "text": [
      "Epoch Loss = 1.0472898891819713 \t Epoch Accuracy = 90.42 \t Gradient Norm = 1.82\n"
     ]
    },
    {
     "name": "stderr",
     "output_type": "stream",
     "text": [
      "\n"
     ]
    },
    {
     "name": "stdout",
     "output_type": "stream",
     "text": [
      "Validation Metrics: Average Loss: 0.0099, Accuracy: 9355/10000 (93.55%)\n",
      "Model saved with accuracy 93.55\n",
      "Epoch 106\n"
     ]
    },
    {
     "name": "stderr",
     "output_type": "stream",
     "text": [
      "Loss=1.093982458114624\tAccuracy=90.55\tGradient Norm=1.82: 100%|██████████| 391/391 [00:46<00:00,  8.38it/s]"
     ]
    },
    {
     "name": "stdout",
     "output_type": "stream",
     "text": [
      "Epoch Loss = 1.0467568033796442 \t Epoch Accuracy = 90.55 \t Gradient Norm = 1.82\n"
     ]
    },
    {
     "name": "stderr",
     "output_type": "stream",
     "text": [
      "\n"
     ]
    },
    {
     "name": "stdout",
     "output_type": "stream",
     "text": [
      "Validation Metrics: Average Loss: 0.0101, Accuracy: 9258/10000 (92.58%)\n",
      "Epoch 107\n"
     ]
    },
    {
     "name": "stderr",
     "output_type": "stream",
     "text": [
      "Loss=1.0719082355499268\tAccuracy=90.52\tGradient Norm=1.85: 100%|██████████| 391/391 [00:46<00:00,  8.35it/s]"
     ]
    },
    {
     "name": "stdout",
     "output_type": "stream",
     "text": [
      "Epoch Loss = 1.0452532687455491 \t Epoch Accuracy = 90.52 \t Gradient Norm = 1.85\n"
     ]
    },
    {
     "name": "stderr",
     "output_type": "stream",
     "text": [
      "\n"
     ]
    },
    {
     "name": "stdout",
     "output_type": "stream",
     "text": [
      "Validation Metrics: Average Loss: 0.0103, Accuracy: 9175/10000 (91.75%)\n",
      "Epoch 108\n"
     ]
    },
    {
     "name": "stderr",
     "output_type": "stream",
     "text": [
      "Loss=1.1070622205734253\tAccuracy=90.88\tGradient Norm=1.82: 100%|██████████| 391/391 [00:46<00:00,  8.36it/s]"
     ]
    },
    {
     "name": "stdout",
     "output_type": "stream",
     "text": [
      "Epoch Loss = 1.0393911533038636 \t Epoch Accuracy = 90.88 \t Gradient Norm = 1.82\n"
     ]
    },
    {
     "name": "stderr",
     "output_type": "stream",
     "text": [
      "\n"
     ]
    },
    {
     "name": "stdout",
     "output_type": "stream",
     "text": [
      "Validation Metrics: Average Loss: 0.0105, Accuracy: 9051/10000 (90.51%)\n",
      "Epoch 109\n"
     ]
    },
    {
     "name": "stderr",
     "output_type": "stream",
     "text": [
      "Loss=1.1007276773452759\tAccuracy=90.65\tGradient Norm=1.85: 100%|██████████| 391/391 [00:46<00:00,  8.37it/s]"
     ]
    },
    {
     "name": "stdout",
     "output_type": "stream",
     "text": [
      "Epoch Loss = 1.0428400461935936 \t Epoch Accuracy = 90.65 \t Gradient Norm = 1.85\n"
     ]
    },
    {
     "name": "stderr",
     "output_type": "stream",
     "text": [
      "\n"
     ]
    },
    {
     "name": "stdout",
     "output_type": "stream",
     "text": [
      "Validation Metrics: Average Loss: 0.0107, Accuracy: 8988/10000 (89.88%)\n",
      "Epoch 110\n"
     ]
    },
    {
     "name": "stderr",
     "output_type": "stream",
     "text": [
      "Loss=1.0029690265655518\tAccuracy=90.82\tGradient Norm=1.86: 100%|██████████| 391/391 [00:46<00:00,  8.43it/s]"
     ]
    },
    {
     "name": "stdout",
     "output_type": "stream",
     "text": [
      "Epoch Loss = 1.041614507622731 \t Epoch Accuracy = 90.82 \t Gradient Norm = 1.86\n"
     ]
    },
    {
     "name": "stderr",
     "output_type": "stream",
     "text": [
      "\n"
     ]
    },
    {
     "name": "stdout",
     "output_type": "stream",
     "text": [
      "Validation Metrics: Average Loss: 0.0099, Accuracy: 9358/10000 (93.58%)\n",
      "Model saved with accuracy 93.58\n",
      "Epoch 111\n"
     ]
    },
    {
     "name": "stderr",
     "output_type": "stream",
     "text": [
      "Loss=1.0363729000091553\tAccuracy=91.21\tGradient Norm=1.83: 100%|██████████| 391/391 [00:46<00:00,  8.42it/s]"
     ]
    },
    {
     "name": "stdout",
     "output_type": "stream",
     "text": [
      "Epoch Loss = 1.0338778007975624 \t Epoch Accuracy = 91.21 \t Gradient Norm = 1.83\n"
     ]
    },
    {
     "name": "stderr",
     "output_type": "stream",
     "text": [
      "\n"
     ]
    },
    {
     "name": "stdout",
     "output_type": "stream",
     "text": [
      "Validation Metrics: Average Loss: 0.0100, Accuracy: 9302/10000 (93.02%)\n",
      "Epoch 112\n"
     ]
    },
    {
     "name": "stderr",
     "output_type": "stream",
     "text": [
      "Loss=1.0447015762329102\tAccuracy=90.96\tGradient Norm=1.88: 100%|██████████| 391/391 [00:46<00:00,  8.39it/s]"
     ]
    },
    {
     "name": "stdout",
     "output_type": "stream",
     "text": [
      "Epoch Loss = 1.03545618453599 \t Epoch Accuracy = 90.96 \t Gradient Norm = 1.88\n"
     ]
    },
    {
     "name": "stderr",
     "output_type": "stream",
     "text": [
      "\n"
     ]
    },
    {
     "name": "stdout",
     "output_type": "stream",
     "text": [
      "Validation Metrics: Average Loss: 0.0099, Accuracy: 9343/10000 (93.43%)\n",
      "Epoch 113\n"
     ]
    },
    {
     "name": "stderr",
     "output_type": "stream",
     "text": [
      "Loss=0.9918630123138428\tAccuracy=91.15\tGradient Norm=1.89: 100%|██████████| 391/391 [00:46<00:00,  8.34it/s]"
     ]
    },
    {
     "name": "stdout",
     "output_type": "stream",
     "text": [
      "Epoch Loss = 1.0342556741231543 \t Epoch Accuracy = 91.15 \t Gradient Norm = 1.89\n"
     ]
    },
    {
     "name": "stderr",
     "output_type": "stream",
     "text": [
      "\n"
     ]
    },
    {
     "name": "stdout",
     "output_type": "stream",
     "text": [
      "Validation Metrics: Average Loss: 0.0105, Accuracy: 9058/10000 (90.58%)\n",
      "Epoch 114\n"
     ]
    },
    {
     "name": "stderr",
     "output_type": "stream",
     "text": [
      "Loss=1.053281545639038\tAccuracy=91.32\tGradient Norm=1.89: 100%|██████████| 391/391 [00:47<00:00,  8.30it/s]"
     ]
    },
    {
     "name": "stdout",
     "output_type": "stream",
     "text": [
      "Epoch Loss = 1.0297494330979369 \t Epoch Accuracy = 91.32 \t Gradient Norm = 1.89\n"
     ]
    },
    {
     "name": "stderr",
     "output_type": "stream",
     "text": [
      "\n"
     ]
    },
    {
     "name": "stdout",
     "output_type": "stream",
     "text": [
      "Validation Metrics: Average Loss: 0.0101, Accuracy: 9254/10000 (92.54%)\n",
      "Epoch 115\n"
     ]
    },
    {
     "name": "stderr",
     "output_type": "stream",
     "text": [
      "Loss=1.033886194229126\tAccuracy=91.36\tGradient Norm=1.90: 100%|██████████| 391/391 [00:46<00:00,  8.41it/s]"
     ]
    },
    {
     "name": "stdout",
     "output_type": "stream",
     "text": [
      "Epoch Loss = 1.0308588342288572 \t Epoch Accuracy = 91.36 \t Gradient Norm = 1.90\n"
     ]
    },
    {
     "name": "stderr",
     "output_type": "stream",
     "text": [
      "\n"
     ]
    },
    {
     "name": "stdout",
     "output_type": "stream",
     "text": [
      "Validation Metrics: Average Loss: 0.0099, Accuracy: 9373/10000 (93.73%)\n",
      "Model saved with accuracy 93.73\n",
      "Epoch 116\n"
     ]
    },
    {
     "name": "stderr",
     "output_type": "stream",
     "text": [
      "Loss=0.9985675811767578\tAccuracy=91.30\tGradient Norm=1.93: 100%|██████████| 391/391 [00:47<00:00,  8.27it/s]"
     ]
    },
    {
     "name": "stdout",
     "output_type": "stream",
     "text": [
      "Epoch Loss = 1.0289885237088898 \t Epoch Accuracy = 91.30 \t Gradient Norm = 1.93\n"
     ]
    },
    {
     "name": "stderr",
     "output_type": "stream",
     "text": [
      "\n"
     ]
    },
    {
     "name": "stdout",
     "output_type": "stream",
     "text": [
      "Validation Metrics: Average Loss: 0.0100, Accuracy: 9298/10000 (92.98%)\n",
      "Epoch 117\n"
     ]
    },
    {
     "name": "stderr",
     "output_type": "stream",
     "text": [
      "Loss=1.0013397932052612\tAccuracy=91.45\tGradient Norm=1.92: 100%|██████████| 391/391 [00:46<00:00,  8.33it/s]"
     ]
    },
    {
     "name": "stdout",
     "output_type": "stream",
     "text": [
      "Epoch Loss = 1.0270523793252229 \t Epoch Accuracy = 91.45 \t Gradient Norm = 1.92\n"
     ]
    },
    {
     "name": "stderr",
     "output_type": "stream",
     "text": [
      "\n"
     ]
    },
    {
     "name": "stdout",
     "output_type": "stream",
     "text": [
      "Validation Metrics: Average Loss: 0.0100, Accuracy: 9318/10000 (93.18%)\n",
      "Epoch 118\n"
     ]
    },
    {
     "name": "stderr",
     "output_type": "stream",
     "text": [
      "Loss=1.0995471477508545\tAccuracy=91.84\tGradient Norm=1.92: 100%|██████████| 391/391 [00:46<00:00,  8.38it/s]"
     ]
    },
    {
     "name": "stdout",
     "output_type": "stream",
     "text": [
      "Epoch Loss = 1.0226444483108228 \t Epoch Accuracy = 91.84 \t Gradient Norm = 1.92\n"
     ]
    },
    {
     "name": "stderr",
     "output_type": "stream",
     "text": [
      "\n"
     ]
    },
    {
     "name": "stdout",
     "output_type": "stream",
     "text": [
      "Validation Metrics: Average Loss: 0.0101, Accuracy: 9273/10000 (92.73%)\n",
      "Epoch 119\n"
     ]
    },
    {
     "name": "stderr",
     "output_type": "stream",
     "text": [
      "Loss=1.032554030418396\tAccuracy=91.45\tGradient Norm=1.94: 100%|██████████| 391/391 [00:46<00:00,  8.40it/s]"
     ]
    },
    {
     "name": "stdout",
     "output_type": "stream",
     "text": [
      "Epoch Loss = 1.026871028763559 \t Epoch Accuracy = 91.45 \t Gradient Norm = 1.94\n"
     ]
    },
    {
     "name": "stderr",
     "output_type": "stream",
     "text": [
      "\n"
     ]
    },
    {
     "name": "stdout",
     "output_type": "stream",
     "text": [
      "Validation Metrics: Average Loss: 0.0101, Accuracy: 9273/10000 (92.73%)\n",
      "Epoch 120\n"
     ]
    },
    {
     "name": "stderr",
     "output_type": "stream",
     "text": [
      "Loss=0.9927318096160889\tAccuracy=91.89\tGradient Norm=1.94: 100%|██████████| 391/391 [00:46<00:00,  8.39it/s]"
     ]
    },
    {
     "name": "stdout",
     "output_type": "stream",
     "text": [
      "Epoch Loss = 1.0227592180452079 \t Epoch Accuracy = 91.89 \t Gradient Norm = 1.94\n"
     ]
    },
    {
     "name": "stderr",
     "output_type": "stream",
     "text": [
      "\n"
     ]
    },
    {
     "name": "stdout",
     "output_type": "stream",
     "text": [
      "Validation Metrics: Average Loss: 0.0098, Accuracy: 9374/10000 (93.74%)\n",
      "Model saved with accuracy 93.74\n",
      "Epoch 121\n"
     ]
    },
    {
     "name": "stderr",
     "output_type": "stream",
     "text": [
      "Loss=0.9930285215377808\tAccuracy=91.82\tGradient Norm=1.93: 100%|██████████| 391/391 [00:46<00:00,  8.32it/s]"
     ]
    },
    {
     "name": "stdout",
     "output_type": "stream",
     "text": [
      "Epoch Loss = 1.0203131431203973 \t Epoch Accuracy = 91.82 \t Gradient Norm = 1.93\n"
     ]
    },
    {
     "name": "stderr",
     "output_type": "stream",
     "text": [
      "\n"
     ]
    },
    {
     "name": "stdout",
     "output_type": "stream",
     "text": [
      "Validation Metrics: Average Loss: 0.0099, Accuracy: 9388/10000 (93.88%)\n",
      "Model saved with accuracy 93.88\n",
      "Epoch 122\n"
     ]
    },
    {
     "name": "stderr",
     "output_type": "stream",
     "text": [
      "Loss=0.9791622161865234\tAccuracy=92.03\tGradient Norm=1.98: 100%|██████████| 391/391 [00:46<00:00,  8.33it/s]"
     ]
    },
    {
     "name": "stdout",
     "output_type": "stream",
     "text": [
      "Epoch Loss = 1.0190438106846627 \t Epoch Accuracy = 92.03 \t Gradient Norm = 1.98\n"
     ]
    },
    {
     "name": "stderr",
     "output_type": "stream",
     "text": [
      "\n"
     ]
    },
    {
     "name": "stdout",
     "output_type": "stream",
     "text": [
      "Validation Metrics: Average Loss: 0.0099, Accuracy: 9364/10000 (93.64%)\n",
      "Epoch 123\n"
     ]
    },
    {
     "name": "stderr",
     "output_type": "stream",
     "text": [
      "Loss=0.9913328886032104\tAccuracy=92.02\tGradient Norm=1.99: 100%|██████████| 391/391 [00:46<00:00,  8.35it/s]"
     ]
    },
    {
     "name": "stdout",
     "output_type": "stream",
     "text": [
      "Epoch Loss = 1.0189612178546388 \t Epoch Accuracy = 92.02 \t Gradient Norm = 1.99\n"
     ]
    },
    {
     "name": "stderr",
     "output_type": "stream",
     "text": [
      "\n"
     ]
    },
    {
     "name": "stdout",
     "output_type": "stream",
     "text": [
      "Validation Metrics: Average Loss: 0.0101, Accuracy: 9258/10000 (92.58%)\n",
      "Epoch 124\n"
     ]
    },
    {
     "name": "stderr",
     "output_type": "stream",
     "text": [
      "Loss=0.9655560255050659\tAccuracy=92.09\tGradient Norm=2.00: 100%|██████████| 391/391 [00:46<00:00,  8.40it/s]"
     ]
    },
    {
     "name": "stdout",
     "output_type": "stream",
     "text": [
      "Epoch Loss = 1.0172020672532298 \t Epoch Accuracy = 92.09 \t Gradient Norm = 2.00\n"
     ]
    },
    {
     "name": "stderr",
     "output_type": "stream",
     "text": [
      "\n"
     ]
    },
    {
     "name": "stdout",
     "output_type": "stream",
     "text": [
      "Validation Metrics: Average Loss: 0.0100, Accuracy: 9349/10000 (93.49%)\n",
      "Epoch 125\n"
     ]
    },
    {
     "name": "stderr",
     "output_type": "stream",
     "text": [
      "Loss=0.9430853724479675\tAccuracy=92.53\tGradient Norm=1.97: 100%|██████████| 391/391 [00:46<00:00,  8.35it/s]"
     ]
    },
    {
     "name": "stdout",
     "output_type": "stream",
     "text": [
      "Epoch Loss = 1.0109969241844723 \t Epoch Accuracy = 92.53 \t Gradient Norm = 1.97\n"
     ]
    },
    {
     "name": "stderr",
     "output_type": "stream",
     "text": [
      "\n"
     ]
    },
    {
     "name": "stdout",
     "output_type": "stream",
     "text": [
      "Validation Metrics: Average Loss: 0.0098, Accuracy: 9424/10000 (94.24%)\n",
      "Model saved with accuracy 94.24\n",
      "Epoch 126\n"
     ]
    },
    {
     "name": "stderr",
     "output_type": "stream",
     "text": [
      "Loss=0.9712960124015808\tAccuracy=92.64\tGradient Norm=1.98: 100%|██████████| 391/391 [00:46<00:00,  8.34it/s]"
     ]
    },
    {
     "name": "stdout",
     "output_type": "stream",
     "text": [
      "Epoch Loss = 1.0059455195656213 \t Epoch Accuracy = 92.64 \t Gradient Norm = 1.98\n"
     ]
    },
    {
     "name": "stderr",
     "output_type": "stream",
     "text": [
      "\n"
     ]
    },
    {
     "name": "stdout",
     "output_type": "stream",
     "text": [
      "Validation Metrics: Average Loss: 0.0098, Accuracy: 9406/10000 (94.06%)\n",
      "Epoch 127\n"
     ]
    },
    {
     "name": "stderr",
     "output_type": "stream",
     "text": [
      "Loss=0.9848800897598267\tAccuracy=92.62\tGradient Norm=2.03: 100%|██████████| 391/391 [00:47<00:00,  8.27it/s]"
     ]
    },
    {
     "name": "stdout",
     "output_type": "stream",
     "text": [
      "Epoch Loss = 1.0073208924754502 \t Epoch Accuracy = 92.62 \t Gradient Norm = 2.03\n"
     ]
    },
    {
     "name": "stderr",
     "output_type": "stream",
     "text": [
      "\n"
     ]
    },
    {
     "name": "stdout",
     "output_type": "stream",
     "text": [
      "Validation Metrics: Average Loss: 0.0099, Accuracy: 9362/10000 (93.62%)\n",
      "Epoch 128\n"
     ]
    },
    {
     "name": "stderr",
     "output_type": "stream",
     "text": [
      "Loss=1.074722170829773\tAccuracy=92.41\tGradient Norm=2.05: 100%|██████████| 391/391 [00:46<00:00,  8.39it/s]"
     ]
    },
    {
     "name": "stdout",
     "output_type": "stream",
     "text": [
      "Epoch Loss = 1.0089340030079912 \t Epoch Accuracy = 92.41 \t Gradient Norm = 2.05\n"
     ]
    },
    {
     "name": "stderr",
     "output_type": "stream",
     "text": [
      "\n"
     ]
    },
    {
     "name": "stdout",
     "output_type": "stream",
     "text": [
      "Validation Metrics: Average Loss: 0.0103, Accuracy: 9147/10000 (91.47%)\n",
      "Epoch 129\n"
     ]
    },
    {
     "name": "stderr",
     "output_type": "stream",
     "text": [
      "Loss=1.0266132354736328\tAccuracy=92.82\tGradient Norm=2.02: 100%|██████████| 391/391 [00:46<00:00,  8.32it/s]"
     ]
    },
    {
     "name": "stdout",
     "output_type": "stream",
     "text": [
      "Epoch Loss = 1.0047996891733935 \t Epoch Accuracy = 92.82 \t Gradient Norm = 2.02\n"
     ]
    },
    {
     "name": "stderr",
     "output_type": "stream",
     "text": [
      "\n"
     ]
    },
    {
     "name": "stdout",
     "output_type": "stream",
     "text": [
      "Validation Metrics: Average Loss: 0.0102, Accuracy: 9255/10000 (92.55%)\n",
      "Epoch 130\n"
     ]
    },
    {
     "name": "stderr",
     "output_type": "stream",
     "text": [
      "Loss=1.0638737678527832\tAccuracy=92.87\tGradient Norm=2.01: 100%|██████████| 391/391 [00:47<00:00,  8.28it/s]"
     ]
    },
    {
     "name": "stdout",
     "output_type": "stream",
     "text": [
      "Epoch Loss = 1.0038386369910082 \t Epoch Accuracy = 92.87 \t Gradient Norm = 2.01\n"
     ]
    },
    {
     "name": "stderr",
     "output_type": "stream",
     "text": [
      "\n"
     ]
    },
    {
     "name": "stdout",
     "output_type": "stream",
     "text": [
      "Validation Metrics: Average Loss: 0.0097, Accuracy: 9460/10000 (94.60%)\n",
      "Model saved with accuracy 94.6\n",
      "Epoch 131\n"
     ]
    },
    {
     "name": "stderr",
     "output_type": "stream",
     "text": [
      "Loss=1.0180768966674805\tAccuracy=92.87\tGradient Norm=2.08: 100%|██████████| 391/391 [00:47<00:00,  8.29it/s]"
     ]
    },
    {
     "name": "stdout",
     "output_type": "stream",
     "text": [
      "Epoch Loss = 1.0011365342018244 \t Epoch Accuracy = 92.87 \t Gradient Norm = 2.08\n"
     ]
    },
    {
     "name": "stderr",
     "output_type": "stream",
     "text": [
      "\n"
     ]
    },
    {
     "name": "stdout",
     "output_type": "stream",
     "text": [
      "Validation Metrics: Average Loss: 0.0099, Accuracy: 9353/10000 (93.53%)\n",
      "Epoch 132\n"
     ]
    },
    {
     "name": "stderr",
     "output_type": "stream",
     "text": [
      "Loss=0.9555667042732239\tAccuracy=92.77\tGradient Norm=2.12: 100%|██████████| 391/391 [00:46<00:00,  8.33it/s]"
     ]
    },
    {
     "name": "stdout",
     "output_type": "stream",
     "text": [
      "Epoch Loss = 1.0029274607863268 \t Epoch Accuracy = 92.77 \t Gradient Norm = 2.12\n"
     ]
    },
    {
     "name": "stderr",
     "output_type": "stream",
     "text": [
      "\n"
     ]
    },
    {
     "name": "stdout",
     "output_type": "stream",
     "text": [
      "Validation Metrics: Average Loss: 0.0099, Accuracy: 9361/10000 (93.61%)\n",
      "Epoch 133\n"
     ]
    },
    {
     "name": "stderr",
     "output_type": "stream",
     "text": [
      "Loss=1.0014636516571045\tAccuracy=93.18\tGradient Norm=2.08: 100%|██████████| 391/391 [00:46<00:00,  8.32it/s]"
     ]
    },
    {
     "name": "stdout",
     "output_type": "stream",
     "text": [
      "Epoch Loss = 0.998603436800525 \t Epoch Accuracy = 93.18 \t Gradient Norm = 2.08\n"
     ]
    },
    {
     "name": "stderr",
     "output_type": "stream",
     "text": [
      "\n"
     ]
    },
    {
     "name": "stdout",
     "output_type": "stream",
     "text": [
      "Validation Metrics: Average Loss: 0.0099, Accuracy: 9379/10000 (93.79%)\n",
      "Epoch 134\n"
     ]
    },
    {
     "name": "stderr",
     "output_type": "stream",
     "text": [
      "Loss=1.0863745212554932\tAccuracy=93.37\tGradient Norm=2.07: 100%|██████████| 391/391 [00:47<00:00,  8.28it/s]"
     ]
    },
    {
     "name": "stdout",
     "output_type": "stream",
     "text": [
      "Epoch Loss = 0.9932022277656418 \t Epoch Accuracy = 93.37 \t Gradient Norm = 2.07\n"
     ]
    },
    {
     "name": "stderr",
     "output_type": "stream",
     "text": [
      "\n"
     ]
    },
    {
     "name": "stdout",
     "output_type": "stream",
     "text": [
      "Validation Metrics: Average Loss: 0.0099, Accuracy: 9394/10000 (93.94%)\n",
      "Epoch 135\n"
     ]
    },
    {
     "name": "stderr",
     "output_type": "stream",
     "text": [
      "Loss=1.0064728260040283\tAccuracy=93.38\tGradient Norm=2.07: 100%|██████████| 391/391 [00:47<00:00,  8.30it/s]"
     ]
    },
    {
     "name": "stdout",
     "output_type": "stream",
     "text": [
      "Epoch Loss = 0.9927660040843213 \t Epoch Accuracy = 93.38 \t Gradient Norm = 2.07\n"
     ]
    },
    {
     "name": "stderr",
     "output_type": "stream",
     "text": [
      "\n"
     ]
    },
    {
     "name": "stdout",
     "output_type": "stream",
     "text": [
      "Validation Metrics: Average Loss: 0.0097, Accuracy: 9495/10000 (94.95%)\n",
      "Model saved with accuracy 94.95\n",
      "Epoch 136\n"
     ]
    },
    {
     "name": "stderr",
     "output_type": "stream",
     "text": [
      "Loss=1.02876615524292\tAccuracy=93.42\tGradient Norm=2.10: 100%|██████████| 391/391 [00:47<00:00,  8.29it/s]"
     ]
    },
    {
     "name": "stdout",
     "output_type": "stream",
     "text": [
      "Epoch Loss = 0.9928936132079805 \t Epoch Accuracy = 93.42 \t Gradient Norm = 2.10\n"
     ]
    },
    {
     "name": "stderr",
     "output_type": "stream",
     "text": [
      "\n"
     ]
    },
    {
     "name": "stdout",
     "output_type": "stream",
     "text": [
      "Validation Metrics: Average Loss: 0.0098, Accuracy: 9452/10000 (94.52%)\n",
      "Epoch 137\n"
     ]
    },
    {
     "name": "stderr",
     "output_type": "stream",
     "text": [
      "Loss=0.988389253616333\tAccuracy=93.31\tGradient Norm=2.11: 100%|██████████| 391/391 [00:46<00:00,  8.33it/s]"
     ]
    },
    {
     "name": "stdout",
     "output_type": "stream",
     "text": [
      "Epoch Loss = 0.9921391696271384 \t Epoch Accuracy = 93.31 \t Gradient Norm = 2.11\n"
     ]
    },
    {
     "name": "stderr",
     "output_type": "stream",
     "text": [
      "\n"
     ]
    },
    {
     "name": "stdout",
     "output_type": "stream",
     "text": [
      "Validation Metrics: Average Loss: 0.0098, Accuracy: 9439/10000 (94.39%)\n",
      "Epoch 138\n"
     ]
    },
    {
     "name": "stderr",
     "output_type": "stream",
     "text": [
      "Loss=0.9477615356445312\tAccuracy=93.70\tGradient Norm=2.10: 100%|██████████| 391/391 [00:47<00:00,  8.25it/s]"
     ]
    },
    {
     "name": "stdout",
     "output_type": "stream",
     "text": [
      "Epoch Loss = 0.9858460305901744 \t Epoch Accuracy = 93.70 \t Gradient Norm = 2.10\n"
     ]
    },
    {
     "name": "stderr",
     "output_type": "stream",
     "text": [
      "\n"
     ]
    },
    {
     "name": "stdout",
     "output_type": "stream",
     "text": [
      "Validation Metrics: Average Loss: 0.0099, Accuracy: 9345/10000 (93.45%)\n",
      "Epoch 139\n"
     ]
    },
    {
     "name": "stderr",
     "output_type": "stream",
     "text": [
      "Loss=0.9890279769897461\tAccuracy=93.75\tGradient Norm=2.14: 100%|██████████| 391/391 [00:47<00:00,  8.26it/s]"
     ]
    },
    {
     "name": "stdout",
     "output_type": "stream",
     "text": [
      "Epoch Loss = 0.9861929816053346 \t Epoch Accuracy = 93.75 \t Gradient Norm = 2.14\n"
     ]
    },
    {
     "name": "stderr",
     "output_type": "stream",
     "text": [
      "\n"
     ]
    },
    {
     "name": "stdout",
     "output_type": "stream",
     "text": [
      "Validation Metrics: Average Loss: 0.0099, Accuracy: 9359/10000 (93.59%)\n",
      "Epoch 140\n"
     ]
    },
    {
     "name": "stderr",
     "output_type": "stream",
     "text": [
      "Loss=1.049095869064331\tAccuracy=93.69\tGradient Norm=2.16: 100%|██████████| 391/391 [00:47<00:00,  8.30it/s]"
     ]
    },
    {
     "name": "stdout",
     "output_type": "stream",
     "text": [
      "Epoch Loss = 0.9870726505813696 \t Epoch Accuracy = 93.69 \t Gradient Norm = 2.16\n"
     ]
    },
    {
     "name": "stderr",
     "output_type": "stream",
     "text": [
      "\n"
     ]
    },
    {
     "name": "stdout",
     "output_type": "stream",
     "text": [
      "Validation Metrics: Average Loss: 0.0098, Accuracy: 9441/10000 (94.41%)\n",
      "Epoch 141\n"
     ]
    },
    {
     "name": "stderr",
     "output_type": "stream",
     "text": [
      "Loss=0.9751050472259521\tAccuracy=93.76\tGradient Norm=2.14: 100%|██████████| 391/391 [00:46<00:00,  8.37it/s]"
     ]
    },
    {
     "name": "stdout",
     "output_type": "stream",
     "text": [
      "Epoch Loss = 0.9842520426301395 \t Epoch Accuracy = 93.76 \t Gradient Norm = 2.14\n"
     ]
    },
    {
     "name": "stderr",
     "output_type": "stream",
     "text": [
      "\n"
     ]
    },
    {
     "name": "stdout",
     "output_type": "stream",
     "text": [
      "Validation Metrics: Average Loss: 0.0096, Accuracy: 9491/10000 (94.91%)\n",
      "Epoch 142\n"
     ]
    },
    {
     "name": "stderr",
     "output_type": "stream",
     "text": [
      "Loss=0.9589531421661377\tAccuracy=94.12\tGradient Norm=2.15: 100%|██████████| 391/391 [00:47<00:00,  8.30it/s]"
     ]
    },
    {
     "name": "stdout",
     "output_type": "stream",
     "text": [
      "Epoch Loss = 0.9808213422670389 \t Epoch Accuracy = 94.12 \t Gradient Norm = 2.15\n"
     ]
    },
    {
     "name": "stderr",
     "output_type": "stream",
     "text": [
      "\n"
     ]
    },
    {
     "name": "stdout",
     "output_type": "stream",
     "text": [
      "Validation Metrics: Average Loss: 0.0097, Accuracy: 9489/10000 (94.89%)\n",
      "Epoch 143\n"
     ]
    },
    {
     "name": "stderr",
     "output_type": "stream",
     "text": [
      "Loss=1.0202410221099854\tAccuracy=94.10\tGradient Norm=2.14: 100%|██████████| 391/391 [00:47<00:00,  8.31it/s]"
     ]
    },
    {
     "name": "stdout",
     "output_type": "stream",
     "text": [
      "Epoch Loss = 0.9796906342286893 \t Epoch Accuracy = 94.10 \t Gradient Norm = 2.14\n"
     ]
    },
    {
     "name": "stderr",
     "output_type": "stream",
     "text": [
      "\n"
     ]
    },
    {
     "name": "stdout",
     "output_type": "stream",
     "text": [
      "Validation Metrics: Average Loss: 0.0097, Accuracy: 9487/10000 (94.87%)\n",
      "Epoch 144\n"
     ]
    },
    {
     "name": "stderr",
     "output_type": "stream",
     "text": [
      "Loss=1.0016154050827026\tAccuracy=94.28\tGradient Norm=2.12: 100%|██████████| 391/391 [00:47<00:00,  8.19it/s]"
     ]
    },
    {
     "name": "stdout",
     "output_type": "stream",
     "text": [
      "Epoch Loss = 0.9760525305862622 \t Epoch Accuracy = 94.28 \t Gradient Norm = 2.12\n"
     ]
    },
    {
     "name": "stderr",
     "output_type": "stream",
     "text": [
      "\n"
     ]
    },
    {
     "name": "stdout",
     "output_type": "stream",
     "text": [
      "Validation Metrics: Average Loss: 0.0098, Accuracy: 9442/10000 (94.42%)\n",
      "Epoch 145\n"
     ]
    },
    {
     "name": "stderr",
     "output_type": "stream",
     "text": [
      "Loss=1.001715898513794\tAccuracy=94.13\tGradient Norm=2.15: 100%|██████████| 391/391 [00:47<00:00,  8.31it/s]"
     ]
    },
    {
     "name": "stdout",
     "output_type": "stream",
     "text": [
      "Epoch Loss = 0.9782886281037879 \t Epoch Accuracy = 94.13 \t Gradient Norm = 2.15\n"
     ]
    },
    {
     "name": "stderr",
     "output_type": "stream",
     "text": [
      "\n"
     ]
    },
    {
     "name": "stdout",
     "output_type": "stream",
     "text": [
      "Validation Metrics: Average Loss: 0.0097, Accuracy: 9515/10000 (95.15%)\n",
      "Model saved with accuracy 95.15\n",
      "Epoch 146\n"
     ]
    },
    {
     "name": "stderr",
     "output_type": "stream",
     "text": [
      "Loss=0.9939463138580322\tAccuracy=94.46\tGradient Norm=2.17: 100%|██████████| 391/391 [00:47<00:00,  8.25it/s]"
     ]
    },
    {
     "name": "stdout",
     "output_type": "stream",
     "text": [
      "Epoch Loss = 0.9744723561169851 \t Epoch Accuracy = 94.46 \t Gradient Norm = 2.17\n"
     ]
    },
    {
     "name": "stderr",
     "output_type": "stream",
     "text": [
      "\n"
     ]
    },
    {
     "name": "stdout",
     "output_type": "stream",
     "text": [
      "Validation Metrics: Average Loss: 0.0096, Accuracy: 9530/10000 (95.30%)\n",
      "Model saved with accuracy 95.3\n",
      "Epoch 147\n"
     ]
    },
    {
     "name": "stderr",
     "output_type": "stream",
     "text": [
      "Loss=0.9489043951034546\tAccuracy=94.52\tGradient Norm=2.19: 100%|██████████| 391/391 [00:47<00:00,  8.17it/s]"
     ]
    },
    {
     "name": "stdout",
     "output_type": "stream",
     "text": [
      "Epoch Loss = 0.9716945568009105 \t Epoch Accuracy = 94.52 \t Gradient Norm = 2.19\n"
     ]
    },
    {
     "name": "stderr",
     "output_type": "stream",
     "text": [
      "\n"
     ]
    },
    {
     "name": "stdout",
     "output_type": "stream",
     "text": [
      "Validation Metrics: Average Loss: 0.0097, Accuracy: 9473/10000 (94.73%)\n",
      "Epoch 148\n"
     ]
    },
    {
     "name": "stderr",
     "output_type": "stream",
     "text": [
      "Loss=1.031764030456543\tAccuracy=94.62\tGradient Norm=2.19: 100%|██████████| 391/391 [00:47<00:00,  8.25it/s]"
     ]
    },
    {
     "name": "stdout",
     "output_type": "stream",
     "text": [
      "Epoch Loss = 0.9691778903117265 \t Epoch Accuracy = 94.62 \t Gradient Norm = 2.19\n"
     ]
    },
    {
     "name": "stderr",
     "output_type": "stream",
     "text": [
      "\n"
     ]
    },
    {
     "name": "stdout",
     "output_type": "stream",
     "text": [
      "Validation Metrics: Average Loss: 0.0097, Accuracy: 9504/10000 (95.04%)\n",
      "Epoch 149\n"
     ]
    },
    {
     "name": "stderr",
     "output_type": "stream",
     "text": [
      "Loss=0.9460512399673462\tAccuracy=94.73\tGradient Norm=2.20: 100%|██████████| 391/391 [00:47<00:00,  8.32it/s]"
     ]
    },
    {
     "name": "stdout",
     "output_type": "stream",
     "text": [
      "Epoch Loss = 0.9699974739947892 \t Epoch Accuracy = 94.73 \t Gradient Norm = 2.20\n"
     ]
    },
    {
     "name": "stderr",
     "output_type": "stream",
     "text": [
      "\n"
     ]
    },
    {
     "name": "stdout",
     "output_type": "stream",
     "text": [
      "Validation Metrics: Average Loss: 0.0098, Accuracy: 9428/10000 (94.28%)\n",
      "Epoch 150\n"
     ]
    },
    {
     "name": "stderr",
     "output_type": "stream",
     "text": [
      "Loss=1.030552864074707\tAccuracy=95.00\tGradient Norm=2.19: 100%|██████████| 391/391 [00:47<00:00,  8.16it/s]"
     ]
    },
    {
     "name": "stdout",
     "output_type": "stream",
     "text": [
      "Epoch Loss = 0.9651640225249483 \t Epoch Accuracy = 95.00 \t Gradient Norm = 2.19\n"
     ]
    },
    {
     "name": "stderr",
     "output_type": "stream",
     "text": [
      "\n"
     ]
    },
    {
     "name": "stdout",
     "output_type": "stream",
     "text": [
      "Validation Metrics: Average Loss: 0.0096, Accuracy: 9509/10000 (95.09%)\n",
      "Epoch 151\n"
     ]
    },
    {
     "name": "stderr",
     "output_type": "stream",
     "text": [
      "Loss=0.9389510750770569\tAccuracy=94.75\tGradient Norm=2.22: 100%|██████████| 391/391 [00:47<00:00,  8.23it/s]"
     ]
    },
    {
     "name": "stdout",
     "output_type": "stream",
     "text": [
      "Epoch Loss = 0.9669936136211581 \t Epoch Accuracy = 94.75 \t Gradient Norm = 2.22\n"
     ]
    },
    {
     "name": "stderr",
     "output_type": "stream",
     "text": [
      "\n"
     ]
    },
    {
     "name": "stdout",
     "output_type": "stream",
     "text": [
      "Validation Metrics: Average Loss: 0.0096, Accuracy: 9533/10000 (95.33%)\n",
      "Model saved with accuracy 95.33\n",
      "Epoch 152\n"
     ]
    },
    {
     "name": "stderr",
     "output_type": "stream",
     "text": [
      "Loss=0.9607775211334229\tAccuracy=95.02\tGradient Norm=2.18: 100%|██████████| 391/391 [00:47<00:00,  8.26it/s]"
     ]
    },
    {
     "name": "stdout",
     "output_type": "stream",
     "text": [
      "Epoch Loss = 0.9624904599945868 \t Epoch Accuracy = 95.02 \t Gradient Norm = 2.18\n"
     ]
    },
    {
     "name": "stderr",
     "output_type": "stream",
     "text": [
      "\n"
     ]
    },
    {
     "name": "stdout",
     "output_type": "stream",
     "text": [
      "Validation Metrics: Average Loss: 0.0096, Accuracy: 9551/10000 (95.51%)\n",
      "Model saved with accuracy 95.51\n",
      "Epoch 153\n"
     ]
    },
    {
     "name": "stderr",
     "output_type": "stream",
     "text": [
      "Loss=0.9435338377952576\tAccuracy=95.21\tGradient Norm=2.22: 100%|██████████| 391/391 [00:47<00:00,  8.20it/s]"
     ]
    },
    {
     "name": "stdout",
     "output_type": "stream",
     "text": [
      "Epoch Loss = 0.9587492618109564 \t Epoch Accuracy = 95.21 \t Gradient Norm = 2.22\n"
     ]
    },
    {
     "name": "stderr",
     "output_type": "stream",
     "text": [
      "\n"
     ]
    },
    {
     "name": "stdout",
     "output_type": "stream",
     "text": [
      "Validation Metrics: Average Loss: 0.0097, Accuracy: 9494/10000 (94.94%)\n",
      "Epoch 154\n"
     ]
    },
    {
     "name": "stderr",
     "output_type": "stream",
     "text": [
      "Loss=0.9370989203453064\tAccuracy=95.36\tGradient Norm=2.17: 100%|██████████| 391/391 [00:47<00:00,  8.20it/s]"
     ]
    },
    {
     "name": "stdout",
     "output_type": "stream",
     "text": [
      "Epoch Loss = 0.9569139477541989 \t Epoch Accuracy = 95.36 \t Gradient Norm = 2.17\n"
     ]
    },
    {
     "name": "stderr",
     "output_type": "stream",
     "text": [
      "\n"
     ]
    },
    {
     "name": "stdout",
     "output_type": "stream",
     "text": [
      "Validation Metrics: Average Loss: 0.0097, Accuracy: 9492/10000 (94.92%)\n",
      "Epoch 155\n"
     ]
    },
    {
     "name": "stderr",
     "output_type": "stream",
     "text": [
      "Loss=1.016635775566101\tAccuracy=95.33\tGradient Norm=2.21: 100%|██████████| 391/391 [00:47<00:00,  8.23it/s]"
     ]
    },
    {
     "name": "stdout",
     "output_type": "stream",
     "text": [
      "Epoch Loss = 0.9557577603308441 \t Epoch Accuracy = 95.33 \t Gradient Norm = 2.21\n"
     ]
    },
    {
     "name": "stderr",
     "output_type": "stream",
     "text": [
      "\n"
     ]
    },
    {
     "name": "stdout",
     "output_type": "stream",
     "text": [
      "Validation Metrics: Average Loss: 0.0095, Accuracy: 9565/10000 (95.65%)\n",
      "Model saved with accuracy 95.65\n",
      "Epoch 156\n"
     ]
    },
    {
     "name": "stderr",
     "output_type": "stream",
     "text": [
      "Loss=0.9369391202926636\tAccuracy=95.54\tGradient Norm=2.20: 100%|██████████| 391/391 [00:47<00:00,  8.15it/s]"
     ]
    },
    {
     "name": "stdout",
     "output_type": "stream",
     "text": [
      "Epoch Loss = 0.9524024378918016 \t Epoch Accuracy = 95.54 \t Gradient Norm = 2.20\n"
     ]
    },
    {
     "name": "stderr",
     "output_type": "stream",
     "text": [
      "\n"
     ]
    },
    {
     "name": "stdout",
     "output_type": "stream",
     "text": [
      "Validation Metrics: Average Loss: 0.0095, Accuracy: 9581/10000 (95.81%)\n",
      "Model saved with accuracy 95.81\n",
      "Epoch 157\n"
     ]
    },
    {
     "name": "stderr",
     "output_type": "stream",
     "text": [
      "Loss=0.9238287210464478\tAccuracy=95.63\tGradient Norm=2.21: 100%|██████████| 391/391 [00:47<00:00,  8.28it/s]"
     ]
    },
    {
     "name": "stdout",
     "output_type": "stream",
     "text": [
      "Epoch Loss = 0.9513117631378076 \t Epoch Accuracy = 95.63 \t Gradient Norm = 2.21\n"
     ]
    },
    {
     "name": "stderr",
     "output_type": "stream",
     "text": [
      "\n"
     ]
    },
    {
     "name": "stdout",
     "output_type": "stream",
     "text": [
      "Validation Metrics: Average Loss: 0.0096, Accuracy: 9543/10000 (95.43%)\n",
      "Epoch 158\n"
     ]
    },
    {
     "name": "stderr",
     "output_type": "stream",
     "text": [
      "Loss=0.9666452407836914\tAccuracy=95.54\tGradient Norm=2.20: 100%|██████████| 391/391 [00:47<00:00,  8.21it/s]"
     ]
    },
    {
     "name": "stdout",
     "output_type": "stream",
     "text": [
      "Epoch Loss = 0.9516248722820331 \t Epoch Accuracy = 95.54 \t Gradient Norm = 2.20\n"
     ]
    },
    {
     "name": "stderr",
     "output_type": "stream",
     "text": [
      "\n"
     ]
    },
    {
     "name": "stdout",
     "output_type": "stream",
     "text": [
      "Validation Metrics: Average Loss: 0.0096, Accuracy: 9503/10000 (95.03%)\n",
      "Epoch 159\n"
     ]
    },
    {
     "name": "stderr",
     "output_type": "stream",
     "text": [
      "Loss=0.9628763198852539\tAccuracy=95.84\tGradient Norm=2.18: 100%|██████████| 391/391 [00:47<00:00,  8.25it/s]"
     ]
    },
    {
     "name": "stdout",
     "output_type": "stream",
     "text": [
      "Epoch Loss = 0.9474244350972383 \t Epoch Accuracy = 95.84 \t Gradient Norm = 2.18\n"
     ]
    },
    {
     "name": "stderr",
     "output_type": "stream",
     "text": [
      "\n"
     ]
    },
    {
     "name": "stdout",
     "output_type": "stream",
     "text": [
      "Validation Metrics: Average Loss: 0.0096, Accuracy: 9540/10000 (95.40%)\n",
      "Epoch 160\n"
     ]
    },
    {
     "name": "stderr",
     "output_type": "stream",
     "text": [
      "Loss=0.9294675588607788\tAccuracy=95.84\tGradient Norm=2.21: 100%|██████████| 391/391 [00:47<00:00,  8.28it/s]"
     ]
    },
    {
     "name": "stdout",
     "output_type": "stream",
     "text": [
      "Epoch Loss = 0.9478637717873849 \t Epoch Accuracy = 95.84 \t Gradient Norm = 2.21\n"
     ]
    },
    {
     "name": "stderr",
     "output_type": "stream",
     "text": [
      "\n"
     ]
    },
    {
     "name": "stdout",
     "output_type": "stream",
     "text": [
      "Validation Metrics: Average Loss: 0.0094, Accuracy: 9614/10000 (96.14%)\n",
      "Model saved with accuracy 96.14\n",
      "Epoch 161\n"
     ]
    },
    {
     "name": "stderr",
     "output_type": "stream",
     "text": [
      "Loss=0.9614067673683167\tAccuracy=95.95\tGradient Norm=2.18: 100%|██████████| 391/391 [00:46<00:00,  8.32it/s]"
     ]
    },
    {
     "name": "stdout",
     "output_type": "stream",
     "text": [
      "Epoch Loss = 0.9450768133258576 \t Epoch Accuracy = 95.95 \t Gradient Norm = 2.18\n"
     ]
    },
    {
     "name": "stderr",
     "output_type": "stream",
     "text": [
      "\n"
     ]
    },
    {
     "name": "stdout",
     "output_type": "stream",
     "text": [
      "Validation Metrics: Average Loss: 0.0095, Accuracy: 9584/10000 (95.84%)\n",
      "Epoch 162\n"
     ]
    },
    {
     "name": "stderr",
     "output_type": "stream",
     "text": [
      "Loss=0.9827308654785156\tAccuracy=95.97\tGradient Norm=2.20: 100%|██████████| 391/391 [00:49<00:00,  7.90it/s]"
     ]
    },
    {
     "name": "stdout",
     "output_type": "stream",
     "text": [
      "Epoch Loss = 0.9451154156414139 \t Epoch Accuracy = 95.97 \t Gradient Norm = 2.20\n"
     ]
    },
    {
     "name": "stderr",
     "output_type": "stream",
     "text": [
      "\n"
     ]
    },
    {
     "name": "stdout",
     "output_type": "stream",
     "text": [
      "Validation Metrics: Average Loss: 0.0095, Accuracy: 9577/10000 (95.77%)\n",
      "Epoch 163\n"
     ]
    },
    {
     "name": "stderr",
     "output_type": "stream",
     "text": [
      "Loss=0.9125685691833496\tAccuracy=96.27\tGradient Norm=2.15: 100%|██████████| 391/391 [00:47<00:00,  8.27it/s]"
     ]
    },
    {
     "name": "stdout",
     "output_type": "stream",
     "text": [
      "Epoch Loss = 0.9390538322651173 \t Epoch Accuracy = 96.27 \t Gradient Norm = 2.15\n"
     ]
    },
    {
     "name": "stderr",
     "output_type": "stream",
     "text": [
      "\n"
     ]
    },
    {
     "name": "stdout",
     "output_type": "stream",
     "text": [
      "Validation Metrics: Average Loss: 0.0095, Accuracy: 9578/10000 (95.78%)\n",
      "Epoch 164\n"
     ]
    },
    {
     "name": "stderr",
     "output_type": "stream",
     "text": [
      "Loss=0.9526233673095703\tAccuracy=96.18\tGradient Norm=2.20: 100%|██████████| 391/391 [00:47<00:00,  8.27it/s]"
     ]
    },
    {
     "name": "stdout",
     "output_type": "stream",
     "text": [
      "Epoch Loss = 0.9402256015011722 \t Epoch Accuracy = 96.18 \t Gradient Norm = 2.20\n"
     ]
    },
    {
     "name": "stderr",
     "output_type": "stream",
     "text": [
      "\n"
     ]
    },
    {
     "name": "stdout",
     "output_type": "stream",
     "text": [
      "Validation Metrics: Average Loss: 0.0095, Accuracy: 9611/10000 (96.11%)\n",
      "Epoch 165\n"
     ]
    },
    {
     "name": "stderr",
     "output_type": "stream",
     "text": [
      "Loss=0.9606399536132812\tAccuracy=96.28\tGradient Norm=2.21: 100%|██████████| 391/391 [00:46<00:00,  8.34it/s]"
     ]
    },
    {
     "name": "stdout",
     "output_type": "stream",
     "text": [
      "Epoch Loss = 0.9381809041018376 \t Epoch Accuracy = 96.28 \t Gradient Norm = 2.21\n"
     ]
    },
    {
     "name": "stderr",
     "output_type": "stream",
     "text": [
      "\n"
     ]
    },
    {
     "name": "stdout",
     "output_type": "stream",
     "text": [
      "Validation Metrics: Average Loss: 0.0094, Accuracy: 9617/10000 (96.17%)\n",
      "Model saved with accuracy 96.17\n",
      "Epoch 166\n"
     ]
    },
    {
     "name": "stderr",
     "output_type": "stream",
     "text": [
      "Loss=0.9213778376579285\tAccuracy=96.33\tGradient Norm=2.18: 100%|██████████| 391/391 [00:47<00:00,  8.25it/s]"
     ]
    },
    {
     "name": "stdout",
     "output_type": "stream",
     "text": [
      "Epoch Loss = 0.9375156176364635 \t Epoch Accuracy = 96.33 \t Gradient Norm = 2.18\n"
     ]
    },
    {
     "name": "stderr",
     "output_type": "stream",
     "text": [
      "\n"
     ]
    },
    {
     "name": "stdout",
     "output_type": "stream",
     "text": [
      "Validation Metrics: Average Loss: 0.0094, Accuracy: 9616/10000 (96.16%)\n",
      "Epoch 167\n"
     ]
    },
    {
     "name": "stderr",
     "output_type": "stream",
     "text": [
      "Loss=0.9278768301010132\tAccuracy=96.43\tGradient Norm=2.14: 100%|██████████| 391/391 [00:47<00:00,  8.18it/s]"
     ]
    },
    {
     "name": "stdout",
     "output_type": "stream",
     "text": [
      "Epoch Loss = 0.935818050218665 \t Epoch Accuracy = 96.43 \t Gradient Norm = 2.14\n"
     ]
    },
    {
     "name": "stderr",
     "output_type": "stream",
     "text": [
      "\n"
     ]
    },
    {
     "name": "stdout",
     "output_type": "stream",
     "text": [
      "Validation Metrics: Average Loss: 0.0094, Accuracy: 9604/10000 (96.04%)\n",
      "Epoch 168\n"
     ]
    },
    {
     "name": "stderr",
     "output_type": "stream",
     "text": [
      "Loss=0.9114245176315308\tAccuracy=96.65\tGradient Norm=2.13: 100%|██████████| 391/391 [00:47<00:00,  8.25it/s]"
     ]
    },
    {
     "name": "stdout",
     "output_type": "stream",
     "text": [
      "Epoch Loss = 0.9320128950316583 \t Epoch Accuracy = 96.65 \t Gradient Norm = 2.13\n"
     ]
    },
    {
     "name": "stderr",
     "output_type": "stream",
     "text": [
      "\n"
     ]
    },
    {
     "name": "stdout",
     "output_type": "stream",
     "text": [
      "Validation Metrics: Average Loss: 0.0095, Accuracy: 9604/10000 (96.04%)\n",
      "Epoch 169\n"
     ]
    },
    {
     "name": "stderr",
     "output_type": "stream",
     "text": [
      "Loss=0.9189130067825317\tAccuracy=96.55\tGradient Norm=2.15: 100%|██████████| 391/391 [00:47<00:00,  8.29it/s]"
     ]
    },
    {
     "name": "stdout",
     "output_type": "stream",
     "text": [
      "Epoch Loss = 0.9341324616576094 \t Epoch Accuracy = 96.55 \t Gradient Norm = 2.15\n"
     ]
    },
    {
     "name": "stderr",
     "output_type": "stream",
     "text": [
      "\n"
     ]
    },
    {
     "name": "stdout",
     "output_type": "stream",
     "text": [
      "Validation Metrics: Average Loss: 0.0094, Accuracy: 9612/10000 (96.12%)\n",
      "Epoch 170\n"
     ]
    },
    {
     "name": "stderr",
     "output_type": "stream",
     "text": [
      "Loss=0.9057674407958984\tAccuracy=96.82\tGradient Norm=2.09: 100%|██████████| 391/391 [00:47<00:00,  8.24it/s]"
     ]
    },
    {
     "name": "stdout",
     "output_type": "stream",
     "text": [
      "Epoch Loss = 0.9284673756955529 \t Epoch Accuracy = 96.82 \t Gradient Norm = 2.09\n"
     ]
    },
    {
     "name": "stderr",
     "output_type": "stream",
     "text": [
      "\n"
     ]
    },
    {
     "name": "stdout",
     "output_type": "stream",
     "text": [
      "Validation Metrics: Average Loss: 0.0094, Accuracy: 9629/10000 (96.29%)\n",
      "Model saved with accuracy 96.29\n",
      "Epoch 171\n"
     ]
    },
    {
     "name": "stderr",
     "output_type": "stream",
     "text": [
      "Loss=0.9544645547866821\tAccuracy=96.77\tGradient Norm=2.13: 100%|██████████| 391/391 [00:47<00:00,  8.21it/s]"
     ]
    },
    {
     "name": "stdout",
     "output_type": "stream",
     "text": [
      "Epoch Loss = 0.928686699751393 \t Epoch Accuracy = 96.77 \t Gradient Norm = 2.13\n"
     ]
    },
    {
     "name": "stderr",
     "output_type": "stream",
     "text": [
      "\n"
     ]
    },
    {
     "name": "stdout",
     "output_type": "stream",
     "text": [
      "Validation Metrics: Average Loss: 0.0094, Accuracy: 9631/10000 (96.31%)\n",
      "Model saved with accuracy 96.31\n",
      "Epoch 172\n"
     ]
    },
    {
     "name": "stderr",
     "output_type": "stream",
     "text": [
      "Loss=0.8819657564163208\tAccuracy=96.88\tGradient Norm=2.11: 100%|██████████| 391/391 [00:47<00:00,  8.18it/s]"
     ]
    },
    {
     "name": "stdout",
     "output_type": "stream",
     "text": [
      "Epoch Loss = 0.9281028606702605 \t Epoch Accuracy = 96.88 \t Gradient Norm = 2.11\n"
     ]
    },
    {
     "name": "stderr",
     "output_type": "stream",
     "text": [
      "\n"
     ]
    },
    {
     "name": "stdout",
     "output_type": "stream",
     "text": [
      "Validation Metrics: Average Loss: 0.0094, Accuracy: 9622/10000 (96.22%)\n",
      "Epoch 173\n"
     ]
    },
    {
     "name": "stderr",
     "output_type": "stream",
     "text": [
      "Loss=0.9500026702880859\tAccuracy=96.90\tGradient Norm=2.08: 100%|██████████| 391/391 [00:47<00:00,  8.26it/s]"
     ]
    },
    {
     "name": "stdout",
     "output_type": "stream",
     "text": [
      "Epoch Loss = 0.9271411717395344 \t Epoch Accuracy = 96.90 \t Gradient Norm = 2.08\n"
     ]
    },
    {
     "name": "stderr",
     "output_type": "stream",
     "text": [
      "\n"
     ]
    },
    {
     "name": "stdout",
     "output_type": "stream",
     "text": [
      "Validation Metrics: Average Loss: 0.0094, Accuracy: 9626/10000 (96.26%)\n",
      "Epoch 174\n"
     ]
    },
    {
     "name": "stderr",
     "output_type": "stream",
     "text": [
      "Loss=0.885085940361023\tAccuracy=97.02\tGradient Norm=2.09: 100%|██████████| 391/391 [00:47<00:00,  8.23it/s]"
     ]
    },
    {
     "name": "stdout",
     "output_type": "stream",
     "text": [
      "Epoch Loss = 0.9250990182847318 \t Epoch Accuracy = 97.02 \t Gradient Norm = 2.09\n"
     ]
    },
    {
     "name": "stderr",
     "output_type": "stream",
     "text": [
      "\n"
     ]
    },
    {
     "name": "stdout",
     "output_type": "stream",
     "text": [
      "Validation Metrics: Average Loss: 0.0094, Accuracy: 9638/10000 (96.38%)\n",
      "Model saved with accuracy 96.38\n",
      "Epoch 175\n"
     ]
    },
    {
     "name": "stderr",
     "output_type": "stream",
     "text": [
      "Loss=0.8993611335754395\tAccuracy=96.95\tGradient Norm=2.11: 100%|██████████| 391/391 [00:47<00:00,  8.18it/s]"
     ]
    },
    {
     "name": "stdout",
     "output_type": "stream",
     "text": [
      "Epoch Loss = 0.9257534661561327 \t Epoch Accuracy = 96.95 \t Gradient Norm = 2.11\n"
     ]
    },
    {
     "name": "stderr",
     "output_type": "stream",
     "text": [
      "\n"
     ]
    },
    {
     "name": "stdout",
     "output_type": "stream",
     "text": [
      "Validation Metrics: Average Loss: 0.0094, Accuracy: 9641/10000 (96.41%)\n",
      "Model saved with accuracy 96.41\n",
      "Epoch 176\n"
     ]
    },
    {
     "name": "stderr",
     "output_type": "stream",
     "text": [
      "Loss=0.9354492425918579\tAccuracy=97.24\tGradient Norm=2.00: 100%|██████████| 391/391 [00:47<00:00,  8.21it/s]"
     ]
    },
    {
     "name": "stdout",
     "output_type": "stream",
     "text": [
      "Epoch Loss = 0.9212400059565864 \t Epoch Accuracy = 97.24 \t Gradient Norm = 2.00\n"
     ]
    },
    {
     "name": "stderr",
     "output_type": "stream",
     "text": [
      "\n"
     ]
    },
    {
     "name": "stdout",
     "output_type": "stream",
     "text": [
      "Validation Metrics: Average Loss: 0.0094, Accuracy: 9654/10000 (96.54%)\n",
      "Model saved with accuracy 96.54\n",
      "Epoch 177\n"
     ]
    },
    {
     "name": "stderr",
     "output_type": "stream",
     "text": [
      "Loss=0.9465484023094177\tAccuracy=97.15\tGradient Norm=2.05: 100%|██████████| 391/391 [00:47<00:00,  8.22it/s]"
     ]
    },
    {
     "name": "stdout",
     "output_type": "stream",
     "text": [
      "Epoch Loss = 0.922069504132966 \t Epoch Accuracy = 97.15 \t Gradient Norm = 2.05\n"
     ]
    },
    {
     "name": "stderr",
     "output_type": "stream",
     "text": [
      "\n"
     ]
    },
    {
     "name": "stdout",
     "output_type": "stream",
     "text": [
      "Validation Metrics: Average Loss: 0.0093, Accuracy: 9654/10000 (96.54%)\n",
      "Epoch 178\n"
     ]
    },
    {
     "name": "stderr",
     "output_type": "stream",
     "text": [
      "Loss=0.9321340322494507\tAccuracy=97.27\tGradient Norm=2.07: 100%|██████████| 391/391 [00:47<00:00,  8.18it/s]"
     ]
    },
    {
     "name": "stdout",
     "output_type": "stream",
     "text": [
      "Epoch Loss = 0.9194575177739038 \t Epoch Accuracy = 97.27 \t Gradient Norm = 2.07\n"
     ]
    },
    {
     "name": "stderr",
     "output_type": "stream",
     "text": [
      "\n"
     ]
    },
    {
     "name": "stdout",
     "output_type": "stream",
     "text": [
      "Validation Metrics: Average Loss: 0.0094, Accuracy: 9657/10000 (96.57%)\n",
      "Model saved with accuracy 96.57\n",
      "Epoch 179\n"
     ]
    },
    {
     "name": "stderr",
     "output_type": "stream",
     "text": [
      "Loss=0.913347601890564\tAccuracy=97.22\tGradient Norm=2.03: 100%|██████████| 391/391 [00:47<00:00,  8.19it/s]"
     ]
    },
    {
     "name": "stdout",
     "output_type": "stream",
     "text": [
      "Epoch Loss = 0.9207749584751665 \t Epoch Accuracy = 97.22 \t Gradient Norm = 2.03\n"
     ]
    },
    {
     "name": "stderr",
     "output_type": "stream",
     "text": [
      "\n"
     ]
    },
    {
     "name": "stdout",
     "output_type": "stream",
     "text": [
      "Validation Metrics: Average Loss: 0.0094, Accuracy: 9635/10000 (96.35%)\n",
      "Epoch 180\n"
     ]
    },
    {
     "name": "stderr",
     "output_type": "stream",
     "text": [
      "Loss=0.9515666365623474\tAccuracy=97.35\tGradient Norm=1.99: 100%|██████████| 391/391 [00:47<00:00,  8.22it/s]"
     ]
    },
    {
     "name": "stdout",
     "output_type": "stream",
     "text": [
      "Epoch Loss = 0.9191544847110348 \t Epoch Accuracy = 97.35 \t Gradient Norm = 1.99\n"
     ]
    },
    {
     "name": "stderr",
     "output_type": "stream",
     "text": [
      "\n"
     ]
    },
    {
     "name": "stdout",
     "output_type": "stream",
     "text": [
      "Validation Metrics: Average Loss: 0.0093, Accuracy: 9662/10000 (96.62%)\n",
      "Model saved with accuracy 96.62\n",
      "Epoch 181\n"
     ]
    },
    {
     "name": "stderr",
     "output_type": "stream",
     "text": [
      "Loss=0.9568907022476196\tAccuracy=97.36\tGradient Norm=2.00: 100%|██████████| 391/391 [00:47<00:00,  8.20it/s]"
     ]
    },
    {
     "name": "stdout",
     "output_type": "stream",
     "text": [
      "Epoch Loss = 0.9184146369509685 \t Epoch Accuracy = 97.36 \t Gradient Norm = 2.00\n"
     ]
    },
    {
     "name": "stderr",
     "output_type": "stream",
     "text": [
      "\n"
     ]
    },
    {
     "name": "stdout",
     "output_type": "stream",
     "text": [
      "Validation Metrics: Average Loss: 0.0093, Accuracy: 9668/10000 (96.68%)\n",
      "Model saved with accuracy 96.68\n",
      "Epoch 182\n"
     ]
    },
    {
     "name": "stderr",
     "output_type": "stream",
     "text": [
      "Loss=0.8801162838935852\tAccuracy=97.40\tGradient Norm=1.97: 100%|██████████| 391/391 [00:47<00:00,  8.16it/s]"
     ]
    },
    {
     "name": "stdout",
     "output_type": "stream",
     "text": [
      "Epoch Loss = 0.9177297651005523 \t Epoch Accuracy = 97.40 \t Gradient Norm = 1.97\n"
     ]
    },
    {
     "name": "stderr",
     "output_type": "stream",
     "text": [
      "\n"
     ]
    },
    {
     "name": "stdout",
     "output_type": "stream",
     "text": [
      "Validation Metrics: Average Loss: 0.0093, Accuracy: 9685/10000 (96.85%)\n",
      "Model saved with accuracy 96.85\n",
      "Epoch 183\n"
     ]
    },
    {
     "name": "stderr",
     "output_type": "stream",
     "text": [
      "Loss=0.9517015218734741\tAccuracy=97.51\tGradient Norm=1.96: 100%|██████████| 391/391 [00:47<00:00,  8.16it/s]"
     ]
    },
    {
     "name": "stdout",
     "output_type": "stream",
     "text": [
      "Epoch Loss = 0.9167639983584509 \t Epoch Accuracy = 97.51 \t Gradient Norm = 1.96\n"
     ]
    },
    {
     "name": "stderr",
     "output_type": "stream",
     "text": [
      "\n"
     ]
    },
    {
     "name": "stdout",
     "output_type": "stream",
     "text": [
      "Validation Metrics: Average Loss: 0.0093, Accuracy: 9663/10000 (96.63%)\n",
      "Epoch 184\n"
     ]
    },
    {
     "name": "stderr",
     "output_type": "stream",
     "text": [
      "Loss=0.910761833190918\tAccuracy=97.66\tGradient Norm=1.91: 100%|██████████| 391/391 [00:48<00:00,  8.10it/s]"
     ]
    },
    {
     "name": "stdout",
     "output_type": "stream",
     "text": [
      "Epoch Loss = 0.9130450282865168 \t Epoch Accuracy = 97.66 \t Gradient Norm = 1.91\n"
     ]
    },
    {
     "name": "stderr",
     "output_type": "stream",
     "text": [
      "\n"
     ]
    },
    {
     "name": "stdout",
     "output_type": "stream",
     "text": [
      "Validation Metrics: Average Loss: 0.0093, Accuracy: 9681/10000 (96.81%)\n",
      "Epoch 185\n"
     ]
    },
    {
     "name": "stderr",
     "output_type": "stream",
     "text": [
      "Loss=0.9544593095779419\tAccuracy=97.47\tGradient Norm=1.95: 100%|██████████| 391/391 [00:47<00:00,  8.15it/s]"
     ]
    },
    {
     "name": "stdout",
     "output_type": "stream",
     "text": [
      "Epoch Loss = 0.9162549246912417 \t Epoch Accuracy = 97.47 \t Gradient Norm = 1.95\n"
     ]
    },
    {
     "name": "stderr",
     "output_type": "stream",
     "text": [
      "\n"
     ]
    },
    {
     "name": "stdout",
     "output_type": "stream",
     "text": [
      "Validation Metrics: Average Loss: 0.0093, Accuracy: 9692/10000 (96.92%)\n",
      "Model saved with accuracy 96.92\n",
      "Epoch 186\n"
     ]
    },
    {
     "name": "stderr",
     "output_type": "stream",
     "text": [
      "Loss=0.9573368430137634\tAccuracy=97.55\tGradient Norm=1.97: 100%|██████████| 391/391 [00:48<00:00,  8.09it/s]"
     ]
    },
    {
     "name": "stdout",
     "output_type": "stream",
     "text": [
      "Epoch Loss = 0.9154947712598249 \t Epoch Accuracy = 97.55 \t Gradient Norm = 1.97\n"
     ]
    },
    {
     "name": "stderr",
     "output_type": "stream",
     "text": [
      "\n"
     ]
    },
    {
     "name": "stdout",
     "output_type": "stream",
     "text": [
      "Validation Metrics: Average Loss: 0.0093, Accuracy: 9667/10000 (96.67%)\n",
      "Epoch 187\n"
     ]
    },
    {
     "name": "stderr",
     "output_type": "stream",
     "text": [
      "Loss=0.9026199579238892\tAccuracy=97.51\tGradient Norm=1.95: 100%|██████████| 391/391 [00:48<00:00,  8.08it/s]"
     ]
    },
    {
     "name": "stdout",
     "output_type": "stream",
     "text": [
      "Epoch Loss = 0.915573391005816 \t Epoch Accuracy = 97.51 \t Gradient Norm = 1.95\n"
     ]
    },
    {
     "name": "stderr",
     "output_type": "stream",
     "text": [
      "\n"
     ]
    },
    {
     "name": "stdout",
     "output_type": "stream",
     "text": [
      "Validation Metrics: Average Loss: 0.0093, Accuracy: 9683/10000 (96.83%)\n",
      "Epoch 188\n"
     ]
    },
    {
     "name": "stderr",
     "output_type": "stream",
     "text": [
      "Loss=1.0002326965332031\tAccuracy=97.51\tGradient Norm=1.95: 100%|██████████| 391/391 [00:48<00:00,  8.06it/s]"
     ]
    },
    {
     "name": "stdout",
     "output_type": "stream",
     "text": [
      "Epoch Loss = 0.9148941572060061 \t Epoch Accuracy = 97.51 \t Gradient Norm = 1.95\n"
     ]
    },
    {
     "name": "stderr",
     "output_type": "stream",
     "text": [
      "\n"
     ]
    },
    {
     "name": "stdout",
     "output_type": "stream",
     "text": [
      "Validation Metrics: Average Loss: 0.0093, Accuracy: 9684/10000 (96.84%)\n",
      "Epoch 189\n"
     ]
    },
    {
     "name": "stderr",
     "output_type": "stream",
     "text": [
      "Loss=0.883693516254425\tAccuracy=97.66\tGradient Norm=1.92: 100%|██████████| 391/391 [00:47<00:00,  8.18it/s]"
     ]
    },
    {
     "name": "stdout",
     "output_type": "stream",
     "text": [
      "Epoch Loss = 0.9114204149721833 \t Epoch Accuracy = 97.66 \t Gradient Norm = 1.92\n"
     ]
    },
    {
     "name": "stderr",
     "output_type": "stream",
     "text": [
      "\n"
     ]
    },
    {
     "name": "stdout",
     "output_type": "stream",
     "text": [
      "Validation Metrics: Average Loss: 0.0093, Accuracy: 9696/10000 (96.96%)\n",
      "Model saved with accuracy 96.96\n",
      "Epoch 190\n"
     ]
    },
    {
     "name": "stderr",
     "output_type": "stream",
     "text": [
      "Loss=0.8972141742706299\tAccuracy=97.66\tGradient Norm=1.88: 100%|██████████| 391/391 [00:48<00:00,  8.07it/s]"
     ]
    },
    {
     "name": "stdout",
     "output_type": "stream",
     "text": [
      "Epoch Loss = 0.9126611441907371 \t Epoch Accuracy = 97.66 \t Gradient Norm = 1.88\n"
     ]
    },
    {
     "name": "stderr",
     "output_type": "stream",
     "text": [
      "\n"
     ]
    },
    {
     "name": "stdout",
     "output_type": "stream",
     "text": [
      "Validation Metrics: Average Loss: 0.0093, Accuracy: 9688/10000 (96.88%)\n",
      "Epoch 191\n"
     ]
    },
    {
     "name": "stderr",
     "output_type": "stream",
     "text": [
      "Loss=0.8902379274368286\tAccuracy=97.69\tGradient Norm=1.90: 100%|██████████| 391/391 [00:48<00:00,  8.10it/s]"
     ]
    },
    {
     "name": "stdout",
     "output_type": "stream",
     "text": [
      "Epoch Loss = 0.912265775453709 \t Epoch Accuracy = 97.69 \t Gradient Norm = 1.90\n"
     ]
    },
    {
     "name": "stderr",
     "output_type": "stream",
     "text": [
      "\n"
     ]
    },
    {
     "name": "stdout",
     "output_type": "stream",
     "text": [
      "Validation Metrics: Average Loss: 0.0093, Accuracy: 9693/10000 (96.93%)\n",
      "Epoch 192\n"
     ]
    },
    {
     "name": "stderr",
     "output_type": "stream",
     "text": [
      "Loss=0.8947080969810486\tAccuracy=97.65\tGradient Norm=1.88: 100%|██████████| 391/391 [00:48<00:00,  8.07it/s]"
     ]
    },
    {
     "name": "stdout",
     "output_type": "stream",
     "text": [
      "Epoch Loss = 0.9113345633992149 \t Epoch Accuracy = 97.65 \t Gradient Norm = 1.88\n"
     ]
    },
    {
     "name": "stderr",
     "output_type": "stream",
     "text": [
      "\n"
     ]
    },
    {
     "name": "stdout",
     "output_type": "stream",
     "text": [
      "Validation Metrics: Average Loss: 0.0093, Accuracy: 9692/10000 (96.92%)\n",
      "Epoch 193\n"
     ]
    },
    {
     "name": "stderr",
     "output_type": "stream",
     "text": [
      "Loss=0.9014085531234741\tAccuracy=97.75\tGradient Norm=1.86: 100%|██████████| 391/391 [00:47<00:00,  8.18it/s]"
     ]
    },
    {
     "name": "stdout",
     "output_type": "stream",
     "text": [
      "Epoch Loss = 0.9116109368746238 \t Epoch Accuracy = 97.75 \t Gradient Norm = 1.86\n"
     ]
    },
    {
     "name": "stderr",
     "output_type": "stream",
     "text": [
      "\n"
     ]
    },
    {
     "name": "stdout",
     "output_type": "stream",
     "text": [
      "Validation Metrics: Average Loss: 0.0093, Accuracy: 9698/10000 (96.98%)\n",
      "Model saved with accuracy 96.98\n",
      "Epoch 194\n"
     ]
    },
    {
     "name": "stderr",
     "output_type": "stream",
     "text": [
      "Loss=0.9574189186096191\tAccuracy=97.74\tGradient Norm=1.88: 100%|██████████| 391/391 [00:48<00:00,  8.07it/s]"
     ]
    },
    {
     "name": "stdout",
     "output_type": "stream",
     "text": [
      "Epoch Loss = 0.9103040936048074 \t Epoch Accuracy = 97.74 \t Gradient Norm = 1.88\n"
     ]
    },
    {
     "name": "stderr",
     "output_type": "stream",
     "text": [
      "\n"
     ]
    },
    {
     "name": "stdout",
     "output_type": "stream",
     "text": [
      "Validation Metrics: Average Loss: 0.0093, Accuracy: 9697/10000 (96.97%)\n",
      "Epoch 195\n"
     ]
    },
    {
     "name": "stderr",
     "output_type": "stream",
     "text": [
      "Loss=0.8882301449775696\tAccuracy=97.66\tGradient Norm=1.91: 100%|██████████| 391/391 [00:48<00:00,  8.00it/s]"
     ]
    },
    {
     "name": "stdout",
     "output_type": "stream",
     "text": [
      "Epoch Loss = 0.9123974133025655 \t Epoch Accuracy = 97.66 \t Gradient Norm = 1.91\n"
     ]
    },
    {
     "name": "stderr",
     "output_type": "stream",
     "text": [
      "\n"
     ]
    },
    {
     "name": "stdout",
     "output_type": "stream",
     "text": [
      "Validation Metrics: Average Loss: 0.0093, Accuracy: 9694/10000 (96.94%)\n",
      "Epoch 196\n"
     ]
    },
    {
     "name": "stderr",
     "output_type": "stream",
     "text": [
      "Loss=0.9035762548446655\tAccuracy=97.75\tGradient Norm=1.87: 100%|██████████| 391/391 [00:48<00:00,  8.09it/s]"
     ]
    },
    {
     "name": "stdout",
     "output_type": "stream",
     "text": [
      "Epoch Loss = 0.9114342789210932 \t Epoch Accuracy = 97.75 \t Gradient Norm = 1.87\n"
     ]
    },
    {
     "name": "stderr",
     "output_type": "stream",
     "text": [
      "\n"
     ]
    },
    {
     "name": "stdout",
     "output_type": "stream",
     "text": [
      "Validation Metrics: Average Loss: 0.0093, Accuracy: 9698/10000 (96.98%)\n",
      "Epoch 197\n"
     ]
    },
    {
     "name": "stderr",
     "output_type": "stream",
     "text": [
      "Loss=0.9245032072067261\tAccuracy=97.76\tGradient Norm=1.84: 100%|██████████| 391/391 [00:47<00:00,  8.26it/s]"
     ]
    },
    {
     "name": "stdout",
     "output_type": "stream",
     "text": [
      "Epoch Loss = 0.9106000981977224 \t Epoch Accuracy = 97.76 \t Gradient Norm = 1.84\n"
     ]
    },
    {
     "name": "stderr",
     "output_type": "stream",
     "text": [
      "\n"
     ]
    },
    {
     "name": "stdout",
     "output_type": "stream",
     "text": [
      "Validation Metrics: Average Loss: 0.0093, Accuracy: 9697/10000 (96.97%)\n",
      "Epoch 198\n"
     ]
    },
    {
     "name": "stderr",
     "output_type": "stream",
     "text": [
      "Loss=0.924342930316925\tAccuracy=97.79\tGradient Norm=1.86: 100%|██████████| 391/391 [00:48<00:00,  8.10it/s]"
     ]
    },
    {
     "name": "stdout",
     "output_type": "stream",
     "text": [
      "Epoch Loss = 0.9103389987555306 \t Epoch Accuracy = 97.79 \t Gradient Norm = 1.86\n"
     ]
    },
    {
     "name": "stderr",
     "output_type": "stream",
     "text": [
      "\n"
     ]
    },
    {
     "name": "stdout",
     "output_type": "stream",
     "text": [
      "Validation Metrics: Average Loss: 0.0093, Accuracy: 9700/10000 (97.00%)\n",
      "Model saved with accuracy 97.0\n",
      "Epoch 199\n"
     ]
    },
    {
     "name": "stderr",
     "output_type": "stream",
     "text": [
      "Loss=0.9745724201202393\tAccuracy=97.70\tGradient Norm=1.85: 100%|██████████| 391/391 [00:48<00:00,  8.14it/s]"
     ]
    },
    {
     "name": "stdout",
     "output_type": "stream",
     "text": [
      "Epoch Loss = 0.9108230784116194 \t Epoch Accuracy = 97.70 \t Gradient Norm = 1.85\n"
     ]
    },
    {
     "name": "stderr",
     "output_type": "stream",
     "text": [
      "\n"
     ]
    },
    {
     "name": "stdout",
     "output_type": "stream",
     "text": [
      "Validation Metrics: Average Loss: 0.0093, Accuracy: 9701/10000 (97.01%)\n",
      "Model saved with accuracy 97.01\n",
      "Epoch 200\n"
     ]
    },
    {
     "name": "stderr",
     "output_type": "stream",
     "text": [
      "Loss=0.9610440731048584\tAccuracy=97.70\tGradient Norm=1.86: 100%|██████████| 391/391 [00:47<00:00,  8.17it/s]"
     ]
    },
    {
     "name": "stdout",
     "output_type": "stream",
     "text": [
      "Epoch Loss = 0.9115320572157954 \t Epoch Accuracy = 97.70 \t Gradient Norm = 1.86\n"
     ]
    },
    {
     "name": "stderr",
     "output_type": "stream",
     "text": [
      "\n"
     ]
    },
    {
     "name": "stdout",
     "output_type": "stream",
     "text": [
      "Validation Metrics: Average Loss: 0.0093, Accuracy: 9696/10000 (96.96%)\n"
     ]
    }
   ],
   "source": [
    "train_model(model, device)"
   ]
  },
  {
   "cell_type": "code",
   "execution_count": 18,
   "id": "d9fc1a6a",
   "metadata": {
    "execution": {
     "iopub.execute_input": "2025-03-15T07:16:52.003581Z",
     "iopub.status.busy": "2025-03-15T07:16:52.003223Z",
     "iopub.status.idle": "2025-03-15T07:16:52.007766Z",
     "shell.execute_reply": "2025-03-15T07:16:52.006915Z"
    },
    "papermill": {
     "duration": 7.774831,
     "end_time": "2025-03-15T07:16:52.008894",
     "exception": false,
     "start_time": "2025-03-15T07:16:44.234063",
     "status": "completed"
    },
    "tags": []
   },
   "outputs": [
    {
     "name": "stdout",
     "output_type": "stream",
     "text": [
      "97.01\n"
     ]
    }
   ],
   "source": [
    "global best_acc\n",
    "print(best_acc)"
   ]
  },
  {
   "cell_type": "code",
   "execution_count": 19,
   "id": "fbebd8f7",
   "metadata": {
    "execution": {
     "iopub.execute_input": "2025-03-15T07:17:07.379491Z",
     "iopub.status.busy": "2025-03-15T07:17:07.379144Z",
     "iopub.status.idle": "2025-03-15T07:17:08.175893Z",
     "shell.execute_reply": "2025-03-15T07:17:08.174910Z"
    },
    "papermill": {
     "duration": 8.525824,
     "end_time": "2025-03-15T07:17:08.177460",
     "exception": false,
     "start_time": "2025-03-15T07:16:59.651636",
     "status": "completed"
    },
    "tags": []
   },
   "outputs": [],
   "source": [
    "# Getting the data for plotting the training and validation losses, accuracies and gradient norms\n",
    "arr_train=np.array(torch.Tensor(train_losses).cpu())\n",
    "arr_test=np.array(torch.Tensor(test_losses_l1).cpu())\n",
    "arr_train_acc=np.array(torch.Tensor(train_acc).cpu())\n",
    "arr_test_acc=np.array(torch.Tensor(test_acc_l1).cpu())\n",
    "gradients_norms_int = np.array(torch.Tensor(gradients_norms).cpu())\n",
    "plot_train_loss_fin = np.array(torch.Tensor(plot_train_loss).cpu())\n",
    "plot_gd_norm_fin = np.array(torch.Tensor(plot_gradient_norms).cpu())"
   ]
  },
  {
   "cell_type": "code",
   "execution_count": 20,
   "id": "1b077a78",
   "metadata": {
    "execution": {
     "iopub.execute_input": "2025-03-15T07:17:23.696746Z",
     "iopub.status.busy": "2025-03-15T07:17:23.696405Z",
     "iopub.status.idle": "2025-03-15T07:17:24.038776Z",
     "shell.execute_reply": "2025-03-15T07:17:24.037891Z"
    },
    "papermill": {
     "duration": 8.137474,
     "end_time": "2025-03-15T07:17:24.040071",
     "exception": false,
     "start_time": "2025-03-15T07:17:15.902597",
     "status": "completed"
    },
    "tags": []
   },
   "outputs": [
    {
     "data": {
      "image/png": "[encoded data removed]",
      "text/plain": [
       "<Figure size 640x480 with 1 Axes>"
      ]
     },
     "metadata": {},
     "output_type": "display_data"
    }
   ],
   "source": [
    "plt.plot(arr_train_acc)\n",
    "plt.plot(arr_test_acc)\n",
    "plt.legend([\"train\",\"test\"])\n",
    "plt.title(\"Epoch vs Accuracy\")\n",
    "plt.xlabel(\"Epoch\")\n",
    "plt.ylabel(\"Accuracy\")\n",
    "plt.show()"
   ]
  },
  {
   "cell_type": "code",
   "execution_count": 21,
   "id": "a7092d7c",
   "metadata": {
    "execution": {
     "iopub.execute_input": "2025-03-15T07:17:39.428771Z",
     "iopub.status.busy": "2025-03-15T07:17:39.428425Z",
     "iopub.status.idle": "2025-03-15T07:17:39.606784Z",
     "shell.execute_reply": "2025-03-15T07:17:39.605836Z"
    },
    "papermill": {
     "duration": 7.920585,
     "end_time": "2025-03-15T07:17:39.608087",
     "exception": false,
     "start_time": "2025-03-15T07:17:31.687502",
     "status": "completed"
    },
    "tags": []
   },
   "outputs": [
    {
     "data": {
      "image/png": "[encoded data removed]",
      "text/plain": [
       "<Figure size 640x480 with 1 Axes>"
      ]
     },
     "metadata": {},
     "output_type": "display_data"
    }
   ],
   "source": [
    "plt.plot(plot_gd_norm_fin)\n",
    "# plt.plot(arr_test)\n",
    "plt.legend([\"train\"])\n",
    "plt.title(\"Epoch vs GD\")\n",
    "plt.xlabel(\"Epoch\")\n",
    "plt.ylabel(\"Loss\")\n",
    "plt.show()"
   ]
  },
  {
   "cell_type": "code",
   "execution_count": 22,
   "id": "9f2cf1b0",
   "metadata": {
    "execution": {
     "iopub.execute_input": "2025-03-15T07:17:54.964501Z",
     "iopub.status.busy": "2025-03-15T07:17:54.964156Z",
     "iopub.status.idle": "2025-03-15T07:17:55.131247Z",
     "shell.execute_reply": "2025-03-15T07:17:55.130360Z"
    },
    "papermill": {
     "duration": 7.887054,
     "end_time": "2025-03-15T07:17:55.132719",
     "exception": false,
     "start_time": "2025-03-15T07:17:47.245665",
     "status": "completed"
    },
    "tags": []
   },
   "outputs": [
    {
     "data": {
      "image/png": "[encoded data removed]",
      "text/plain": [
       "<Figure size 640x480 with 1 Axes>"
      ]
     },
     "metadata": {},
     "output_type": "display_data"
    }
   ],
   "source": [
    "plt.plot(plot_train_loss_fin)\n",
    "# plt.plot(arr_test)\n",
    "plt.legend([\"train\"])\n",
    "plt.title(\"Epoch vs Loss\")\n",
    "plt.xlabel(\"Epoch\")\n",
    "plt.ylabel(\"Loss\")\n",
    "plt.show()"
   ]
  },
  {
   "cell_type": "code",
   "execution_count": 23,
   "id": "9332536b",
   "metadata": {
    "execution": {
     "iopub.execute_input": "2025-03-15T07:18:10.684787Z",
     "iopub.status.busy": "2025-03-15T07:18:10.684484Z",
     "iopub.status.idle": "2025-03-15T07:18:10.847334Z",
     "shell.execute_reply": "2025-03-15T07:18:10.846541Z"
    },
    "papermill": {
     "duration": 7.932269,
     "end_time": "2025-03-15T07:18:10.848729",
     "exception": false,
     "start_time": "2025-03-15T07:18:02.916460",
     "status": "completed"
    },
    "tags": []
   },
   "outputs": [
    {
     "data": {
      "image/png": "[encoded data removed]",
      "text/plain": [
       "<Figure size 640x480 with 1 Axes>"
      ]
     },
     "metadata": {},
     "output_type": "display_data"
    }
   ],
   "source": [
    "# plt.plot(arr_train1)\n",
    "plt.plot(arr_test)\n",
    "plt.legend([\"test\"])\n",
    "plt.title(\"Epoch vs Loss\")\n",
    "plt.xlabel(\"Epoch\")\n",
    "plt.ylabel(\"Loss\")\n",
    "plt.show()"
   ]
  },
  {
   "cell_type": "code",
   "execution_count": 24,
   "id": "560747b2",
   "metadata": {
    "execution": {
     "iopub.execute_input": "2025-03-15T07:18:26.105929Z",
     "iopub.status.busy": "2025-03-15T07:18:26.105645Z",
     "iopub.status.idle": "2025-03-15T07:18:26.257959Z",
     "shell.execute_reply": "2025-03-15T07:18:26.256975Z"
    },
    "papermill": {
     "duration": 7.782507,
     "end_time": "2025-03-15T07:18:26.259199",
     "exception": false,
     "start_time": "2025-03-15T07:18:18.476692",
     "status": "completed"
    },
    "tags": []
   },
   "outputs": [
    {
     "name": "stderr",
     "output_type": "stream",
     "text": [
      "/usr/local/lib/python3.10/dist-packages/torch/serialization.py:1328: UserWarning: 'torch.load' received a zip file that looks like a TorchScript archive dispatching to 'torch.jit.load' (call 'torch.jit.load' directly to silence this warning)\n",
      "  warnings.warn(\n"
     ]
    }
   ],
   "source": [
    "model = torch.load(os.path.join(model_save_path, 'best_model.pt'), weights_only = False)\n",
    "model = model.to(device)"
   ]
  },
  {
   "cell_type": "code",
   "execution_count": 25,
   "id": "26776735",
   "metadata": {
    "execution": {
     "iopub.execute_input": "2025-03-15T07:18:41.539785Z",
     "iopub.status.busy": "2025-03-15T07:18:41.539497Z",
     "iopub.status.idle": "2025-03-15T07:18:41.545415Z",
     "shell.execute_reply": "2025-03-15T07:18:41.544723Z"
    },
    "papermill": {
     "duration": 7.700492,
     "end_time": "2025-03-15T07:18:41.546627",
     "exception": false,
     "start_time": "2025-03-15T07:18:33.846135",
     "status": "completed"
    },
    "tags": []
   },
   "outputs": [],
   "source": [
    "# Custom Test Data Loader\n",
    "\n",
    "class Cifar10NoLabelDataset(VisionDataset):\n",
    "\n",
    "    def __init__(\n",
    "        self,\n",
    "        root: Union[str, Path],\n",
    "        transform: Optional[Callable] = None\n",
    "    ) -> None:\n",
    "        \n",
    "        super().__init__(root, transform=transform, target_transform=None)\n",
    "\n",
    "        self.data: Any = []\n",
    "        self.targets = []\n",
    "        \n",
    "        with open(root, 'rb') as fo:\n",
    "            batch = pickle.load(fo, encoding='bytes')\n",
    "\n",
    "        \n",
    "        self.data = batch[b'data']\n",
    "        self.targets = batch[b'ids']\n",
    "        # self.data = np.vstack(self.data).reshape(-1, 3, 32, 32)\n",
    "        # self.data = self.data.transpose((0, 2, 3, 1))  # convert to HWC\n",
    "\n",
    "    def __len__(self):\n",
    "        return len(self.data)\n",
    "\n",
    "    def __getitem__(self, index: int) -> Tuple[Any, Any]:\n",
    "        img, target = self.data[index], self.targets[index]\n",
    "\n",
    "        img = Image.fromarray(img)\n",
    "\n",
    "        if self.transform is not None:\n",
    "            img = self.transform(img)\n",
    "\n",
    "        return img, target"
   ]
  },
  {
   "cell_type": "code",
   "execution_count": 26,
   "id": "df119e1a",
   "metadata": {
    "execution": {
     "iopub.execute_input": "2025-03-15T07:18:56.927845Z",
     "iopub.status.busy": "2025-03-15T07:18:56.927562Z",
     "iopub.status.idle": "2025-03-15T07:18:57.525370Z",
     "shell.execute_reply": "2025-03-15T07:18:57.524662Z"
    },
    "papermill": {
     "duration": 8.206596,
     "end_time": "2025-03-15T07:18:57.526932",
     "exception": false,
     "start_time": "2025-03-15T07:18:49.320336",
     "status": "completed"
    },
    "tags": []
   },
   "outputs": [],
   "source": [
    "test_tranform = transforms.Compose([\n",
    "    transforms.ToTensor(),\n",
    "    transforms.Normalize((0.4914, 0.4822, 0.4465), (0.2023, 0.1994, 0.2010)),\n",
    "])\n",
    "\n",
    "test_data_no_label = Cifar10NoLabelDataset(test_data_dir, transform=test_tranform)\n",
    "test_loader_no_label = torch.utils.data.DataLoader(test_data_no_label, batch_size=test_batch_size, shuffle=False, num_workers=num_of_workers)"
   ]
  },
  {
   "cell_type": "code",
   "execution_count": 27,
   "id": "c753846d",
   "metadata": {
    "execution": {
     "iopub.execute_input": "2025-03-15T07:19:12.862806Z",
     "iopub.status.busy": "2025-03-15T07:19:12.862508Z",
     "iopub.status.idle": "2025-03-15T07:19:19.669920Z",
     "shell.execute_reply": "2025-03-15T07:19:19.668813Z"
    },
    "papermill": {
     "duration": 14.586171,
     "end_time": "2025-03-15T07:19:19.671479",
     "exception": false,
     "start_time": "2025-03-15T07:19:05.085308",
     "status": "completed"
    },
    "tags": []
   },
   "outputs": [
    {
     "name": "stderr",
     "output_type": "stream",
     "text": [
      "<ipython-input-27-a3a93c7bf7ee>:8: UserWarning: To copy construct from a tensor, it is recommended to use sourceTensor.clone().detach() or sourceTensor.clone().detach().requires_grad_(True), rather than torch.tensor(sourceTensor).\n",
      "  predictions.extend(torch.tensor(predicted).cpu().tolist())\n"
     ]
    },
    {
     "name": "stdout",
     "output_type": "stream",
     "text": [
      "10000\n",
      "10000\n"
     ]
    }
   ],
   "source": [
    "indexes = []\n",
    "predictions = []\n",
    "for batch_idx, (inputs,index) in enumerate(test_loader_no_label):\n",
    "        inputs, index = inputs.to(device), index.to(device)\n",
    "        indexes.extend(index.cpu().tolist())\n",
    "        outputs = model(inputs)\n",
    "        _, predicted = torch.max(outputs.data, 1)\n",
    "        predictions.extend(torch.tensor(predicted).cpu().tolist())\n",
    "        \n",
    "\n",
    "dictionary = {'ID':indexes,'Label':predictions}\n",
    "print(len(indexes))\n",
    "print(len(predictions))\n",
    "\n",
    "df = pd.DataFrame(dictionary)"
   ]
  },
  {
   "cell_type": "code",
   "execution_count": 28,
   "id": "34f507e2",
   "metadata": {
    "execution": {
     "iopub.execute_input": "2025-03-15T07:19:35.140297Z",
     "iopub.status.busy": "2025-03-15T07:19:35.139973Z",
     "iopub.status.idle": "2025-03-15T07:19:35.346020Z",
     "shell.execute_reply": "2025-03-15T07:19:35.345231Z"
    },
    "papermill": {
     "duration": 7.949368,
     "end_time": "2025-03-15T07:19:35.347245",
     "exception": false,
     "start_time": "2025-03-15T07:19:27.397877",
     "status": "completed"
    },
    "tags": []
   },
   "outputs": [
    {
     "data": {
      "image/png": "[encoded data removed]",
      "text/plain": [
       "<Figure size 640x480 with 10 Axes>"
      ]
     },
     "metadata": {},
     "output_type": "display_data"
    }
   ],
   "source": [
    "for i in range(10):\n",
    "    plt.subplot(1, 10, i+1)\n",
    "    plt.imshow(test_data_no_label.data[i])\n",
    "    plt.axis('off')\n",
    "plt.show()"
   ]
  },
  {
   "cell_type": "code",
   "execution_count": 29,
   "id": "1f8c3877",
   "metadata": {
    "execution": {
     "iopub.execute_input": "2025-03-15T07:19:50.663966Z",
     "iopub.status.busy": "2025-03-15T07:19:50.663663Z",
     "iopub.status.idle": "2025-03-15T07:19:50.685586Z",
     "shell.execute_reply": "2025-03-15T07:19:50.684731Z"
    },
    "papermill": {
     "duration": 7.576784,
     "end_time": "2025-03-15T07:19:50.686967",
     "exception": false,
     "start_time": "2025-03-15T07:19:43.110183",
     "status": "completed"
    },
    "tags": []
   },
   "outputs": [
    {
     "data": {
      "text/html": [
       "<div>\n",
       "<style scoped>\n",
       "    .dataframe tbody tr th:only-of-type {\n",
       "        vertical-align: middle;\n",
       "    }\n",
       "\n",
       "    .dataframe tbody tr th {\n",
       "        vertical-align: top;\n",
       "    }\n",
       "\n",
       "    .dataframe thead th {\n",
       "        text-align: right;\n",
       "    }\n",
       "</style>\n",
       "<table border=\"1\" class=\"dataframe\">\n",
       "  <thead>\n",
       "    <tr style=\"text-align: right;\">\n",
       "      <th></th>\n",
       "      <th>ID</th>\n",
       "      <th>Label</th>\n",
       "    </tr>\n",
       "  </thead>\n",
       "  <tbody>\n",
       "    <tr>\n",
       "      <th>0</th>\n",
       "      <td>0</td>\n",
       "      <td>6</td>\n",
       "    </tr>\n",
       "    <tr>\n",
       "      <th>1</th>\n",
       "      <td>1</td>\n",
       "      <td>1</td>\n",
       "    </tr>\n",
       "    <tr>\n",
       "      <th>2</th>\n",
       "      <td>2</td>\n",
       "      <td>8</td>\n",
       "    </tr>\n",
       "    <tr>\n",
       "      <th>3</th>\n",
       "      <td>3</td>\n",
       "      <td>6</td>\n",
       "    </tr>\n",
       "    <tr>\n",
       "      <th>4</th>\n",
       "      <td>4</td>\n",
       "      <td>9</td>\n",
       "    </tr>\n",
       "    <tr>\n",
       "      <th>5</th>\n",
       "      <td>5</td>\n",
       "      <td>3</td>\n",
       "    </tr>\n",
       "    <tr>\n",
       "      <th>6</th>\n",
       "      <td>6</td>\n",
       "      <td>0</td>\n",
       "    </tr>\n",
       "    <tr>\n",
       "      <th>7</th>\n",
       "      <td>7</td>\n",
       "      <td>2</td>\n",
       "    </tr>\n",
       "    <tr>\n",
       "      <th>8</th>\n",
       "      <td>8</td>\n",
       "      <td>9</td>\n",
       "    </tr>\n",
       "    <tr>\n",
       "      <th>9</th>\n",
       "      <td>9</td>\n",
       "      <td>5</td>\n",
       "    </tr>\n",
       "  </tbody>\n",
       "</table>\n",
       "</div>"
      ],
      "text/plain": [
       "   ID  Label\n",
       "0   0      6\n",
       "1   1      1\n",
       "2   2      8\n",
       "3   3      6\n",
       "4   4      9\n",
       "5   5      3\n",
       "6   6      0\n",
       "7   7      2\n",
       "8   8      9\n",
       "9   9      5"
      ]
     },
     "execution_count": 29,
     "metadata": {},
     "output_type": "execute_result"
    }
   ],
   "source": [
    "df.loc[0:9]"
   ]
  },
  {
   "cell_type": "code",
   "execution_count": 30,
   "id": "4cf38915",
   "metadata": {
    "execution": {
     "iopub.execute_input": "2025-03-15T07:20:06.200214Z",
     "iopub.status.busy": "2025-03-15T07:20:06.199887Z",
     "iopub.status.idle": "2025-03-15T07:20:06.217051Z",
     "shell.execute_reply": "2025-03-15T07:20:06.216422Z"
    },
    "papermill": {
     "duration": 7.795475,
     "end_time": "2025-03-15T07:20:06.218210",
     "exception": false,
     "start_time": "2025-03-15T07:19:58.422735",
     "status": "completed"
    },
    "tags": []
   },
   "outputs": [],
   "source": [
    "df.to_csv('out.csv',index=False)"
   ]
  }
 ],
 "metadata": {
  "kaggle": {
   "accelerator": "gpu",
   "dataSources": [
    {
     "databundleVersionId": 11145869,
     "sourceId": 93057,
     "sourceType": "competition"
    }
   ],
   "dockerImageVersionId": 30919,
   "isGpuEnabled": true,
   "isInternetEnabled": true,
   "language": "python",
   "sourceType": "notebook"
  },
  "kernelspec": {
   "display_name": "DL1",
   "language": "python",
   "name": "python3"
  },
  "language_info": {
   "codemirror_mode": {
    "name": "ipython",
    "version": 3
   },
   "file_extension": ".py",
   "mimetype": "text/x-python",
   "name": "python",
   "nbconvert_exporter": "python",
   "pygments_lexer": "ipython3",
   "version": "3.10.12"
  },
  "papermill": {
   "default_parameters": {},
   "duration": 10608.199954,
   "end_time": "2025-03-15T07:20:17.410482",
   "environment_variables": {},
   "exception": null,
   "input_path": "__notebook__.ipynb",
   "output_path": "__notebook__.ipynb",
   "parameters": {},
   "start_time": "2025-03-15T04:23:29.210528",
   "version": "2.6.0"
  }
 },
 "nbformat": 4,
 "nbformat_minor": 5
}
